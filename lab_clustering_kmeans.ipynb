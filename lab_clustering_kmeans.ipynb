{
  "cells": [
    {
      "cell_type": "markdown",
      "metadata": {
        "id": "r7H-PzjB8HwW"
      },
      "source": [
        "**Clustering avec Kmeans**"
      ]
    },
    {
      "cell_type": "markdown",
      "metadata": {
        "id": "TPjaqXMU8QwN"
      },
      "source": [
        "Les données à regrouper"
      ]
    },
    {
      "cell_type": "code",
      "execution_count": 4,
      "metadata": {
        "id": "_OeP9pkgGWcw"
      },
      "outputs": [],
      "source": [
        "import pandas as pd\n",
        "\n",
        "df_employes=pd.DataFrame([[1200,25],\n",
        "                 [1300,27],\n",
        "                 [1100,27],\n",
        "                 [2500,49],\n",
        "                 [2400,47],\n",
        "                 [2600,45]], \n",
        "                 columns=['salaire','age'])"
      ]
    },
    {
      "cell_type": "markdown",
      "metadata": {
        "id": "DK0hfldC8hT9"
      },
      "source": [
        "Apprentissage avec Kmeans"
      ]
    },
    {
      "cell_type": "code",
      "execution_count": 5,
      "metadata": {
        "id": "g9upC0368SxM"
      },
      "outputs": [
        {
          "name": "stdout",
          "output_type": "stream",
          "text": [
            "[[2500.           47.        ]\n",
            " [1200.           26.33333333]]\n"
          ]
        },
        {
          "data": {
            "image/png": "[encoded data removed]",
            "text/plain": [
              "<Figure size 640x480 with 1 Axes>"
            ]
          },
          "metadata": {},
          "output_type": "display_data"
        }
      ],
      "source": [
        "from sklearn.cluster import KMeans\n",
        "import matplotlib.pyplot as plt\n",
        "\n",
        "kmeans = KMeans(n_clusters=2, random_state=0).fit(df_employes)\n",
        "centroids = kmeans.cluster_centers_\n",
        "print(centroids)\n",
        "\n",
        "plt.scatter(df_employes['salaire'], df_employes['age'], c=kmeans.labels_.astype(float), s=50, alpha=0.5)\n",
        "plt.scatter(centroids[:, 0], centroids[:, 1], c='red', s=50)\n",
        "plt.xlabel(\"salaire\")\n",
        "plt.ylabel(\"age\")\n",
        "plt.title(\"Age vs Salaire\")\n",
        "plt.show()"
      ]
    },
    {
      "cell_type": "markdown",
      "metadata": {
        "id": "JUqqpNYKF5w3"
      },
      "source": [
        "Test avec donénes de test"
      ]
    },
    {
      "cell_type": "code",
      "execution_count": 6,
      "metadata": {
        "colab": {
          "base_uri": "https://localhost:8080/",
          "height": 81
        },
        "id": "H6_DYvPU9RJc",
        "outputId": "1f40fa57-61e3-465a-8e8b-813faeeba9a6"
      },
      "outputs": [
        {
          "data": {
            "text/html": [
              "<div>\n",
              "<style scoped>\n",
              "    .dataframe tbody tr th:only-of-type {\n",
              "        vertical-align: middle;\n",
              "    }\n",
              "\n",
              "    .dataframe tbody tr th {\n",
              "        vertical-align: top;\n",
              "    }\n",
              "\n",
              "    .dataframe thead th {\n",
              "        text-align: right;\n",
              "    }\n",
              "</style>\n",
              "<table border=\"1\" class=\"dataframe\">\n",
              "  <thead>\n",
              "    <tr style=\"text-align: right;\">\n",
              "      <th></th>\n",
              "      <th>salaire</th>\n",
              "      <th>age</th>\n",
              "    </tr>\n",
              "  </thead>\n",
              "  <tbody>\n",
              "    <tr>\n",
              "      <th>0</th>\n",
              "      <td>1900.67</td>\n",
              "      <td>40</td>\n",
              "    </tr>\n",
              "  </tbody>\n",
              "</table>\n",
              "</div>"
            ],
            "text/plain": [
              "   salaire  age\n",
              "0  1900.67   40"
            ]
          },
          "execution_count": 6,
          "metadata": {},
          "output_type": "execute_result"
        }
      ],
      "source": [
        "employe_new1=pd.DataFrame([[1300.67,28]], columns=['salaire','age'])\n",
        "employe_new1\n",
        "\n",
        "employe_new2=pd.DataFrame([[1900.67,40]], columns=['salaire','age'])\n",
        "employe_new2"
      ]
    },
    {
      "cell_type": "code",
      "execution_count": 7,
      "metadata": {
        "colab": {
          "base_uri": "https://localhost:8080/"
        },
        "id": "_Rbu6w6k9JgX",
        "outputId": "042466c6-aa03-486b-8fa2-c457fd227aa2"
      },
      "outputs": [
        {
          "data": {
            "text/plain": [
              "array([1, 1, 1, 0, 0, 0])"
            ]
          },
          "execution_count": 7,
          "metadata": {},
          "output_type": "execute_result"
        }
      ],
      "source": [
        "labels=kmeans.predict(df_employes)\n",
        "labels"
      ]
    },
    {
      "cell_type": "code",
      "execution_count": 8,
      "metadata": {},
      "outputs": [
        {
          "data": {
            "text/plain": [
              "array([0])"
            ]
          },
          "execution_count": 8,
          "metadata": {},
          "output_type": "execute_result"
        }
      ],
      "source": [
        "label_new1=kmeans.predict(employe_new1)\n",
        "label_new1\n",
        "\n",
        "label_new2=kmeans.predict(employe_new2)\n",
        "label_new2"
      ]
    },
    {
      "cell_type": "markdown",
      "metadata": {
        "id": "99dO6auJ-HC0"
      },
      "source": [
        "**Clustering des données réelles**"
      ]
    },
    {
      "cell_type": "code",
      "execution_count": 9,
      "metadata": {
        "colab": {
          "base_uri": "https://localhost:8080/"
        },
        "id": "d4U5hM0m9oTF",
        "outputId": "ed33e75f-cdd3-4c98-95af-48afa40e43bd"
      },
      "outputs": [
        {
          "ename": "ModuleNotFoundError",
          "evalue": "No module named 'google'",
          "output_type": "error",
          "traceback": [
            "\u001b[1;31m---------------------------------------------------------------------------\u001b[0m",
            "\u001b[1;31mModuleNotFoundError\u001b[0m                       Traceback (most recent call last)",
            "\u001b[1;32mc:\\dev\\AI\\Python\\lab_clustering_kmeans.ipynb Cell 11\u001b[0m in \u001b[0;36m<cell line: 2>\u001b[1;34m()\u001b[0m\n\u001b[0;32m      <a href='vscode-notebook-cell:/c%3A/dev/AI/Python/lab_clustering_kmeans.ipynb#X13sZmlsZQ%3D%3D?line=0'>1</a>\u001b[0m \u001b[39m#when you're working on google colab\u001b[39;00m\n\u001b[1;32m----> <a href='vscode-notebook-cell:/c%3A/dev/AI/Python/lab_clustering_kmeans.ipynb#X13sZmlsZQ%3D%3D?line=1'>2</a>\u001b[0m \u001b[39mfrom\u001b[39;00m \u001b[39mgoogle\u001b[39;00m\u001b[39m.\u001b[39;00m\u001b[39mcolab\u001b[39;00m \u001b[39mimport\u001b[39;00m drive\n\u001b[0;32m      <a href='vscode-notebook-cell:/c%3A/dev/AI/Python/lab_clustering_kmeans.ipynb#X13sZmlsZQ%3D%3D?line=2'>3</a>\u001b[0m drive\u001b[39m.\u001b[39mmount(\u001b[39m'\u001b[39m\u001b[39m/content/drive\u001b[39m\u001b[39m'\u001b[39m)\n",
            "\u001b[1;31mModuleNotFoundError\u001b[0m: No module named 'google'"
          ]
        }
      ],
      "source": [
        "#when you're working on google colab\n",
        "from google.colab import drive\n",
        "drive.mount('/content/drive')"
      ]
    },
    {
      "cell_type": "code",
      "execution_count": 10,
      "metadata": {
        "id": "2UEn8-vr-1ws"
      },
      "outputs": [],
      "source": [
        "# when you're working on google colab\n",
        "#data_path='/content/drive/MyDrive/Colab Notebooks/irm2/employes.csv'\n",
        "\n",
        "# when you're working on your computer\n",
        "data_path='./employes.csv'"
      ]
    },
    {
      "cell_type": "markdown",
      "metadata": {
        "id": "L3AxTajbGFPv"
      },
      "source": [
        "Charger les données CSV employes.csv à partir de Google Drive"
      ]
    },
    {
      "cell_type": "code",
      "execution_count": 11,
      "metadata": {
        "colab": {
          "base_uri": "https://localhost:8080/",
          "height": 457
        },
        "id": "HiS6KX5m-1uG",
        "outputId": "552da993-1c4c-4f0b-f306-926c845d5572"
      },
      "outputs": [
        {
          "data": {
            "text/html": [
              "<div>\n",
              "<style scoped>\n",
              "    .dataframe tbody tr th:only-of-type {\n",
              "        vertical-align: middle;\n",
              "    }\n",
              "\n",
              "    .dataframe tbody tr th {\n",
              "        vertical-align: top;\n",
              "    }\n",
              "\n",
              "    .dataframe thead th {\n",
              "        text-align: right;\n",
              "    }\n",
              "</style>\n",
              "<table border=\"1\" class=\"dataframe\">\n",
              "  <thead>\n",
              "    <tr style=\"text-align: right;\">\n",
              "      <th></th>\n",
              "      <th>salaire</th>\n",
              "      <th>prime</th>\n",
              "      <th>etat civil</th>\n",
              "      <th>date recrutement</th>\n",
              "    </tr>\n",
              "    <tr>\n",
              "      <th>nom</th>\n",
              "      <th></th>\n",
              "      <th></th>\n",
              "      <th></th>\n",
              "      <th></th>\n",
              "    </tr>\n",
              "  </thead>\n",
              "  <tbody>\n",
              "    <tr>\n",
              "      <th>Ali</th>\n",
              "      <td>1200.675</td>\n",
              "      <td>100.560</td>\n",
              "      <td>celibataire</td>\n",
              "      <td>20/10/2018</td>\n",
              "    </tr>\n",
              "    <tr>\n",
              "      <th>Sonia</th>\n",
              "      <td>2800.786</td>\n",
              "      <td>400.876</td>\n",
              "      <td>marie</td>\n",
              "      <td>30/11/2005</td>\n",
              "    </tr>\n",
              "    <tr>\n",
              "      <th>Rahma</th>\n",
              "      <td>NaN</td>\n",
              "      <td>130.987</td>\n",
              "      <td>celibataire</td>\n",
              "      <td>04/02/2017</td>\n",
              "    </tr>\n",
              "    <tr>\n",
              "      <th>Salma</th>\n",
              "      <td>2500.876</td>\n",
              "      <td>340.600</td>\n",
              "      <td>marie</td>\n",
              "      <td>03/02/2010</td>\n",
              "    </tr>\n",
              "    <tr>\n",
              "      <th>Ahmed</th>\n",
              "      <td>3100.760</td>\n",
              "      <td>NaN</td>\n",
              "      <td>marie</td>\n",
              "      <td>09/09/2004</td>\n",
              "    </tr>\n",
              "    <tr>\n",
              "      <th>Saleh</th>\n",
              "      <td>1300.876</td>\n",
              "      <td>150.900</td>\n",
              "      <td>celibataire</td>\n",
              "      <td>01/01/2017</td>\n",
              "    </tr>\n",
              "    <tr>\n",
              "      <th>Ameni</th>\n",
              "      <td>1100.660</td>\n",
              "      <td>130.870</td>\n",
              "      <td>celibataire</td>\n",
              "      <td>11/05/2019</td>\n",
              "    </tr>\n",
              "    <tr>\n",
              "      <th>Mehdi</th>\n",
              "      <td>3000.760</td>\n",
              "      <td>NaN</td>\n",
              "      <td>marie</td>\n",
              "      <td>07/07/2000</td>\n",
              "    </tr>\n",
              "    <tr>\n",
              "      <th>Salem</th>\n",
              "      <td>1505.760</td>\n",
              "      <td>159.700</td>\n",
              "      <td>celibataire</td>\n",
              "      <td>21/11/2017</td>\n",
              "    </tr>\n",
              "    <tr>\n",
              "      <th>Sameh</th>\n",
              "      <td>2700.330</td>\n",
              "      <td>400.000</td>\n",
              "      <td>marie</td>\n",
              "      <td>19/02/1999</td>\n",
              "    </tr>\n",
              "    <tr>\n",
              "      <th>Wajdi</th>\n",
              "      <td>1200.980</td>\n",
              "      <td>NaN</td>\n",
              "      <td>celibataire</td>\n",
              "      <td>27/11/2015</td>\n",
              "    </tr>\n",
              "    <tr>\n",
              "      <th>Moufida</th>\n",
              "      <td>3700.440</td>\n",
              "      <td>500.000</td>\n",
              "      <td>marie</td>\n",
              "      <td>09/12/1991</td>\n",
              "    </tr>\n",
              "  </tbody>\n",
              "</table>\n",
              "</div>"
            ],
            "text/plain": [
              "          salaire    prime   etat civil date recrutement\n",
              "nom                                                     \n",
              "Ali      1200.675  100.560  celibataire       20/10/2018\n",
              "Sonia    2800.786  400.876        marie       30/11/2005\n",
              "Rahma         NaN  130.987  celibataire       04/02/2017\n",
              "Salma    2500.876  340.600        marie       03/02/2010\n",
              "Ahmed    3100.760      NaN        marie       09/09/2004\n",
              "Saleh    1300.876  150.900  celibataire       01/01/2017\n",
              "Ameni    1100.660  130.870  celibataire       11/05/2019\n",
              "Mehdi    3000.760      NaN        marie       07/07/2000\n",
              "Salem    1505.760  159.700  celibataire       21/11/2017\n",
              "Sameh    2700.330  400.000        marie       19/02/1999\n",
              "Wajdi    1200.980      NaN  celibataire       27/11/2015\n",
              "Moufida  3700.440  500.000        marie       09/12/1991"
            ]
          },
          "execution_count": 11,
          "metadata": {},
          "output_type": "execute_result"
        }
      ],
      "source": [
        "df_employes = pd.read_csv(data_path, index_col=0, header=0)\n",
        "df_employes"
      ]
    },
    {
      "cell_type": "markdown",
      "metadata": {
        "id": "6vbteAwUGNN2"
      },
      "source": [
        "Transformer les données de format brute en format numérique"
      ]
    },
    {
      "cell_type": "code",
      "execution_count": 12,
      "metadata": {},
      "outputs": [],
      "source": [
        "df_=df_employes.copy() # _ means copy of df_\n"
      ]
    },
    {
      "cell_type": "code",
      "execution_count": 13,
      "metadata": {
        "colab": {
          "base_uri": "https://localhost:8080/",
          "height": 457
        },
        "id": "mFnWju-E-1rt",
        "outputId": "6056ed07-8208-40a5-9005-951285baee61"
      },
      "outputs": [
        {
          "data": {
            "text/html": [
              "<div>\n",
              "<style scoped>\n",
              "    .dataframe tbody tr th:only-of-type {\n",
              "        vertical-align: middle;\n",
              "    }\n",
              "\n",
              "    .dataframe tbody tr th {\n",
              "        vertical-align: top;\n",
              "    }\n",
              "\n",
              "    .dataframe thead th {\n",
              "        text-align: right;\n",
              "    }\n",
              "</style>\n",
              "<table border=\"1\" class=\"dataframe\">\n",
              "  <thead>\n",
              "    <tr style=\"text-align: right;\">\n",
              "      <th></th>\n",
              "      <th>salaire</th>\n",
              "      <th>prime</th>\n",
              "      <th>etat civil</th>\n",
              "      <th>date recrutement</th>\n",
              "    </tr>\n",
              "    <tr>\n",
              "      <th>nom</th>\n",
              "      <th></th>\n",
              "      <th></th>\n",
              "      <th></th>\n",
              "      <th></th>\n",
              "    </tr>\n",
              "  </thead>\n",
              "  <tbody>\n",
              "    <tr>\n",
              "      <th>Ali</th>\n",
              "      <td>1200.675000</td>\n",
              "      <td>100.560000</td>\n",
              "      <td>celibataire</td>\n",
              "      <td>20/10/2018</td>\n",
              "    </tr>\n",
              "    <tr>\n",
              "      <th>Sonia</th>\n",
              "      <td>2800.786000</td>\n",
              "      <td>400.876000</td>\n",
              "      <td>marie</td>\n",
              "      <td>30/11/2005</td>\n",
              "    </tr>\n",
              "    <tr>\n",
              "      <th>Rahma</th>\n",
              "      <td>2192.082091</td>\n",
              "      <td>130.987000</td>\n",
              "      <td>celibataire</td>\n",
              "      <td>04/02/2017</td>\n",
              "    </tr>\n",
              "    <tr>\n",
              "      <th>Salma</th>\n",
              "      <td>2500.876000</td>\n",
              "      <td>340.600000</td>\n",
              "      <td>marie</td>\n",
              "      <td>03/02/2010</td>\n",
              "    </tr>\n",
              "    <tr>\n",
              "      <th>Ahmed</th>\n",
              "      <td>3100.760000</td>\n",
              "      <td>257.165889</td>\n",
              "      <td>marie</td>\n",
              "      <td>09/09/2004</td>\n",
              "    </tr>\n",
              "    <tr>\n",
              "      <th>Saleh</th>\n",
              "      <td>1300.876000</td>\n",
              "      <td>150.900000</td>\n",
              "      <td>celibataire</td>\n",
              "      <td>01/01/2017</td>\n",
              "    </tr>\n",
              "    <tr>\n",
              "      <th>Ameni</th>\n",
              "      <td>1100.660000</td>\n",
              "      <td>130.870000</td>\n",
              "      <td>celibataire</td>\n",
              "      <td>11/05/2019</td>\n",
              "    </tr>\n",
              "    <tr>\n",
              "      <th>Mehdi</th>\n",
              "      <td>3000.760000</td>\n",
              "      <td>257.165889</td>\n",
              "      <td>marie</td>\n",
              "      <td>07/07/2000</td>\n",
              "    </tr>\n",
              "    <tr>\n",
              "      <th>Salem</th>\n",
              "      <td>1505.760000</td>\n",
              "      <td>159.700000</td>\n",
              "      <td>celibataire</td>\n",
              "      <td>21/11/2017</td>\n",
              "    </tr>\n",
              "    <tr>\n",
              "      <th>Sameh</th>\n",
              "      <td>2700.330000</td>\n",
              "      <td>400.000000</td>\n",
              "      <td>marie</td>\n",
              "      <td>19/02/1999</td>\n",
              "    </tr>\n",
              "    <tr>\n",
              "      <th>Wajdi</th>\n",
              "      <td>1200.980000</td>\n",
              "      <td>257.165889</td>\n",
              "      <td>celibataire</td>\n",
              "      <td>27/11/2015</td>\n",
              "    </tr>\n",
              "    <tr>\n",
              "      <th>Moufida</th>\n",
              "      <td>3700.440000</td>\n",
              "      <td>500.000000</td>\n",
              "      <td>marie</td>\n",
              "      <td>09/12/1991</td>\n",
              "    </tr>\n",
              "  </tbody>\n",
              "</table>\n",
              "</div>"
            ],
            "text/plain": [
              "             salaire       prime   etat civil date recrutement\n",
              "nom                                                           \n",
              "Ali      1200.675000  100.560000  celibataire       20/10/2018\n",
              "Sonia    2800.786000  400.876000        marie       30/11/2005\n",
              "Rahma    2192.082091  130.987000  celibataire       04/02/2017\n",
              "Salma    2500.876000  340.600000        marie       03/02/2010\n",
              "Ahmed    3100.760000  257.165889        marie       09/09/2004\n",
              "Saleh    1300.876000  150.900000  celibataire       01/01/2017\n",
              "Ameni    1100.660000  130.870000  celibataire       11/05/2019\n",
              "Mehdi    3000.760000  257.165889        marie       07/07/2000\n",
              "Salem    1505.760000  159.700000  celibataire       21/11/2017\n",
              "Sameh    2700.330000  400.000000        marie       19/02/1999\n",
              "Wajdi    1200.980000  257.165889  celibataire       27/11/2015\n",
              "Moufida  3700.440000  500.000000        marie       09/12/1991"
            ]
          },
          "execution_count": 13,
          "metadata": {},
          "output_type": "execute_result"
        }
      ],
      "source": [
        "# fill missing values with the mean column values (NaN)\n",
        "df_.fillna({'salaire': df_employes.salaire.mean(), \n",
        "                    'prime': df_employes.prime.mean()}, inplace=True)\n",
        "\n",
        "df_"
      ]
    },
    {
      "cell_type": "code",
      "execution_count": 14,
      "metadata": {},
      "outputs": [
        {
          "name": "stderr",
          "output_type": "stream",
          "text": [
            "C:\\Users\\abbas\\AppData\\Local\\Temp\\ipykernel_12972\\3328830615.py:2: UserWarning: Parsing '20/10/2018' in DD/MM/YYYY format. Provide format or specify infer_datetime_format=True for consistent parsing.\n",
            "  df_['date recrutement'] = pd.to_datetime(df_['date recrutement'])\n",
            "C:\\Users\\abbas\\AppData\\Local\\Temp\\ipykernel_12972\\3328830615.py:2: UserWarning: Parsing '30/11/2005' in DD/MM/YYYY format. Provide format or specify infer_datetime_format=True for consistent parsing.\n",
            "  df_['date recrutement'] = pd.to_datetime(df_['date recrutement'])\n",
            "C:\\Users\\abbas\\AppData\\Local\\Temp\\ipykernel_12972\\3328830615.py:2: UserWarning: Parsing '21/11/2017' in DD/MM/YYYY format. Provide format or specify infer_datetime_format=True for consistent parsing.\n",
            "  df_['date recrutement'] = pd.to_datetime(df_['date recrutement'])\n",
            "C:\\Users\\abbas\\AppData\\Local\\Temp\\ipykernel_12972\\3328830615.py:2: UserWarning: Parsing '19/02/1999' in DD/MM/YYYY format. Provide format or specify infer_datetime_format=True for consistent parsing.\n",
            "  df_['date recrutement'] = pd.to_datetime(df_['date recrutement'])\n",
            "C:\\Users\\abbas\\AppData\\Local\\Temp\\ipykernel_12972\\3328830615.py:2: UserWarning: Parsing '27/11/2015' in DD/MM/YYYY format. Provide format or specify infer_datetime_format=True for consistent parsing.\n",
            "  df_['date recrutement'] = pd.to_datetime(df_['date recrutement'])\n"
          ]
        },
        {
          "data": {
            "text/plain": [
              "nom\n",
              "Ali       2018-10-20\n",
              "Sonia     2005-11-30\n",
              "Rahma     2017-04-02\n",
              "Salma     2010-03-02\n",
              "Ahmed     2004-09-09\n",
              "Saleh     2017-01-01\n",
              "Ameni     2019-11-05\n",
              "Mehdi     2000-07-07\n",
              "Salem     2017-11-21\n",
              "Sameh     1999-02-19\n",
              "Wajdi     2015-11-27\n",
              "Moufida   1991-09-12\n",
              "Name: date recrutement, dtype: datetime64[ns]"
            ]
          },
          "execution_count": 14,
          "metadata": {},
          "output_type": "execute_result"
        }
      ],
      "source": [
        "# convert date de recrutement to datetime using to_datetime function of pandas\n",
        "df_['date recrutement'] = pd.to_datetime(df_['date recrutement'])\n",
        "df_['date recrutement']"
      ]
    },
    {
      "cell_type": "code",
      "execution_count": 15,
      "metadata": {},
      "outputs": [
        {
          "data": {
            "text/html": [
              "<div>\n",
              "<style scoped>\n",
              "    .dataframe tbody tr th:only-of-type {\n",
              "        vertical-align: middle;\n",
              "    }\n",
              "\n",
              "    .dataframe tbody tr th {\n",
              "        vertical-align: top;\n",
              "    }\n",
              "\n",
              "    .dataframe thead th {\n",
              "        text-align: right;\n",
              "    }\n",
              "</style>\n",
              "<table border=\"1\" class=\"dataframe\">\n",
              "  <thead>\n",
              "    <tr style=\"text-align: right;\">\n",
              "      <th></th>\n",
              "      <th>salaire</th>\n",
              "      <th>prime</th>\n",
              "      <th>etat civil</th>\n",
              "      <th>date recrutement</th>\n",
              "      <th>anciennete</th>\n",
              "    </tr>\n",
              "    <tr>\n",
              "      <th>nom</th>\n",
              "      <th></th>\n",
              "      <th></th>\n",
              "      <th></th>\n",
              "      <th></th>\n",
              "      <th></th>\n",
              "    </tr>\n",
              "  </thead>\n",
              "  <tbody>\n",
              "    <tr>\n",
              "      <th>Ali</th>\n",
              "      <td>1200.675000</td>\n",
              "      <td>100.560000</td>\n",
              "      <td>celibataire</td>\n",
              "      <td>2018-10-20</td>\n",
              "      <td>4</td>\n",
              "    </tr>\n",
              "    <tr>\n",
              "      <th>Sonia</th>\n",
              "      <td>2800.786000</td>\n",
              "      <td>400.876000</td>\n",
              "      <td>marie</td>\n",
              "      <td>2005-11-30</td>\n",
              "      <td>17</td>\n",
              "    </tr>\n",
              "    <tr>\n",
              "      <th>Rahma</th>\n",
              "      <td>2192.082091</td>\n",
              "      <td>130.987000</td>\n",
              "      <td>celibataire</td>\n",
              "      <td>2017-04-02</td>\n",
              "      <td>5</td>\n",
              "    </tr>\n",
              "    <tr>\n",
              "      <th>Salma</th>\n",
              "      <td>2500.876000</td>\n",
              "      <td>340.600000</td>\n",
              "      <td>marie</td>\n",
              "      <td>2010-03-02</td>\n",
              "      <td>12</td>\n",
              "    </tr>\n",
              "    <tr>\n",
              "      <th>Ahmed</th>\n",
              "      <td>3100.760000</td>\n",
              "      <td>257.165889</td>\n",
              "      <td>marie</td>\n",
              "      <td>2004-09-09</td>\n",
              "      <td>18</td>\n",
              "    </tr>\n",
              "    <tr>\n",
              "      <th>Saleh</th>\n",
              "      <td>1300.876000</td>\n",
              "      <td>150.900000</td>\n",
              "      <td>celibataire</td>\n",
              "      <td>2017-01-01</td>\n",
              "      <td>5</td>\n",
              "    </tr>\n",
              "    <tr>\n",
              "      <th>Ameni</th>\n",
              "      <td>1100.660000</td>\n",
              "      <td>130.870000</td>\n",
              "      <td>celibataire</td>\n",
              "      <td>2019-11-05</td>\n",
              "      <td>3</td>\n",
              "    </tr>\n",
              "    <tr>\n",
              "      <th>Mehdi</th>\n",
              "      <td>3000.760000</td>\n",
              "      <td>257.165889</td>\n",
              "      <td>marie</td>\n",
              "      <td>2000-07-07</td>\n",
              "      <td>22</td>\n",
              "    </tr>\n",
              "    <tr>\n",
              "      <th>Salem</th>\n",
              "      <td>1505.760000</td>\n",
              "      <td>159.700000</td>\n",
              "      <td>celibataire</td>\n",
              "      <td>2017-11-21</td>\n",
              "      <td>5</td>\n",
              "    </tr>\n",
              "    <tr>\n",
              "      <th>Sameh</th>\n",
              "      <td>2700.330000</td>\n",
              "      <td>400.000000</td>\n",
              "      <td>marie</td>\n",
              "      <td>1999-02-19</td>\n",
              "      <td>23</td>\n",
              "    </tr>\n",
              "    <tr>\n",
              "      <th>Wajdi</th>\n",
              "      <td>1200.980000</td>\n",
              "      <td>257.165889</td>\n",
              "      <td>celibataire</td>\n",
              "      <td>2015-11-27</td>\n",
              "      <td>7</td>\n",
              "    </tr>\n",
              "    <tr>\n",
              "      <th>Moufida</th>\n",
              "      <td>3700.440000</td>\n",
              "      <td>500.000000</td>\n",
              "      <td>marie</td>\n",
              "      <td>1991-09-12</td>\n",
              "      <td>31</td>\n",
              "    </tr>\n",
              "  </tbody>\n",
              "</table>\n",
              "</div>"
            ],
            "text/plain": [
              "             salaire       prime   etat civil date recrutement  anciennete\n",
              "nom                                                                       \n",
              "Ali      1200.675000  100.560000  celibataire       2018-10-20           4\n",
              "Sonia    2800.786000  400.876000        marie       2005-11-30          17\n",
              "Rahma    2192.082091  130.987000  celibataire       2017-04-02           5\n",
              "Salma    2500.876000  340.600000        marie       2010-03-02          12\n",
              "Ahmed    3100.760000  257.165889        marie       2004-09-09          18\n",
              "Saleh    1300.876000  150.900000  celibataire       2017-01-01           5\n",
              "Ameni    1100.660000  130.870000  celibataire       2019-11-05           3\n",
              "Mehdi    3000.760000  257.165889        marie       2000-07-07          22\n",
              "Salem    1505.760000  159.700000  celibataire       2017-11-21           5\n",
              "Sameh    2700.330000  400.000000        marie       1999-02-19          23\n",
              "Wajdi    1200.980000  257.165889  celibataire       2015-11-27           7\n",
              "Moufida  3700.440000  500.000000        marie       1991-09-12          31"
            ]
          },
          "execution_count": 15,
          "metadata": {},
          "output_type": "execute_result"
        }
      ],
      "source": [
        "from datetime import datetime\n",
        "\n",
        "df_['date recrutement'].apply(lambda date: datetime.now().year - date.year)\n",
        "\n",
        "df_['anciennete'] = df_['date recrutement'].apply(lambda date: datetime.now().year - date.year)\n",
        "df_"
      ]
    },
    {
      "cell_type": "code",
      "execution_count": 16,
      "metadata": {},
      "outputs": [
        {
          "data": {
            "text/html": [
              "<div>\n",
              "<style scoped>\n",
              "    .dataframe tbody tr th:only-of-type {\n",
              "        vertical-align: middle;\n",
              "    }\n",
              "\n",
              "    .dataframe tbody tr th {\n",
              "        vertical-align: top;\n",
              "    }\n",
              "\n",
              "    .dataframe thead th {\n",
              "        text-align: right;\n",
              "    }\n",
              "</style>\n",
              "<table border=\"1\" class=\"dataframe\">\n",
              "  <thead>\n",
              "    <tr style=\"text-align: right;\">\n",
              "      <th></th>\n",
              "      <th>salaire</th>\n",
              "      <th>prime</th>\n",
              "      <th>etat civil</th>\n",
              "      <th>anciennete</th>\n",
              "    </tr>\n",
              "    <tr>\n",
              "      <th>nom</th>\n",
              "      <th></th>\n",
              "      <th></th>\n",
              "      <th></th>\n",
              "      <th></th>\n",
              "    </tr>\n",
              "  </thead>\n",
              "  <tbody>\n",
              "    <tr>\n",
              "      <th>Ali</th>\n",
              "      <td>1200.675000</td>\n",
              "      <td>100.560000</td>\n",
              "      <td>celibataire</td>\n",
              "      <td>4</td>\n",
              "    </tr>\n",
              "    <tr>\n",
              "      <th>Sonia</th>\n",
              "      <td>2800.786000</td>\n",
              "      <td>400.876000</td>\n",
              "      <td>marie</td>\n",
              "      <td>17</td>\n",
              "    </tr>\n",
              "    <tr>\n",
              "      <th>Rahma</th>\n",
              "      <td>2192.082091</td>\n",
              "      <td>130.987000</td>\n",
              "      <td>celibataire</td>\n",
              "      <td>5</td>\n",
              "    </tr>\n",
              "    <tr>\n",
              "      <th>Salma</th>\n",
              "      <td>2500.876000</td>\n",
              "      <td>340.600000</td>\n",
              "      <td>marie</td>\n",
              "      <td>12</td>\n",
              "    </tr>\n",
              "    <tr>\n",
              "      <th>Ahmed</th>\n",
              "      <td>3100.760000</td>\n",
              "      <td>257.165889</td>\n",
              "      <td>marie</td>\n",
              "      <td>18</td>\n",
              "    </tr>\n",
              "    <tr>\n",
              "      <th>Saleh</th>\n",
              "      <td>1300.876000</td>\n",
              "      <td>150.900000</td>\n",
              "      <td>celibataire</td>\n",
              "      <td>5</td>\n",
              "    </tr>\n",
              "    <tr>\n",
              "      <th>Ameni</th>\n",
              "      <td>1100.660000</td>\n",
              "      <td>130.870000</td>\n",
              "      <td>celibataire</td>\n",
              "      <td>3</td>\n",
              "    </tr>\n",
              "    <tr>\n",
              "      <th>Mehdi</th>\n",
              "      <td>3000.760000</td>\n",
              "      <td>257.165889</td>\n",
              "      <td>marie</td>\n",
              "      <td>22</td>\n",
              "    </tr>\n",
              "    <tr>\n",
              "      <th>Salem</th>\n",
              "      <td>1505.760000</td>\n",
              "      <td>159.700000</td>\n",
              "      <td>celibataire</td>\n",
              "      <td>5</td>\n",
              "    </tr>\n",
              "    <tr>\n",
              "      <th>Sameh</th>\n",
              "      <td>2700.330000</td>\n",
              "      <td>400.000000</td>\n",
              "      <td>marie</td>\n",
              "      <td>23</td>\n",
              "    </tr>\n",
              "    <tr>\n",
              "      <th>Wajdi</th>\n",
              "      <td>1200.980000</td>\n",
              "      <td>257.165889</td>\n",
              "      <td>celibataire</td>\n",
              "      <td>7</td>\n",
              "    </tr>\n",
              "    <tr>\n",
              "      <th>Moufida</th>\n",
              "      <td>3700.440000</td>\n",
              "      <td>500.000000</td>\n",
              "      <td>marie</td>\n",
              "      <td>31</td>\n",
              "    </tr>\n",
              "  </tbody>\n",
              "</table>\n",
              "</div>"
            ],
            "text/plain": [
              "             salaire       prime   etat civil  anciennete\n",
              "nom                                                      \n",
              "Ali      1200.675000  100.560000  celibataire           4\n",
              "Sonia    2800.786000  400.876000        marie          17\n",
              "Rahma    2192.082091  130.987000  celibataire           5\n",
              "Salma    2500.876000  340.600000        marie          12\n",
              "Ahmed    3100.760000  257.165889        marie          18\n",
              "Saleh    1300.876000  150.900000  celibataire           5\n",
              "Ameni    1100.660000  130.870000  celibataire           3\n",
              "Mehdi    3000.760000  257.165889        marie          22\n",
              "Salem    1505.760000  159.700000  celibataire           5\n",
              "Sameh    2700.330000  400.000000        marie          23\n",
              "Wajdi    1200.980000  257.165889  celibataire           7\n",
              "Moufida  3700.440000  500.000000        marie          31"
            ]
          },
          "execution_count": 16,
          "metadata": {},
          "output_type": "execute_result"
        }
      ],
      "source": [
        "df_.drop('date recrutement', axis=1, errors='ignore',inplace=True)\n",
        "df_"
      ]
    },
    {
      "cell_type": "code",
      "execution_count": 17,
      "metadata": {},
      "outputs": [
        {
          "data": {
            "text/plain": [
              "[array(['celibataire', 'marie'], dtype=object)]"
            ]
          },
          "execution_count": 17,
          "metadata": {},
          "output_type": "execute_result"
        }
      ],
      "source": [
        "from sklearn.preprocessing import OneHotEncoder\n",
        "\n",
        "# one hot encoding: convert categorical data to numerical data\n",
        "\n",
        "ohe=OneHotEncoder().fit(df_[['etat civil']])\n",
        "\n",
        "ohe.categories_"
      ]
    },
    {
      "cell_type": "code",
      "execution_count": 18,
      "metadata": {},
      "outputs": [
        {
          "data": {
            "text/plain": [
              "array([[1., 0.],\n",
              "       [0., 1.],\n",
              "       [1., 0.],\n",
              "       [0., 1.],\n",
              "       [0., 1.],\n",
              "       [1., 0.],\n",
              "       [1., 0.],\n",
              "       [0., 1.],\n",
              "       [1., 0.],\n",
              "       [0., 1.],\n",
              "       [1., 0.],\n",
              "       [0., 1.]])"
            ]
          },
          "execution_count": 18,
          "metadata": {},
          "output_type": "execute_result"
        }
      ],
      "source": [
        "etat_civil_sparse = ohe.transform(df_[['etat civil']])\n",
        "etat_civil = etat_civil_sparse.toarray()\n",
        "etat_civil"
      ]
    },
    {
      "cell_type": "code",
      "execution_count": 19,
      "metadata": {},
      "outputs": [
        {
          "data": {
            "text/html": [
              "<div>\n",
              "<style scoped>\n",
              "    .dataframe tbody tr th:only-of-type {\n",
              "        vertical-align: middle;\n",
              "    }\n",
              "\n",
              "    .dataframe tbody tr th {\n",
              "        vertical-align: top;\n",
              "    }\n",
              "\n",
              "    .dataframe thead th {\n",
              "        text-align: right;\n",
              "    }\n",
              "</style>\n",
              "<table border=\"1\" class=\"dataframe\">\n",
              "  <thead>\n",
              "    <tr style=\"text-align: right;\">\n",
              "      <th></th>\n",
              "      <th>etat civile celibataire</th>\n",
              "      <th>etat civile marie</th>\n",
              "    </tr>\n",
              "    <tr>\n",
              "      <th>nom</th>\n",
              "      <th></th>\n",
              "      <th></th>\n",
              "    </tr>\n",
              "  </thead>\n",
              "  <tbody>\n",
              "    <tr>\n",
              "      <th>Ali</th>\n",
              "      <td>1.0</td>\n",
              "      <td>0.0</td>\n",
              "    </tr>\n",
              "    <tr>\n",
              "      <th>Sonia</th>\n",
              "      <td>0.0</td>\n",
              "      <td>1.0</td>\n",
              "    </tr>\n",
              "    <tr>\n",
              "      <th>Rahma</th>\n",
              "      <td>1.0</td>\n",
              "      <td>0.0</td>\n",
              "    </tr>\n",
              "    <tr>\n",
              "      <th>Salma</th>\n",
              "      <td>0.0</td>\n",
              "      <td>1.0</td>\n",
              "    </tr>\n",
              "    <tr>\n",
              "      <th>Ahmed</th>\n",
              "      <td>0.0</td>\n",
              "      <td>1.0</td>\n",
              "    </tr>\n",
              "    <tr>\n",
              "      <th>Saleh</th>\n",
              "      <td>1.0</td>\n",
              "      <td>0.0</td>\n",
              "    </tr>\n",
              "    <tr>\n",
              "      <th>Ameni</th>\n",
              "      <td>1.0</td>\n",
              "      <td>0.0</td>\n",
              "    </tr>\n",
              "    <tr>\n",
              "      <th>Mehdi</th>\n",
              "      <td>0.0</td>\n",
              "      <td>1.0</td>\n",
              "    </tr>\n",
              "    <tr>\n",
              "      <th>Salem</th>\n",
              "      <td>1.0</td>\n",
              "      <td>0.0</td>\n",
              "    </tr>\n",
              "    <tr>\n",
              "      <th>Sameh</th>\n",
              "      <td>0.0</td>\n",
              "      <td>1.0</td>\n",
              "    </tr>\n",
              "    <tr>\n",
              "      <th>Wajdi</th>\n",
              "      <td>1.0</td>\n",
              "      <td>0.0</td>\n",
              "    </tr>\n",
              "    <tr>\n",
              "      <th>Moufida</th>\n",
              "      <td>0.0</td>\n",
              "      <td>1.0</td>\n",
              "    </tr>\n",
              "  </tbody>\n",
              "</table>\n",
              "</div>"
            ],
            "text/plain": [
              "         etat civile celibataire  etat civile marie\n",
              "nom                                                \n",
              "Ali                          1.0                0.0\n",
              "Sonia                        0.0                1.0\n",
              "Rahma                        1.0                0.0\n",
              "Salma                        0.0                1.0\n",
              "Ahmed                        0.0                1.0\n",
              "Saleh                        1.0                0.0\n",
              "Ameni                        1.0                0.0\n",
              "Mehdi                        0.0                1.0\n",
              "Salem                        1.0                0.0\n",
              "Sameh                        0.0                1.0\n",
              "Wajdi                        1.0                0.0\n",
              "Moufida                      0.0                1.0"
            ]
          },
          "execution_count": 19,
          "metadata": {},
          "output_type": "execute_result"
        }
      ],
      "source": [
        "df_etat_civile = pd.DataFrame(etat_civil, index = df_.index, columns = ['etat civile celibataire', 'etat civile marie'])\n",
        "df_etat_civile"
      ]
    },
    {
      "cell_type": "code",
      "execution_count": 20,
      "metadata": {},
      "outputs": [
        {
          "data": {
            "text/html": [
              "<div>\n",
              "<style scoped>\n",
              "    .dataframe tbody tr th:only-of-type {\n",
              "        vertical-align: middle;\n",
              "    }\n",
              "\n",
              "    .dataframe tbody tr th {\n",
              "        vertical-align: top;\n",
              "    }\n",
              "\n",
              "    .dataframe thead th {\n",
              "        text-align: right;\n",
              "    }\n",
              "</style>\n",
              "<table border=\"1\" class=\"dataframe\">\n",
              "  <thead>\n",
              "    <tr style=\"text-align: right;\">\n",
              "      <th></th>\n",
              "      <th>salaire</th>\n",
              "      <th>prime</th>\n",
              "      <th>etat civil</th>\n",
              "      <th>anciennete</th>\n",
              "      <th>etat civile celibataire</th>\n",
              "      <th>etat civile marie</th>\n",
              "    </tr>\n",
              "    <tr>\n",
              "      <th>nom</th>\n",
              "      <th></th>\n",
              "      <th></th>\n",
              "      <th></th>\n",
              "      <th></th>\n",
              "      <th></th>\n",
              "      <th></th>\n",
              "    </tr>\n",
              "  </thead>\n",
              "  <tbody>\n",
              "    <tr>\n",
              "      <th>Ali</th>\n",
              "      <td>1200.675000</td>\n",
              "      <td>100.560000</td>\n",
              "      <td>celibataire</td>\n",
              "      <td>4</td>\n",
              "      <td>1.0</td>\n",
              "      <td>0.0</td>\n",
              "    </tr>\n",
              "    <tr>\n",
              "      <th>Sonia</th>\n",
              "      <td>2800.786000</td>\n",
              "      <td>400.876000</td>\n",
              "      <td>marie</td>\n",
              "      <td>17</td>\n",
              "      <td>0.0</td>\n",
              "      <td>1.0</td>\n",
              "    </tr>\n",
              "    <tr>\n",
              "      <th>Rahma</th>\n",
              "      <td>2192.082091</td>\n",
              "      <td>130.987000</td>\n",
              "      <td>celibataire</td>\n",
              "      <td>5</td>\n",
              "      <td>1.0</td>\n",
              "      <td>0.0</td>\n",
              "    </tr>\n",
              "    <tr>\n",
              "      <th>Salma</th>\n",
              "      <td>2500.876000</td>\n",
              "      <td>340.600000</td>\n",
              "      <td>marie</td>\n",
              "      <td>12</td>\n",
              "      <td>0.0</td>\n",
              "      <td>1.0</td>\n",
              "    </tr>\n",
              "    <tr>\n",
              "      <th>Ahmed</th>\n",
              "      <td>3100.760000</td>\n",
              "      <td>257.165889</td>\n",
              "      <td>marie</td>\n",
              "      <td>18</td>\n",
              "      <td>0.0</td>\n",
              "      <td>1.0</td>\n",
              "    </tr>\n",
              "    <tr>\n",
              "      <th>Saleh</th>\n",
              "      <td>1300.876000</td>\n",
              "      <td>150.900000</td>\n",
              "      <td>celibataire</td>\n",
              "      <td>5</td>\n",
              "      <td>1.0</td>\n",
              "      <td>0.0</td>\n",
              "    </tr>\n",
              "    <tr>\n",
              "      <th>Ameni</th>\n",
              "      <td>1100.660000</td>\n",
              "      <td>130.870000</td>\n",
              "      <td>celibataire</td>\n",
              "      <td>3</td>\n",
              "      <td>1.0</td>\n",
              "      <td>0.0</td>\n",
              "    </tr>\n",
              "    <tr>\n",
              "      <th>Mehdi</th>\n",
              "      <td>3000.760000</td>\n",
              "      <td>257.165889</td>\n",
              "      <td>marie</td>\n",
              "      <td>22</td>\n",
              "      <td>0.0</td>\n",
              "      <td>1.0</td>\n",
              "    </tr>\n",
              "    <tr>\n",
              "      <th>Salem</th>\n",
              "      <td>1505.760000</td>\n",
              "      <td>159.700000</td>\n",
              "      <td>celibataire</td>\n",
              "      <td>5</td>\n",
              "      <td>1.0</td>\n",
              "      <td>0.0</td>\n",
              "    </tr>\n",
              "    <tr>\n",
              "      <th>Sameh</th>\n",
              "      <td>2700.330000</td>\n",
              "      <td>400.000000</td>\n",
              "      <td>marie</td>\n",
              "      <td>23</td>\n",
              "      <td>0.0</td>\n",
              "      <td>1.0</td>\n",
              "    </tr>\n",
              "    <tr>\n",
              "      <th>Wajdi</th>\n",
              "      <td>1200.980000</td>\n",
              "      <td>257.165889</td>\n",
              "      <td>celibataire</td>\n",
              "      <td>7</td>\n",
              "      <td>1.0</td>\n",
              "      <td>0.0</td>\n",
              "    </tr>\n",
              "    <tr>\n",
              "      <th>Moufida</th>\n",
              "      <td>3700.440000</td>\n",
              "      <td>500.000000</td>\n",
              "      <td>marie</td>\n",
              "      <td>31</td>\n",
              "      <td>0.0</td>\n",
              "      <td>1.0</td>\n",
              "    </tr>\n",
              "  </tbody>\n",
              "</table>\n",
              "</div>"
            ],
            "text/plain": [
              "             salaire       prime   etat civil  anciennete  \\\n",
              "nom                                                         \n",
              "Ali      1200.675000  100.560000  celibataire           4   \n",
              "Sonia    2800.786000  400.876000        marie          17   \n",
              "Rahma    2192.082091  130.987000  celibataire           5   \n",
              "Salma    2500.876000  340.600000        marie          12   \n",
              "Ahmed    3100.760000  257.165889        marie          18   \n",
              "Saleh    1300.876000  150.900000  celibataire           5   \n",
              "Ameni    1100.660000  130.870000  celibataire           3   \n",
              "Mehdi    3000.760000  257.165889        marie          22   \n",
              "Salem    1505.760000  159.700000  celibataire           5   \n",
              "Sameh    2700.330000  400.000000        marie          23   \n",
              "Wajdi    1200.980000  257.165889  celibataire           7   \n",
              "Moufida  3700.440000  500.000000        marie          31   \n",
              "\n",
              "         etat civile celibataire  etat civile marie  \n",
              "nom                                                  \n",
              "Ali                          1.0                0.0  \n",
              "Sonia                        0.0                1.0  \n",
              "Rahma                        1.0                0.0  \n",
              "Salma                        0.0                1.0  \n",
              "Ahmed                        0.0                1.0  \n",
              "Saleh                        1.0                0.0  \n",
              "Ameni                        1.0                0.0  \n",
              "Mehdi                        0.0                1.0  \n",
              "Salem                        1.0                0.0  \n",
              "Sameh                        0.0                1.0  \n",
              "Wajdi                        1.0                0.0  \n",
              "Moufida                      0.0                1.0  "
            ]
          },
          "execution_count": 20,
          "metadata": {},
          "output_type": "execute_result"
        }
      ],
      "source": [
        "df_= pd.concat([df_, df_etat_civile], axis=1)\n",
        "df_"
      ]
    },
    {
      "cell_type": "code",
      "execution_count": 21,
      "metadata": {},
      "outputs": [
        {
          "data": {
            "text/html": [
              "<div>\n",
              "<style scoped>\n",
              "    .dataframe tbody tr th:only-of-type {\n",
              "        vertical-align: middle;\n",
              "    }\n",
              "\n",
              "    .dataframe tbody tr th {\n",
              "        vertical-align: top;\n",
              "    }\n",
              "\n",
              "    .dataframe thead th {\n",
              "        text-align: right;\n",
              "    }\n",
              "</style>\n",
              "<table border=\"1\" class=\"dataframe\">\n",
              "  <thead>\n",
              "    <tr style=\"text-align: right;\">\n",
              "      <th></th>\n",
              "      <th>salaire</th>\n",
              "      <th>prime</th>\n",
              "      <th>anciennete</th>\n",
              "      <th>etat civile celibataire</th>\n",
              "      <th>etat civile marie</th>\n",
              "    </tr>\n",
              "    <tr>\n",
              "      <th>nom</th>\n",
              "      <th></th>\n",
              "      <th></th>\n",
              "      <th></th>\n",
              "      <th></th>\n",
              "      <th></th>\n",
              "    </tr>\n",
              "  </thead>\n",
              "  <tbody>\n",
              "    <tr>\n",
              "      <th>Ali</th>\n",
              "      <td>1200.675000</td>\n",
              "      <td>100.560000</td>\n",
              "      <td>4</td>\n",
              "      <td>1.0</td>\n",
              "      <td>0.0</td>\n",
              "    </tr>\n",
              "    <tr>\n",
              "      <th>Sonia</th>\n",
              "      <td>2800.786000</td>\n",
              "      <td>400.876000</td>\n",
              "      <td>17</td>\n",
              "      <td>0.0</td>\n",
              "      <td>1.0</td>\n",
              "    </tr>\n",
              "    <tr>\n",
              "      <th>Rahma</th>\n",
              "      <td>2192.082091</td>\n",
              "      <td>130.987000</td>\n",
              "      <td>5</td>\n",
              "      <td>1.0</td>\n",
              "      <td>0.0</td>\n",
              "    </tr>\n",
              "    <tr>\n",
              "      <th>Salma</th>\n",
              "      <td>2500.876000</td>\n",
              "      <td>340.600000</td>\n",
              "      <td>12</td>\n",
              "      <td>0.0</td>\n",
              "      <td>1.0</td>\n",
              "    </tr>\n",
              "    <tr>\n",
              "      <th>Ahmed</th>\n",
              "      <td>3100.760000</td>\n",
              "      <td>257.165889</td>\n",
              "      <td>18</td>\n",
              "      <td>0.0</td>\n",
              "      <td>1.0</td>\n",
              "    </tr>\n",
              "    <tr>\n",
              "      <th>Saleh</th>\n",
              "      <td>1300.876000</td>\n",
              "      <td>150.900000</td>\n",
              "      <td>5</td>\n",
              "      <td>1.0</td>\n",
              "      <td>0.0</td>\n",
              "    </tr>\n",
              "    <tr>\n",
              "      <th>Ameni</th>\n",
              "      <td>1100.660000</td>\n",
              "      <td>130.870000</td>\n",
              "      <td>3</td>\n",
              "      <td>1.0</td>\n",
              "      <td>0.0</td>\n",
              "    </tr>\n",
              "    <tr>\n",
              "      <th>Mehdi</th>\n",
              "      <td>3000.760000</td>\n",
              "      <td>257.165889</td>\n",
              "      <td>22</td>\n",
              "      <td>0.0</td>\n",
              "      <td>1.0</td>\n",
              "    </tr>\n",
              "    <tr>\n",
              "      <th>Salem</th>\n",
              "      <td>1505.760000</td>\n",
              "      <td>159.700000</td>\n",
              "      <td>5</td>\n",
              "      <td>1.0</td>\n",
              "      <td>0.0</td>\n",
              "    </tr>\n",
              "    <tr>\n",
              "      <th>Sameh</th>\n",
              "      <td>2700.330000</td>\n",
              "      <td>400.000000</td>\n",
              "      <td>23</td>\n",
              "      <td>0.0</td>\n",
              "      <td>1.0</td>\n",
              "    </tr>\n",
              "    <tr>\n",
              "      <th>Wajdi</th>\n",
              "      <td>1200.980000</td>\n",
              "      <td>257.165889</td>\n",
              "      <td>7</td>\n",
              "      <td>1.0</td>\n",
              "      <td>0.0</td>\n",
              "    </tr>\n",
              "    <tr>\n",
              "      <th>Moufida</th>\n",
              "      <td>3700.440000</td>\n",
              "      <td>500.000000</td>\n",
              "      <td>31</td>\n",
              "      <td>0.0</td>\n",
              "      <td>1.0</td>\n",
              "    </tr>\n",
              "  </tbody>\n",
              "</table>\n",
              "</div>"
            ],
            "text/plain": [
              "             salaire       prime  anciennete  etat civile celibataire  \\\n",
              "nom                                                                     \n",
              "Ali      1200.675000  100.560000           4                      1.0   \n",
              "Sonia    2800.786000  400.876000          17                      0.0   \n",
              "Rahma    2192.082091  130.987000           5                      1.0   \n",
              "Salma    2500.876000  340.600000          12                      0.0   \n",
              "Ahmed    3100.760000  257.165889          18                      0.0   \n",
              "Saleh    1300.876000  150.900000           5                      1.0   \n",
              "Ameni    1100.660000  130.870000           3                      1.0   \n",
              "Mehdi    3000.760000  257.165889          22                      0.0   \n",
              "Salem    1505.760000  159.700000           5                      1.0   \n",
              "Sameh    2700.330000  400.000000          23                      0.0   \n",
              "Wajdi    1200.980000  257.165889           7                      1.0   \n",
              "Moufida  3700.440000  500.000000          31                      0.0   \n",
              "\n",
              "         etat civile marie  \n",
              "nom                         \n",
              "Ali                    0.0  \n",
              "Sonia                  1.0  \n",
              "Rahma                  0.0  \n",
              "Salma                  1.0  \n",
              "Ahmed                  1.0  \n",
              "Saleh                  0.0  \n",
              "Ameni                  0.0  \n",
              "Mehdi                  1.0  \n",
              "Salem                  0.0  \n",
              "Sameh                  1.0  \n",
              "Wajdi                  0.0  \n",
              "Moufida                1.0  "
            ]
          },
          "execution_count": 21,
          "metadata": {},
          "output_type": "execute_result"
        }
      ],
      "source": [
        "df_.drop('etat civil', axis=1, errors='ignore',inplace=True)\n",
        "df_"
      ]
    },
    {
      "cell_type": "markdown",
      "metadata": {},
      "source": [
        "**Post traintement des données numériques**"
      ]
    },
    {
      "cell_type": "markdown",
      "metadata": {
        "id": "Q4eppm9XGRyO"
      },
      "source": [
        "Normaliser les données"
      ]
    },
    {
      "cell_type": "code",
      "execution_count": 22,
      "metadata": {
        "colab": {
          "base_uri": "https://localhost:8080/"
        },
        "id": "jqx257zQ-1pV",
        "outputId": "fe8ea3b5-064d-462e-f4a7-bfe878ef0637"
      },
      "outputs": [
        {
          "data": {
            "text/plain": [
              "array([[-1.1511497 , -1.26411237, -0.97166562,  1.        , -1.        ],\n",
              "       [ 0.70678264,  1.1600185 ,  0.48583281, -1.        ,  1.        ],\n",
              "       [ 0.        , -1.01850764, -0.85955036,  1.        , -1.        ],\n",
              "       [ 0.358549  ,  0.67347462, -0.07474351, -1.        ,  1.        ],\n",
              "       [ 1.0550906 ,  0.        ,  0.59794807, -1.        ,  1.        ],\n",
              "       [-1.0348036 , -0.85777122, -0.85955036,  1.        , -1.        ],\n",
              "       [-1.26727984, -1.01945206, -1.08378088,  1.        , -1.        ],\n",
              "       [ 0.93897789,  0.        ,  1.04640913, -1.        ,  1.        ],\n",
              "       [-0.79690722, -0.7867382 , -0.85955036,  1.        , -1.        ],\n",
              "       [ 0.59014045,  1.15294749,  1.15852439, -1.        ,  1.        ],\n",
              "       [-1.15079556,  0.        , -0.63531983,  1.        , -1.        ],\n",
              "       [ 1.75139534,  1.96014087,  2.05544651, -1.        ,  1.        ]])"
            ]
          },
          "execution_count": 22,
          "metadata": {},
          "output_type": "execute_result"
        }
      ],
      "source": [
        "from sklearn.preprocessing import StandardScaler\n",
        "ss=StandardScaler()\n",
        "ss.fit(df_)\n",
        "X_ss=ss.transform(df_)\n",
        "X_ss"
      ]
    },
    {
      "cell_type": "markdown",
      "metadata": {
        "id": "uR1b_PtCGTi1"
      },
      "source": [
        "Réduire les dimensions des données"
      ]
    },
    {
      "cell_type": "code",
      "execution_count": 23,
      "metadata": {
        "colab": {
          "base_uri": "https://localhost:8080/"
        },
        "id": "ckfAGmuH_0It",
        "outputId": "9e56ddcc-26a9-4f77-ccea-ec4fa1e668fd"
      },
      "outputs": [
        {
          "data": {
            "text/plain": [
              "array([[-2.40254573, -0.21260843],\n",
              "       [ 1.94104291,  0.13336802],\n",
              "       [-1.73359756, -0.29367583],\n",
              "       [ 1.32591667, -0.29059585],\n",
              "       [ 1.65300564, -0.84805555],\n",
              "       [-2.12706805,  0.10410078],\n",
              "       [-2.40068748, -0.01507993],\n",
              "       [ 1.80315582, -0.71309448],\n",
              "       [-1.99062368,  0.09796294],\n",
              "       [ 2.18893613,  0.31516948],\n",
              "       [-1.71255885,  0.86438558],\n",
              "       [ 3.45502417,  0.85812327]])"
            ]
          },
          "execution_count": 23,
          "metadata": {},
          "output_type": "execute_result"
        }
      ],
      "source": [
        "from sklearn.decomposition import PCA\n",
        "pca = PCA(n_components=2)\n",
        "pca.fit(X_ss)\n",
        "X_pca = pca.transform(X_ss)\n",
        "X_pca"
      ]
    },
    {
      "cell_type": "code",
      "execution_count": 24,
      "metadata": {},
      "outputs": [
        {
          "data": {
            "image/png": "[encoded data removed]",
            "text/plain": [
              "<Figure size 640x480 with 1 Axes>"
            ]
          },
          "metadata": {},
          "output_type": "display_data"
        }
      ],
      "source": [
        "import matplotlib.pyplot as plt\n",
        "\n",
        "plt.plot(X_pca[:,0],X_pca[:,1],'r+')\n",
        "\n",
        "for nom, x, y in zip(df_employes.index,X_pca[:,0],X_pca[:,1]):\n",
        "  plt.annotate(nom, xy =(x, y), xycoords=\"data\")"
      ]
    },
    {
      "cell_type": "markdown",
      "metadata": {
        "id": "M8Uakv5lGYGt"
      },
      "source": [
        "**Regrouper les données clusters avec Kmeans**"
      ]
    },
    {
      "cell_type": "markdown",
      "metadata": {},
      "source": [
        "Apprentissage"
      ]
    },
    {
      "cell_type": "code",
      "execution_count": 25,
      "metadata": {
        "colab": {
          "base_uri": "https://localhost:8080/"
        },
        "id": "VsEKz6cX__L9",
        "outputId": "76167d9f-35d2-4ae3-8411-7097397cc8b4"
      },
      "outputs": [],
      "source": [
        "# regrouper les données clusters avec Kmeans\n",
        "from sklearn.cluster import KMeans\n",
        "kmeans = KMeans(n_clusters=4).fit(X_pca)"
      ]
    },
    {
      "cell_type": "code",
      "execution_count": 26,
      "metadata": {},
      "outputs": [
        {
          "data": {
            "text/html": [
              "<div>\n",
              "<style scoped>\n",
              "    .dataframe tbody tr th:only-of-type {\n",
              "        vertical-align: middle;\n",
              "    }\n",
              "\n",
              "    .dataframe tbody tr th {\n",
              "        vertical-align: top;\n",
              "    }\n",
              "\n",
              "    .dataframe thead th {\n",
              "        text-align: right;\n",
              "    }\n",
              "</style>\n",
              "<table border=\"1\" class=\"dataframe\">\n",
              "  <thead>\n",
              "    <tr style=\"text-align: right;\">\n",
              "      <th></th>\n",
              "      <th>salaire</th>\n",
              "      <th>prime</th>\n",
              "      <th>etat civil</th>\n",
              "      <th>date recrutement</th>\n",
              "    </tr>\n",
              "    <tr>\n",
              "      <th>nom</th>\n",
              "      <th></th>\n",
              "      <th></th>\n",
              "      <th></th>\n",
              "      <th></th>\n",
              "    </tr>\n",
              "  </thead>\n",
              "  <tbody>\n",
              "    <tr>\n",
              "      <th>Ali</th>\n",
              "      <td>1200.675</td>\n",
              "      <td>100.560</td>\n",
              "      <td>celibataire</td>\n",
              "      <td>20/10/2018</td>\n",
              "    </tr>\n",
              "    <tr>\n",
              "      <th>Sonia</th>\n",
              "      <td>2800.786</td>\n",
              "      <td>400.876</td>\n",
              "      <td>marie</td>\n",
              "      <td>30/11/2005</td>\n",
              "    </tr>\n",
              "    <tr>\n",
              "      <th>Rahma</th>\n",
              "      <td>NaN</td>\n",
              "      <td>130.987</td>\n",
              "      <td>celibataire</td>\n",
              "      <td>04/02/2017</td>\n",
              "    </tr>\n",
              "    <tr>\n",
              "      <th>Salma</th>\n",
              "      <td>2500.876</td>\n",
              "      <td>340.600</td>\n",
              "      <td>marie</td>\n",
              "      <td>03/02/2010</td>\n",
              "    </tr>\n",
              "  </tbody>\n",
              "</table>\n",
              "</div>"
            ],
            "text/plain": [
              "        salaire    prime   etat civil date recrutement\n",
              "nom                                                   \n",
              "Ali    1200.675  100.560  celibataire       20/10/2018\n",
              "Sonia  2800.786  400.876        marie       30/11/2005\n",
              "Rahma       NaN  130.987  celibataire       04/02/2017\n",
              "Salma  2500.876  340.600        marie       03/02/2010"
            ]
          },
          "execution_count": 26,
          "metadata": {},
          "output_type": "execute_result"
        }
      ],
      "source": [
        "df_employes.iloc[:4,:]"
      ]
    },
    {
      "cell_type": "markdown",
      "metadata": {
        "id": "Qkgjyo-YGbkm"
      },
      "source": [
        "Prédire les labels des clusters"
      ]
    },
    {
      "cell_type": "code",
      "execution_count": 27,
      "metadata": {
        "colab": {
          "base_uri": "https://localhost:8080/"
        },
        "id": "BAf8jD9yANr0",
        "outputId": "18b88f9b-9d71-45bd-8f54-42a0777b376c"
      },
      "outputs": [
        {
          "data": {
            "text/plain": [
              "array([1, 3, 1, 0, 0, 1, 1, 0, 1, 3, 1, 2])"
            ]
          },
          "execution_count": 27,
          "metadata": {},
          "output_type": "execute_result"
        }
      ],
      "source": [
        "labels= kmeans.predict(X_pca)\n",
        "labels"
      ]
    },
    {
      "cell_type": "markdown",
      "metadata": {
        "id": "W-Y6U-UKGfpv"
      },
      "source": [
        "Déterminer les clusters"
      ]
    },
    {
      "cell_type": "code",
      "execution_count": 28,
      "metadata": {
        "colab": {
          "base_uri": "https://localhost:8080/"
        },
        "id": "uRh078aKAki-",
        "outputId": "7a9ea6e8-8946-479f-de03-55ff7797cf91"
      },
      "outputs": [],
      "source": [
        "cluster_0 = X_pca[labels==0,:]\n",
        "cluster_1 = X_pca[labels==1,:]\n",
        "cluster_2 = X_pca[labels==2,:]\n",
        "cluster_3 = X_pca[labels==3,:]"
      ]
    },
    {
      "cell_type": "code",
      "execution_count": 29,
      "metadata": {},
      "outputs": [
        {
          "data": {
            "image/png": "[encoded data removed]",
            "text/plain": [
              "<Figure size 640x480 with 1 Axes>"
            ]
          },
          "metadata": {},
          "output_type": "display_data"
        }
      ],
      "source": [
        "import matplotlib.pyplot as plt\n",
        "\n",
        "plt.plot(cluster_0[:,0],cluster_0[:,1],'r+', label='Cluster 0')\n",
        "plt.plot(cluster_1[:,0],cluster_1[:,1],'b+', label='Cluster 1')\n",
        "plt.plot(cluster_2[:,0],cluster_2[:,1],'g+', label='Cluster 2')\n",
        "plt.plot(cluster_3[:,0],cluster_3[:,1],'m+', label='Cluster 3')\n",
        "\n",
        "for nom, x, y in zip(df_employes.index,X_pca[:,0],X_pca[:,1]):\n",
        "  plt.annotate(nom, xy =(x, y), xycoords=\"data\")"
      ]
    },
    {
      "cell_type": "markdown",
      "metadata": {},
      "source": [
        "**projection d'un nouveau employee sur le plan 2D**"
      ]
    },
    {
      "cell_type": "code",
      "execution_count": 32,
      "metadata": {
        "colab": {
          "base_uri": "https://localhost:8080/"
        },
        "id": "euvXDUyVAmRV",
        "outputId": "730031a5-29da-47db-e287-32da0b9c4949"
      },
      "outputs": [
        {
          "data": {
            "text/html": [
              "<div>\n",
              "<style scoped>\n",
              "    .dataframe tbody tr th:only-of-type {\n",
              "        vertical-align: middle;\n",
              "    }\n",
              "\n",
              "    .dataframe tbody tr th {\n",
              "        vertical-align: top;\n",
              "    }\n",
              "\n",
              "    .dataframe thead th {\n",
              "        text-align: right;\n",
              "    }\n",
              "</style>\n",
              "<table border=\"1\" class=\"dataframe\">\n",
              "  <thead>\n",
              "    <tr style=\"text-align: right;\">\n",
              "      <th></th>\n",
              "      <th>salaire</th>\n",
              "      <th>prime</th>\n",
              "      <th>etat civil</th>\n",
              "      <th>date recrutement</th>\n",
              "    </tr>\n",
              "  </thead>\n",
              "  <tbody>\n",
              "    <tr>\n",
              "      <th>Moufid</th>\n",
              "      <td>3500.4</td>\n",
              "      <td>600</td>\n",
              "      <td>marie</td>\n",
              "      <td>19/10/1990</td>\n",
              "    </tr>\n",
              "  </tbody>\n",
              "</table>\n",
              "</div>"
            ],
            "text/plain": [
              "        salaire  prime etat civil date recrutement\n",
              "Moufid   3500.4    600      marie       19/10/1990"
            ]
          },
          "execution_count": 32,
          "metadata": {},
          "output_type": "execute_result"
        }
      ],
      "source": [
        "# add new employe to datafram\n",
        "import pandas as pd\n",
        "df_new=pd.DataFrame([[3500.400,600,'marie','19/10/1990']],index=['Moufid'], columns=df_employes.columns)\n",
        "\n",
        "df_new"
      ]
    },
    {
      "cell_type": "code",
      "execution_count": 33,
      "metadata": {},
      "outputs": [
        {
          "data": {
            "text/html": [
              "<div>\n",
              "<style scoped>\n",
              "    .dataframe tbody tr th:only-of-type {\n",
              "        vertical-align: middle;\n",
              "    }\n",
              "\n",
              "    .dataframe tbody tr th {\n",
              "        vertical-align: top;\n",
              "    }\n",
              "\n",
              "    .dataframe thead th {\n",
              "        text-align: right;\n",
              "    }\n",
              "</style>\n",
              "<table border=\"1\" class=\"dataframe\">\n",
              "  <thead>\n",
              "    <tr style=\"text-align: right;\">\n",
              "      <th></th>\n",
              "      <th>salaire</th>\n",
              "      <th>prime</th>\n",
              "      <th>etat civil</th>\n",
              "      <th>date recrutement</th>\n",
              "    </tr>\n",
              "  </thead>\n",
              "  <tbody>\n",
              "    <tr>\n",
              "      <th>Moufid</th>\n",
              "      <td>3500.4</td>\n",
              "      <td>600</td>\n",
              "      <td>marie</td>\n",
              "      <td>19/10/1990</td>\n",
              "    </tr>\n",
              "  </tbody>\n",
              "</table>\n",
              "</div>"
            ],
            "text/plain": [
              "        salaire  prime etat civil date recrutement\n",
              "Moufid   3500.4    600      marie       19/10/1990"
            ]
          },
          "execution_count": 33,
          "metadata": {},
          "output_type": "execute_result"
        }
      ],
      "source": [
        "df_new_ = df_employes.copy()\n",
        "df_new.fillna({'salaire': df_employes['salaire'].mean(),\n",
        "                'prime': df_employes['prime'].mean() }, inplace=True)\n",
        "df_new"
      ]
    },
    {
      "cell_type": "code",
      "execution_count": 35,
      "metadata": {},
      "outputs": [
        {
          "name": "stderr",
          "output_type": "stream",
          "text": [
            "C:\\Users\\abbas\\AppData\\Local\\Temp\\ipykernel_12972\\3913774225.py:1: UserWarning: Parsing '19/10/1990' in DD/MM/YYYY format. Provide format or specify infer_datetime_format=True for consistent parsing.\n",
            "  df_new['date recrutement'] = pd.to_datetime(df_new['date recrutement'])\n"
          ]
        },
        {
          "data": {
            "text/plain": [
              "Moufid   1990-10-19\n",
              "Name: date recrutement, dtype: datetime64[ns]"
            ]
          },
          "execution_count": 35,
          "metadata": {},
          "output_type": "execute_result"
        }
      ],
      "source": [
        "df_new['date recrutement'] = pd.to_datetime(df_new['date recrutement'])\n",
        "df_new['date recrutement']"
      ]
    },
    {
      "cell_type": "code",
      "execution_count": 36,
      "metadata": {},
      "outputs": [
        {
          "data": {
            "text/html": [
              "<div>\n",
              "<style scoped>\n",
              "    .dataframe tbody tr th:only-of-type {\n",
              "        vertical-align: middle;\n",
              "    }\n",
              "\n",
              "    .dataframe tbody tr th {\n",
              "        vertical-align: top;\n",
              "    }\n",
              "\n",
              "    .dataframe thead th {\n",
              "        text-align: right;\n",
              "    }\n",
              "</style>\n",
              "<table border=\"1\" class=\"dataframe\">\n",
              "  <thead>\n",
              "    <tr style=\"text-align: right;\">\n",
              "      <th></th>\n",
              "      <th>salaire</th>\n",
              "      <th>prime</th>\n",
              "      <th>etat civil</th>\n",
              "      <th>date recrutement</th>\n",
              "      <th>anciennete</th>\n",
              "    </tr>\n",
              "  </thead>\n",
              "  <tbody>\n",
              "    <tr>\n",
              "      <th>Moufid</th>\n",
              "      <td>3500.4</td>\n",
              "      <td>600</td>\n",
              "      <td>marie</td>\n",
              "      <td>1990-10-19</td>\n",
              "      <td>32</td>\n",
              "    </tr>\n",
              "  </tbody>\n",
              "</table>\n",
              "</div>"
            ],
            "text/plain": [
              "        salaire  prime etat civil date recrutement  anciennete\n",
              "Moufid   3500.4    600      marie       1990-10-19          32"
            ]
          },
          "execution_count": 36,
          "metadata": {},
          "output_type": "execute_result"
        }
      ],
      "source": [
        "df_new['date recrutement'].apply(lambda date: datetime.now().year - date.year)\n",
        "\n",
        "df_new['anciennete'] = df_new['date recrutement'].apply(lambda date: datetime.now().year - date.year)\n",
        "df_new"
      ]
    },
    {
      "cell_type": "code",
      "execution_count": 37,
      "metadata": {},
      "outputs": [
        {
          "data": {
            "text/html": [
              "<div>\n",
              "<style scoped>\n",
              "    .dataframe tbody tr th:only-of-type {\n",
              "        vertical-align: middle;\n",
              "    }\n",
              "\n",
              "    .dataframe tbody tr th {\n",
              "        vertical-align: top;\n",
              "    }\n",
              "\n",
              "    .dataframe thead th {\n",
              "        text-align: right;\n",
              "    }\n",
              "</style>\n",
              "<table border=\"1\" class=\"dataframe\">\n",
              "  <thead>\n",
              "    <tr style=\"text-align: right;\">\n",
              "      <th></th>\n",
              "      <th>salaire</th>\n",
              "      <th>prime</th>\n",
              "      <th>etat civil</th>\n",
              "      <th>anciennete</th>\n",
              "    </tr>\n",
              "  </thead>\n",
              "  <tbody>\n",
              "    <tr>\n",
              "      <th>Moufid</th>\n",
              "      <td>3500.4</td>\n",
              "      <td>600</td>\n",
              "      <td>marie</td>\n",
              "      <td>32</td>\n",
              "    </tr>\n",
              "  </tbody>\n",
              "</table>\n",
              "</div>"
            ],
            "text/plain": [
              "        salaire  prime etat civil  anciennete\n",
              "Moufid   3500.4    600      marie          32"
            ]
          },
          "execution_count": 37,
          "metadata": {},
          "output_type": "execute_result"
        }
      ],
      "source": [
        "df_new.drop('date recrutement', axis=1, errors='ignore',inplace=True)\n",
        "df_new"
      ]
    },
    {
      "cell_type": "code",
      "execution_count": 38,
      "metadata": {},
      "outputs": [
        {
          "data": {
            "text/plain": [
              "[array(['marie'], dtype=object)]"
            ]
          },
          "execution_count": 38,
          "metadata": {},
          "output_type": "execute_result"
        }
      ],
      "source": [
        "from sklearn.preprocessing import OneHotEncoder\n",
        "\n",
        "# one hot encoding: convert categorical data to numerical data\n",
        "\n",
        "ohe_new=OneHotEncoder().fit(df_new[['etat civil']])\n",
        "\n",
        "ohe_new.categories_"
      ]
    },
    {
      "cell_type": "code",
      "execution_count": 39,
      "metadata": {},
      "outputs": [
        {
          "data": {
            "text/plain": [
              "array([[1.]])"
            ]
          },
          "execution_count": 39,
          "metadata": {},
          "output_type": "execute_result"
        }
      ],
      "source": [
        "etat_civil_sparse_new = ohe_new.transform(df_new[['etat civil']])\n",
        "etat_civil_new = etat_civil_sparse_new.toarray()\n",
        "etat_civil_new"
      ]
    },
    {
      "cell_type": "code",
      "execution_count": 42,
      "metadata": {},
      "outputs": [
        {
          "ename": "ValueError",
          "evalue": "Shape of passed values is (1, 1), indices imply (1, 2)",
          "output_type": "error",
          "traceback": [
            "\u001b[1;31m---------------------------------------------------------------------------\u001b[0m",
            "\u001b[1;31mValueError\u001b[0m                                Traceback (most recent call last)",
            "\u001b[1;32mc:\\dev\\AI\\Python\\lab_clustering_kmeans.ipynb Cell 49\u001b[0m in \u001b[0;36m<cell line: 1>\u001b[1;34m()\u001b[0m\n\u001b[1;32m----> <a href='vscode-notebook-cell:/c%3A/dev/AI/Python/lab_clustering_kmeans.ipynb#Y102sZmlsZQ%3D%3D?line=0'>1</a>\u001b[0m df_etat_civile_new\u001b[39m=\u001b[39m pd\u001b[39m.\u001b[39;49mDataFrame(etat_civil_new, index \u001b[39m=\u001b[39;49m df_new\u001b[39m.\u001b[39;49mindex, columns \u001b[39m=\u001b[39;49m [\u001b[39m'\u001b[39;49m\u001b[39metat civile celibataire\u001b[39;49m\u001b[39m'\u001b[39;49m, \u001b[39m'\u001b[39;49m\u001b[39metat civile marie\u001b[39;49m\u001b[39m'\u001b[39;49m])\n\u001b[0;32m      <a href='vscode-notebook-cell:/c%3A/dev/AI/Python/lab_clustering_kmeans.ipynb#Y102sZmlsZQ%3D%3D?line=1'>2</a>\u001b[0m df_etat_civile_new\n",
            "File \u001b[1;32mc:\\Users\\abbas\\AppData\\Local\\Programs\\Python\\Python310\\lib\\site-packages\\pandas\\core\\frame.py:694\u001b[0m, in \u001b[0;36mDataFrame.__init__\u001b[1;34m(self, data, index, columns, dtype, copy)\u001b[0m\n\u001b[0;32m    684\u001b[0m         mgr \u001b[39m=\u001b[39m dict_to_mgr(\n\u001b[0;32m    685\u001b[0m             \u001b[39m# error: Item \"ndarray\" of \"Union[ndarray, Series, Index]\" has no\u001b[39;00m\n\u001b[0;32m    686\u001b[0m             \u001b[39m# attribute \"name\"\u001b[39;00m\n\u001b[1;32m   (...)\u001b[0m\n\u001b[0;32m    691\u001b[0m             typ\u001b[39m=\u001b[39mmanager,\n\u001b[0;32m    692\u001b[0m         )\n\u001b[0;32m    693\u001b[0m     \u001b[39melse\u001b[39;00m:\n\u001b[1;32m--> 694\u001b[0m         mgr \u001b[39m=\u001b[39m ndarray_to_mgr(\n\u001b[0;32m    695\u001b[0m             data,\n\u001b[0;32m    696\u001b[0m             index,\n\u001b[0;32m    697\u001b[0m             columns,\n\u001b[0;32m    698\u001b[0m             dtype\u001b[39m=\u001b[39;49mdtype,\n\u001b[0;32m    699\u001b[0m             copy\u001b[39m=\u001b[39;49mcopy,\n\u001b[0;32m    700\u001b[0m             typ\u001b[39m=\u001b[39;49mmanager,\n\u001b[0;32m    701\u001b[0m         )\n\u001b[0;32m    703\u001b[0m \u001b[39m# For data is list-like, or Iterable (will consume into list)\u001b[39;00m\n\u001b[0;32m    704\u001b[0m \u001b[39melif\u001b[39;00m is_list_like(data):\n",
            "File \u001b[1;32mc:\\Users\\abbas\\AppData\\Local\\Programs\\Python\\Python310\\lib\\site-packages\\pandas\\core\\internals\\construction.py:351\u001b[0m, in \u001b[0;36mndarray_to_mgr\u001b[1;34m(values, index, columns, dtype, copy, typ)\u001b[0m\n\u001b[0;32m    346\u001b[0m \u001b[39m# _prep_ndarray ensures that values.ndim == 2 at this point\u001b[39;00m\n\u001b[0;32m    347\u001b[0m index, columns \u001b[39m=\u001b[39m _get_axes(\n\u001b[0;32m    348\u001b[0m     values\u001b[39m.\u001b[39mshape[\u001b[39m0\u001b[39m], values\u001b[39m.\u001b[39mshape[\u001b[39m1\u001b[39m], index\u001b[39m=\u001b[39mindex, columns\u001b[39m=\u001b[39mcolumns\n\u001b[0;32m    349\u001b[0m )\n\u001b[1;32m--> 351\u001b[0m _check_values_indices_shape_match(values, index, columns)\n\u001b[0;32m    353\u001b[0m \u001b[39mif\u001b[39;00m typ \u001b[39m==\u001b[39m \u001b[39m\"\u001b[39m\u001b[39marray\u001b[39m\u001b[39m\"\u001b[39m:\n\u001b[0;32m    355\u001b[0m     \u001b[39mif\u001b[39;00m \u001b[39missubclass\u001b[39m(values\u001b[39m.\u001b[39mdtype\u001b[39m.\u001b[39mtype, \u001b[39mstr\u001b[39m):\n",
            "File \u001b[1;32mc:\\Users\\abbas\\AppData\\Local\\Programs\\Python\\Python310\\lib\\site-packages\\pandas\\core\\internals\\construction.py:422\u001b[0m, in \u001b[0;36m_check_values_indices_shape_match\u001b[1;34m(values, index, columns)\u001b[0m\n\u001b[0;32m    420\u001b[0m passed \u001b[39m=\u001b[39m values\u001b[39m.\u001b[39mshape\n\u001b[0;32m    421\u001b[0m implied \u001b[39m=\u001b[39m (\u001b[39mlen\u001b[39m(index), \u001b[39mlen\u001b[39m(columns))\n\u001b[1;32m--> 422\u001b[0m \u001b[39mraise\u001b[39;00m \u001b[39mValueError\u001b[39;00m(\u001b[39mf\u001b[39m\u001b[39m\"\u001b[39m\u001b[39mShape of passed values is \u001b[39m\u001b[39m{\u001b[39;00mpassed\u001b[39m}\u001b[39;00m\u001b[39m, indices imply \u001b[39m\u001b[39m{\u001b[39;00mimplied\u001b[39m}\u001b[39;00m\u001b[39m\"\u001b[39m)\n",
            "\u001b[1;31mValueError\u001b[0m: Shape of passed values is (1, 1), indices imply (1, 2)"
          ]
        }
      ],
      "source": [
        "df_etat_civile_new= pd.DataFrame(etat_civil_new, index = df_new.index, columns = ['etat civile celibataire', 'etat civile marie'])\n",
        "df_etat_civile_new"
      ]
    },
    {
      "cell_type": "code",
      "execution_count": null,
      "metadata": {},
      "outputs": [],
      "source": [
        "df_new= pd.concat([df_new, df_etat_civile_new], axis=1)\n",
        "df_new"
      ]
    },
    {
      "cell_type": "code",
      "execution_count": null,
      "metadata": {},
      "outputs": [],
      "source": [
        "df_new.drop('etat civil', axis=1, errors='ignore',inplace=True)\n",
        "df_new"
      ]
    },
    {
      "cell_type": "code",
      "execution_count": null,
      "metadata": {},
      "outputs": [],
      "source": [
        "from sklearn.preprocessing import StandardScaler\n",
        "ss_new=StandardScaler()\n",
        "ss_new.fit(df_new)\n",
        "X_ss_new=ss_new.transform(df_new)\n",
        "X_ss_new"
      ]
    },
    {
      "cell_type": "code",
      "execution_count": null,
      "metadata": {},
      "outputs": [],
      "source": [
        "from sklearn.decomposition import PCA\n",
        "pca_new = PCA(n_components=2)\n",
        "pca_new.fit(X_ss_new)\n",
        "X_pca_new = pca_new.transform(X_ss_new)\n",
        "X_pca_new"
      ]
    },
    {
      "cell_type": "markdown",
      "metadata": {
        "id": "TWph1X0yGkq2"
      },
      "source": [
        "Visualiser les données sur un plan 2D colorées selon leurs appartenances aux clusters"
      ]
    },
    {
      "cell_type": "code",
      "execution_count": null,
      "metadata": {
        "colab": {
          "base_uri": "https://localhost:8080/",
          "height": 265
        },
        "id": "S99DQqj_AfWO",
        "outputId": "9df9d8a1-fd04-4ff5-9c30-170e5407a23e"
      },
      "outputs": [
        {
          "data": {
            "image/png": "[encoded data removed]",
            "text/plain": [
              "<Figure size 432x288 with 1 Axes>"
            ]
          },
          "metadata": {
            "needs_background": "light"
          },
          "output_type": "display_data"
        }
      ],
      "source": [
        "import matplotlib.pyplot as plt\n",
        "\n",
        "plt.plot(cluster_0[:,0],cluster_0[:,1],'r+', label='Cluster 0')\n",
        "plt.plot(cluster_1[:,0],cluster_1[:,1],'b+', label='Cluster 1')\n",
        "\n",
        "for nom, x, y in zip(df_employes.index,X_pca[:,0],X_pca[:,1]):\n",
        "  plt.annotate(nom, xy =(x, y), xycoords=\"data\")"
      ]
    },
    {
      "cell_type": "code",
      "execution_count": null,
      "metadata": {
        "id": "gt7TwkpAEuvg"
      },
      "outputs": [],
      "source": []
    }
  ],
  "metadata": {
    "colab": {
      "collapsed_sections": [],
      "provenance": []
    },
    "kernelspec": {
      "display_name": "Python 3.10.6 64-bit",
      "language": "python",
      "name": "python3"
    },
    "language_info": {
      "codemirror_mode": {
        "name": "ipython",
        "version": 3
      },
      "file_extension": ".py",
      "mimetype": "text/x-python",
      "name": "python",
      "nbconvert_exporter": "python",
      "pygments_lexer": "ipython3",
      "version": "3.10.6"
    },
    "vscode": {
      "interpreter": {
        "hash": "9280cfe3a885ab6393e840bb0851a2b8b9319602f57c283749909a607b67fea4"
      }
    }
  },
  "nbformat": 4,
  "nbformat_minor": 0
}
