{
 "cells": [
  {
   "cell_type": "markdown",
   "metadata": {},
   "source": [
    "**Variables**"
   ]
  },
  {
   "cell_type": "code",
   "execution_count": 8,
   "metadata": {},
   "outputs": [
    {
     "data": {
      "text/plain": [
       "int"
      ]
     },
     "execution_count": 8,
     "metadata": {},
     "output_type": "execute_result"
    }
   ],
   "source": [
    "x=10\n",
    "type(x)"
   ]
  },
  {
   "cell_type": "code",
   "execution_count": 9,
   "metadata": {},
   "outputs": [
    {
     "data": {
      "text/plain": [
       "float"
      ]
     },
     "execution_count": 9,
     "metadata": {},
     "output_type": "execute_result"
    }
   ],
   "source": [
    "x=10.\n",
    "type(x)"
   ]
  },
  {
   "cell_type": "code",
   "execution_count": 12,
   "metadata": {},
   "outputs": [
    {
     "data": {
      "text/plain": [
       "str"
      ]
     },
     "execution_count": 12,
     "metadata": {},
     "output_type": "execute_result"
    }
   ],
   "source": [
    "x='Hello \\\"World\\\"'\n",
    "type(x)"
   ]
  },
  {
   "cell_type": "code",
   "execution_count": 13,
   "metadata": {},
   "outputs": [
    {
     "data": {
      "text/plain": [
       "bool"
      ]
     },
     "execution_count": 13,
     "metadata": {},
     "output_type": "execute_result"
    }
   ],
   "source": [
    "humidity=True\n",
    "type(humidity)"
   ]
  },
  {
   "cell_type": "markdown",
   "metadata": {},
   "source": [
    "**Operators**"
   ]
  },
  {
   "cell_type": "code",
   "execution_count": 15,
   "metadata": {},
   "outputs": [],
   "source": [
    "x=10\n",
    "y=20\n",
    "z=x+y\n",
    "z=x/y  # real division\n",
    "z=x//y # euclidean division\n",
    "z=x%y  # remainder\n",
    "z=x**y # power"
   ]
  },
  {
   "cell_type": "code",
   "execution_count": 19,
   "metadata": {},
   "outputs": [
    {
     "data": {
      "text/plain": [
       "False"
      ]
     },
     "execution_count": 19,
     "metadata": {},
     "output_type": "execute_result"
    }
   ],
   "source": [
    "x= 10<3 and 3>4"
   ]
  },
  {
   "cell_type": "code",
   "execution_count": 20,
   "metadata": {},
   "outputs": [
    {
     "data": {
      "text/plain": [
       "False"
      ]
     },
     "execution_count": 20,
     "metadata": {},
     "output_type": "execute_result"
    }
   ],
   "source": [
    "humidity=True\n",
    "not humidity"
   ]
  },
  {
   "cell_type": "code",
   "execution_count": 24,
   "metadata": {},
   "outputs": [
    {
     "data": {
      "text/plain": [
       "'ll'"
      ]
     },
     "execution_count": 24,
     "metadata": {},
     "output_type": "execute_result"
    }
   ],
   "source": [
    "s='hello'\n",
    "\n",
    "len(s) # length of string\n",
    "\n",
    "s[0] # first character\n",
    "\n",
    "s[4] # last character = len(s)-1\n",
    "\n",
    "s[-1] # last character\n",
    "\n",
    "s[-5] # first character\n",
    "\n",
    "s[1:3] # 2nd and 3rd character\n",
    "\n",
    "s[1:] # 2nd to last character\n",
    "\n",
    "s[:3] # first to 3rd character\n",
    "\n",
    "s[::-1] # reverse string\n",
    "\n",
    "s[3:1] # if index 1 is greater than index 3 Python returns empty string\n",
    "\n",
    "s[3:1:-1] # 4th and 3rd character"
   ]
  },
  {
   "cell_type": "markdown",
   "metadata": {},
   "source": [
    "**Standard Input & Output**"
   ]
  },
  {
   "cell_type": "code",
   "execution_count": 28,
   "metadata": {},
   "outputs": [],
   "source": [
    "# Standard Input\n",
    "# input() function returns a string\n",
    "x= input('Enter interger: ')\n",
    "# convert string to integer, float, etc.\n",
    "x= int(x)\n",
    "x= float(x)\n",
    "x= str(x)\n",
    "\n",
    "x=int(input('Enter interger: '))"
   ]
  },
  {
   "cell_type": "code",
   "execution_count": 37,
   "metadata": {},
   "outputs": [
    {
     "name": "stdout",
     "output_type": "stream",
     "text": [
      "Hello World\n",
      "2\n",
      "Hello 2 True bye\n",
      "Hello-2-True-bye;"
     ]
    }
   ],
   "source": [
    "# Standard Output\n",
    "print('Hello World')\n",
    "print(x)\n",
    "print('Hello', x, True, 'bye')\n",
    "print('Hello', x, True, 'bye', sep='-', end=';')"
   ]
  },
  {
   "cell_type": "markdown",
   "metadata": {},
   "source": [
    "**Exercice**"
   ]
  },
  {
   "cell_type": "code",
   "execution_count": 41,
   "metadata": {},
   "outputs": [
    {
     "name": "stdout",
     "output_type": "stream",
     "text": [
      "Sum of 8 and 3 is 11\n",
      "Sub of 8 and 3 is 5\n",
      "Mul of 8 and 3 is 24\n",
      "Div of 8 and 3 is 2.6666666666666665\n",
      "Mod of 8 and 3 is 2\n",
      "Exp of 8 and 3 is 512\n"
     ]
    }
   ],
   "source": [
    "firstNumber=int(input('Enter first integer: '))\n",
    "secondNumber=int(input('Enter second integer: '))\n",
    "\n",
    "print('Sum of', firstNumber, 'and', secondNumber, 'is', firstNumber+secondNumber)\n",
    "print('Sub of', firstNumber, 'and', secondNumber, 'is', firstNumber-secondNumber)\n",
    "print('Mul of', firstNumber, 'and', secondNumber, 'is', firstNumber*secondNumber)\n",
    "print('Div of', firstNumber, 'and', secondNumber, 'is', firstNumber/secondNumber)\n",
    "print('Mod of', firstNumber, 'and', secondNumber, 'is', firstNumber%secondNumber)\n",
    "print('Exp of', firstNumber, 'and', secondNumber, 'is', firstNumber**secondNumber)"
   ]
  },
  {
   "cell_type": "markdown",
   "metadata": {},
   "source": [
    "**Stream Control with if**"
   ]
  },
  {
   "cell_type": "code",
   "execution_count": 44,
   "metadata": {},
   "outputs": [
    {
     "name": "stdout",
     "output_type": "stream",
     "text": [
      "Number is positive\n"
     ]
    }
   ],
   "source": [
    "number=int(input('Enter first integer: '))\n",
    "if number > 0:\n",
    "    print('Number is positive')\n",
    "elif number < 0:\n",
    "    print('Number is negative')\n",
    "else:\n",
    "    print('Number is zero')"
   ]
  },
  {
   "cell_type": "markdown",
   "metadata": {},
   "source": [
    "**Excercice**"
   ]
  },
  {
   "cell_type": "code",
   "execution_count": 6,
   "metadata": {},
   "outputs": [
    {
     "name": "stdout",
     "output_type": "stream",
     "text": [
      "Faible\n"
     ]
    }
   ],
   "source": [
    "note=float(input('Enter first integer: '))\n",
    "\n",
    "if 0 >= note < 10:\n",
    "    print('Faible')\n",
    "elif 10 >= note < 12:\n",
    "    print('Moyen')\n",
    "elif 12 >= note < 14:\n",
    "    print('Assez Bien')\n",
    "elif 14 >= note < 16:\n",
    "    print('Bien')\n",
    "elif 16 >= note <= 20:\n",
    "    print('Excellent')\n",
    "else:\n",
    "    print('Invalid number')    "
   ]
  },
  {
   "cell_type": "markdown",
   "metadata": {},
   "source": [
    "**String Formatting**"
   ]
  },
  {
   "cell_type": "code",
   "execution_count": 7,
   "metadata": {},
   "outputs": [
    {
     "name": "stdout",
     "output_type": "stream",
     "text": [
      "name: Saleh, salary: 1000.455 and age: 30\n"
     ]
    }
   ],
   "source": [
    "name =\"Saleh\" # string\n",
    "salary = 1000.465455 # float\n",
    "age = 30 # integer\n",
    "\n",
    "message = 'name: Saleh, salary: 1000.455 and age: 30'\n",
    "print(message)"
   ]
  },
  {
   "cell_type": "markdown",
   "metadata": {},
   "source": [
    "% formatting"
   ]
  },
  {
   "cell_type": "code",
   "execution_count": 13,
   "metadata": {},
   "outputs": [
    {
     "name": "stdout",
     "output_type": "stream",
     "text": [
      "name: Saleh               , salary: 1000.47    and age: 30   \n"
     ]
    }
   ],
   "source": [
    "name =\"Saleh\" # string\n",
    "salary = 1000.465455 # float\n",
    "age = 30 # integer\n",
    "\n",
    "print('name: %-s, salary: %-10.2f and age: %-5d' % (name, salary, age))"
   ]
  },
  {
   "cell_type": "markdown",
   "metadata": {},
   "source": [
    "string.format() formatting"
   ]
  },
  {
   "cell_type": "code",
   "execution_count": null,
   "metadata": {},
   "outputs": [],
   "source": []
  },
  {
   "cell_type": "markdown",
   "metadata": {},
   "source": [
    "format() formatting"
   ]
  },
  {
   "cell_type": "code",
   "execution_count": null,
   "metadata": {},
   "outputs": [],
   "source": []
  },
  {
   "cell_type": "markdown",
   "metadata": {},
   "source": [
    "**Calculator**"
   ]
  },
  {
   "cell_type": "code",
   "execution_count": 23,
   "metadata": {},
   "outputs": [
    {
     "name": "stdout",
     "output_type": "stream",
     "text": [
      "0.0 - 7.0 = -7.0\n"
     ]
    }
   ],
   "source": [
    "firstNumber=float(input('Enter first float: '))\n",
    "secondNumber=float(input('Enter second float: '))\n",
    "operator = input('Enter operator: ')\n",
    "\n",
    "if operator == '+':\n",
    "    print( firstNumber,\"+\", secondNumber,\"=\", firstNumber + secondNumber )\n",
    "elif operator == '-':\n",
    "    print( firstNumber,\"-\", secondNumber,\"=\", firstNumber - secondNumber )\n",
    "elif operator == '*':\n",
    "    print( firstNumber,\"*\", secondNumber,\"=\", firstNumber * secondNumber )\n",
    "elif operator == '/':\n",
    "    if secondNumber == 0:\n",
    "        print('Division by zero is not allowed')\n",
    "    print( firstNumber,\"/\", secondNumber,\"=\", firstNumber / secondNumber )\n",
    "elif operator == '%':\n",
    "    print( firstNumber,\" % \", secondNumber,\"=\", firstNumber % secondNumber )\n",
    "else:\n",
    "    print('Invalid operator')"
   ]
  }
 ],
 "metadata": {
  "kernelspec": {
   "display_name": "Python 3.10.6 64-bit",
   "language": "python",
   "name": "python3"
  },
  "language_info": {
   "codemirror_mode": {
    "name": "ipython",
    "version": 3
   },
   "file_extension": ".py",
   "mimetype": "text/x-python",
   "name": "python",
   "nbconvert_exporter": "python",
   "pygments_lexer": "ipython3",
   "version": "3.10.6"
  },
  "orig_nbformat": 4,
  "vscode": {
   "interpreter": {
    "hash": "9280cfe3a885ab6393e840bb0851a2b8b9319602f57c283749909a607b67fea4"
   }
  }
 },
 "nbformat": 4,
 "nbformat_minor": 2
}
