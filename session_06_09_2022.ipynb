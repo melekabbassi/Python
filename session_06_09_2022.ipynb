{
 "cells": [
  {
   "cell_type": "markdown",
   "metadata": {},
   "source": [
    "**Variables**"
   ]
  },
  {
   "cell_type": "code",
   "execution_count": 8,
   "metadata": {},
   "outputs": [
    {
     "data": {
      "text/plain": [
       "int"
      ]
     },
     "execution_count": 8,
     "metadata": {},
     "output_type": "execute_result"
    }
   ],
   "source": [
    "x=10\n",
    "type(x)"
   ]
  },
  {
   "cell_type": "code",
   "execution_count": 9,
   "metadata": {},
   "outputs": [
    {
     "data": {
      "text/plain": [
       "float"
      ]
     },
     "execution_count": 9,
     "metadata": {},
     "output_type": "execute_result"
    }
   ],
   "source": [
    "x=10.\n",
    "type(x)"
   ]
  },
  {
   "cell_type": "code",
   "execution_count": 12,
   "metadata": {},
   "outputs": [
    {
     "data": {
      "text/plain": [
       "str"
      ]
     },
     "execution_count": 12,
     "metadata": {},
     "output_type": "execute_result"
    }
   ],
   "source": [
    "x='Hello \\\"World\\\"'\n",
    "type(x)"
   ]
  },
  {
   "cell_type": "code",
   "execution_count": 13,
   "metadata": {},
   "outputs": [
    {
     "data": {
      "text/plain": [
       "bool"
      ]
     },
     "execution_count": 13,
     "metadata": {},
     "output_type": "execute_result"
    }
   ],
   "source": [
    "humidity=True\n",
    "type(humidity)"
   ]
  },
  {
   "cell_type": "markdown",
   "metadata": {},
   "source": [
    "**Operators**"
   ]
  },
  {
   "cell_type": "code",
   "execution_count": 15,
   "metadata": {},
   "outputs": [],
   "source": [
    "x=10\n",
    "y=20\n",
    "z=x+y\n",
    "z=x/y  # real division\n",
    "z=x//y # euclidean division\n",
    "z=x%y  # remainder\n",
    "z=x**y # power"
   ]
  },
  {
   "cell_type": "code",
   "execution_count": 19,
   "metadata": {},
   "outputs": [
    {
     "data": {
      "text/plain": [
       "False"
      ]
     },
     "execution_count": 19,
     "metadata": {},
     "output_type": "execute_result"
    }
   ],
   "source": [
    "x= 10<3 and 3>4"
   ]
  },
  {
   "cell_type": "code",
   "execution_count": 20,
   "metadata": {},
   "outputs": [
    {
     "data": {
      "text/plain": [
       "False"
      ]
     },
     "execution_count": 20,
     "metadata": {},
     "output_type": "execute_result"
    }
   ],
   "source": [
    "humidity=True\n",
    "not humidity"
   ]
  },
  {
   "cell_type": "code",
   "execution_count": 24,
   "metadata": {},
   "outputs": [
    {
     "data": {
      "text/plain": [
       "'ll'"
      ]
     },
     "execution_count": 24,
     "metadata": {},
     "output_type": "execute_result"
    }
   ],
   "source": [
    "s='hello'\n",
    "\n",
    "len(s) # length of string\n",
    "\n",
    "s[0] # first character\n",
    "\n",
    "s[4] # last character = len(s)-1\n",
    "\n",
    "s[-1] # last character\n",
    "\n",
    "s[-5] # first character\n",
    "\n",
    "s[1:3] # 2nd and 3rd character\n",
    "\n",
    "s[1:] # 2nd to last character\n",
    "\n",
    "s[:3] # first to 3rd character\n",
    "\n",
    "s[::-1] # reverse string\n",
    "\n",
    "s[3:1] # if index 1 is greater than index 3 Python returns empty string\n",
    "\n",
    "s[3:1:-1] # 4th and 3rd character"
   ]
  },
  {
   "cell_type": "markdown",
   "metadata": {},
   "source": [
    "**Standard Input & Output**"
   ]
  },
  {
   "cell_type": "code",
   "execution_count": 28,
   "metadata": {},
   "outputs": [],
   "source": [
    "# Standard Input\n",
    "# input() function returns a string\n",
    "x= input('Enter interger: ')\n",
    "# convert string to integer, float, etc.\n",
    "x= int(x)\n",
    "x= float(x)\n",
    "x= str(x)\n",
    "\n",
    "x=int(input('Enter interger: '))"
   ]
  },
  {
   "cell_type": "code",
   "execution_count": 37,
   "metadata": {},
   "outputs": [
    {
     "name": "stdout",
     "output_type": "stream",
     "text": [
      "Hello World\n",
      "2\n",
      "Hello 2 True bye\n",
      "Hello-2-True-bye;"
     ]
    }
   ],
   "source": [
    "# Standard Output\n",
    "print('Hello World')\n",
    "print(x)\n",
    "print('Hello', x, True, 'bye')\n",
    "print('Hello', x, True, 'bye', sep='-', end=';')"
   ]
  },
  {
   "cell_type": "markdown",
   "metadata": {},
   "source": [
    "**Exercice**"
   ]
  },
  {
   "cell_type": "code",
   "execution_count": 41,
   "metadata": {},
   "outputs": [
    {
     "name": "stdout",
     "output_type": "stream",
     "text": [
      "Sum of 8 and 3 is 11\n",
      "Sub of 8 and 3 is 5\n",
      "Mul of 8 and 3 is 24\n",
      "Div of 8 and 3 is 2.6666666666666665\n",
      "Mod of 8 and 3 is 2\n",
      "Exp of 8 and 3 is 512\n"
     ]
    }
   ],
   "source": [
    "firstNumber=int(input('Enter first integer: '))\n",
    "secondNumber=int(input('Enter second integer: '))\n",
    "\n",
    "print('Sum of', firstNumber, 'and', secondNumber, 'is', firstNumber+secondNumber)\n",
    "print('Sub of', firstNumber, 'and', secondNumber, 'is', firstNumber-secondNumber)\n",
    "print('Mul of', firstNumber, 'and', secondNumber, 'is', firstNumber*secondNumber)\n",
    "print('Div of', firstNumber, 'and', secondNumber, 'is', firstNumber/secondNumber)\n",
    "print('Mod of', firstNumber, 'and', secondNumber, 'is', firstNumber%secondNumber)\n",
    "print('Exp of', firstNumber, 'and', secondNumber, 'is', firstNumber**secondNumber)"
   ]
  },
  {
   "cell_type": "markdown",
   "metadata": {},
   "source": [
    "**Stream Control with if**"
   ]
  },
  {
   "cell_type": "code",
   "execution_count": 44,
   "metadata": {},
   "outputs": [
    {
     "name": "stdout",
     "output_type": "stream",
     "text": [
      "Number is positive\n"
     ]
    }
   ],
   "source": [
    "number=int(input('Enter first integer: '))\n",
    "if number > 0:\n",
    "    print('Number is positive')\n",
    "elif number < 0:\n",
    "    print('Number is negative')\n",
    "else:\n",
    "    print('Number is zero')"
   ]
  },
  {
   "cell_type": "markdown",
   "metadata": {},
   "source": [
    "**Excercice**"
   ]
  },
  {
   "cell_type": "code",
   "execution_count": 6,
   "metadata": {},
   "outputs": [
    {
     "name": "stdout",
     "output_type": "stream",
     "text": [
      "Faible\n"
     ]
    }
   ],
   "source": [
    "note=float(input('Enter first integer: '))\n",
    "\n",
    "if 0 >= note < 10:\n",
    "    print('Faible')\n",
    "elif 10 >= note < 12:\n",
    "    print('Moyen')\n",
    "elif 12 >= note < 14:\n",
    "    print('Assez Bien')\n",
    "elif 14 >= note < 16:\n",
    "    print('Bien')\n",
    "elif 16 >= note <= 20:\n",
    "    print('Excellent')\n",
    "else:\n",
    "    print('Invalid number')    "
   ]
  },
  {
   "cell_type": "markdown",
   "metadata": {},
   "source": [
    "**String Formatting**"
   ]
  },
  {
   "cell_type": "code",
   "execution_count": 7,
   "metadata": {},
   "outputs": [
    {
     "name": "stdout",
     "output_type": "stream",
     "text": [
      "name: Saleh, salary: 1000.455 and age: 30\n"
     ]
    }
   ],
   "source": [
    "name =\"Saleh\" # string\n",
    "salary = 1000.465455 # float\n",
    "age = 30 # integer\n",
    "\n",
    "message = 'name: Saleh, salary: 1000.455 and age: 30'\n",
    "print(message)"
   ]
  },
  {
   "cell_type": "markdown",
   "metadata": {},
   "source": [
    "% formatting"
   ]
  },
  {
   "cell_type": "code",
   "execution_count": 13,
   "metadata": {},
   "outputs": [
    {
     "name": "stdout",
     "output_type": "stream",
     "text": [
      "name: Saleh               , salary: 1000.47    and age: 30   \n"
     ]
    }
   ],
   "source": [
    "name =\"Saleh\" # string\n",
    "salary = 1000.465455 # float\n",
    "age = 30 # integer\n",
    "\n",
    "print('name: %-s, salary: %-10.2f and age: %-5d' % (name, salary, age))"
   ]
  },
  {
   "cell_type": "markdown",
   "metadata": {},
   "source": [
    "string.format() formatting"
   ]
  },
  {
   "cell_type": "code",
   "execution_count": 15,
   "metadata": {},
   "outputs": [
    {
     "name": "stdout",
     "output_type": "stream",
     "text": [
      "name: Saleh               , salary: 1000.47    and age: 30   \n",
      "name:                Saleh, salary:    1000.47 and age:    30\n",
      "name:        Saleh        , salary:  1000.47   and age:  30  \n"
     ]
    }
   ],
   "source": [
    "name =\"Saleh\" # string\n",
    "salary = 1000.465455 # float\n",
    "age = 30 # integer\n",
    "\n",
    "print('name: {0:<20}, salary: {1:<10.2f} and age: {2:<5d}' .format(name, salary, age))\n",
    "print('name: {0:>20}, salary: {1:>10.2f} and age: {2:>5d}' .format(name, salary, age))\n",
    "print('name: {0:^20}, salary: {1:^10.2f} and age: {2:^5d}' .format(name, salary, age))"
   ]
  },
  {
   "cell_type": "markdown",
   "metadata": {},
   "source": [
    "format() formatting"
   ]
  },
  {
   "cell_type": "code",
   "execution_count": 17,
   "metadata": {},
   "outputs": [
    {
     "data": {
      "text/plain": [
       "'  1000.47  '"
      ]
     },
     "execution_count": 17,
     "metadata": {},
     "output_type": "execute_result"
    }
   ],
   "source": [
    "name =\"Saleh\" # string\n",
    "salary = 1000.465455 # float\n",
    "age = 30 # integer\n",
    "\n",
    "format(salary, '^11.2f')\n"
   ]
  },
  {
   "cell_type": "markdown",
   "metadata": {},
   "source": [
    "**Calculator**"
   ]
  },
  {
   "cell_type": "code",
   "execution_count": null,
   "metadata": {},
   "outputs": [],
   "source": [
    "firstNumber=float(input('Enter first float: '))\n",
    "secondNumber=float(input('Enter second float: '))\n",
    "operator = input('Enter operator: ')\n",
    "\n",
    "if operator == '+':\n",
    "    print( firstNumber, \"+\", secondNumber,\"=\", firstNumber + secondNumber )\n",
    "elif operator == '-':\n",
    "    print( firstNumber, \"-\", secondNumber,\"=\", firstNumber - secondNumber )\n",
    "elif operator == '*':\n",
    "    print( firstNumber, \"*\", secondNumber,\"=\", firstNumber * secondNumber )\n",
    "elif operator == '/':\n",
    "    if secondNumber == 0:\n",
    "        print('Division by zero is not allowed')\n",
    "    else:   \n",
    "        print( firstNumber, \"/\", secondNumber,\"=\", firstNumber / secondNumber )\n",
    "elif operator == '%':\n",
    "    print( firstNumber, \"%\", secondNumber,\"=\", firstNumber % secondNumber )\n",
    "else:\n",
    "    print('Invalid operator')"
   ]
  },
  {
   "cell_type": "markdown",
   "metadata": {},
   "source": [
    "**Solution 2**"
   ]
  },
  {
   "cell_type": "markdown",
   "metadata": {},
   "source": [
    "operator in"
   ]
  },
  {
   "cell_type": "code",
   "execution_count": 13,
   "metadata": {},
   "outputs": [
    {
     "data": {
      "text/plain": [
       "True"
      ]
     },
     "execution_count": 13,
     "metadata": {},
     "output_type": "execute_result"
    }
   ],
   "source": [
    "1 in [1, 5, 7, 9]"
   ]
  },
  {
   "cell_type": "code",
   "execution_count": 12,
   "metadata": {},
   "outputs": [
    {
     "name": "stdout",
     "output_type": "stream",
     "text": [
      "<class 'float'>\n"
     ]
    }
   ],
   "source": [
    "firstNumber=float(input('Enter first float: '))\n",
    "secondNumber=float(input('Enter second float: '))\n",
    "operator = input('Enter operator: ')\n",
    "\n",
    "if operator in ['+', '-', '*', '/']:\n",
    "    print(firstNumber, operator, secondNumber, \"= \", eval(str(firstNumber)+operator+str(secondNumber)))\n",
    "else:\n",
    "    print(operator + ' is not valid')"
   ]
  },
  {
   "cell_type": "markdown",
   "metadata": {},
   "source": [
    "**Lists**"
   ]
  },
  {
   "cell_type": "code",
   "execution_count": 20,
   "metadata": {},
   "outputs": [
    {
     "data": {
      "text/plain": [
       "list"
      ]
     },
     "execution_count": 20,
     "metadata": {},
     "output_type": "execute_result"
    }
   ],
   "source": [
    "names=[] # empty list\n",
    "type(names)"
   ]
  },
  {
   "cell_type": "code",
   "execution_count": 19,
   "metadata": {},
   "outputs": [
    {
     "data": {
      "text/plain": [
       "0"
      ]
     },
     "execution_count": 19,
     "metadata": {},
     "output_type": "execute_result"
    }
   ],
   "source": [
    "len(names)"
   ]
  },
  {
   "cell_type": "code",
   "execution_count": 32,
   "metadata": {},
   "outputs": [
    {
     "data": {
      "text/plain": [
       "3"
      ]
     },
     "execution_count": 32,
     "metadata": {},
     "output_type": "execute_result"
    }
   ],
   "source": [
    "names=['Saleh', 'Ahmed', 'Ali']\n",
    "len(names)"
   ]
  },
  {
   "cell_type": "code",
   "execution_count": 24,
   "metadata": {},
   "outputs": [
    {
     "data": {
      "text/plain": [
       "['Ahmed']"
      ]
     },
     "execution_count": 24,
     "metadata": {},
     "output_type": "execute_result"
    }
   ],
   "source": [
    "names[1] # second element\n",
    "names[0:2] # first and second element\n",
    "names[::-1] # reverse list"
   ]
  },
  {
   "cell_type": "code",
   "execution_count": 33,
   "metadata": {},
   "outputs": [],
   "source": [
    "names.append('Mohamed')\n"
   ]
  },
  {
   "cell_type": "code",
   "execution_count": 27,
   "metadata": {},
   "outputs": [],
   "source": [
    "del names[3]"
   ]
  },
  {
   "cell_type": "code",
   "execution_count": 34,
   "metadata": {},
   "outputs": [],
   "source": [
    "names[1]='Sonia'"
   ]
  },
  {
   "cell_type": "code",
   "execution_count": 46,
   "metadata": {},
   "outputs": [],
   "source": [
    "products = ['TV', 'Laptop', 'Mobile', 'Tablet']"
   ]
  },
  {
   "cell_type": "code",
   "execution_count": 35,
   "metadata": {},
   "outputs": [
    {
     "data": {
      "text/plain": [
       "['Saleh', 'Sonia', 'Ali', 'Mohamed']"
      ]
     },
     "execution_count": 35,
     "metadata": {},
     "output_type": "execute_result"
    }
   ],
   "source": [
    "names1 = names.copy()\n",
    "names2 = names"
   ]
  },
  {
   "cell_type": "code",
   "execution_count": 38,
   "metadata": {},
   "outputs": [
    {
     "data": {
      "text/plain": [
       "True"
      ]
     },
     "execution_count": 38,
     "metadata": {},
     "output_type": "execute_result"
    }
   ],
   "source": [
    "names == names2"
   ]
  },
  {
   "cell_type": "code",
   "execution_count": 36,
   "metadata": {},
   "outputs": [
    {
     "data": {
      "text/plain": [
       "True"
      ]
     },
     "execution_count": 36,
     "metadata": {},
     "output_type": "execute_result"
    }
   ],
   "source": [
    "names2 is names"
   ]
  },
  {
   "cell_type": "code",
   "execution_count": 37,
   "metadata": {},
   "outputs": [
    {
     "data": {
      "text/plain": [
       "False"
      ]
     },
     "execution_count": 37,
     "metadata": {},
     "output_type": "execute_result"
    }
   ],
   "source": [
    "names1 is names"
   ]
  },
  {
   "cell_type": "markdown",
   "metadata": {},
   "source": [
    "**Split & Join**"
   ]
  },
  {
   "cell_type": "code",
   "execution_count": 43,
   "metadata": {},
   "outputs": [
    {
     "data": {
      "text/plain": [
       "['1234', 'Tunis', '223']"
      ]
     },
     "execution_count": 43,
     "metadata": {},
     "output_type": "execute_result"
    }
   ],
   "source": [
    "immat='1234-Tunis-223'\n",
    "immat.split('-')"
   ]
  },
  {
   "cell_type": "code",
   "execution_count": 44,
   "metadata": {},
   "outputs": [
    {
     "data": {
      "text/plain": [
       "'1234-Tunis-223'"
      ]
     },
     "execution_count": 44,
     "metadata": {},
     "output_type": "execute_result"
    }
   ],
   "source": [
    "\"-\".join(['1234', 'Tunis', '223'])"
   ]
  },
  {
   "cell_type": "markdown",
   "metadata": {},
   "source": [
    "**Loops**"
   ]
  },
  {
   "cell_type": "markdown",
   "metadata": {},
   "source": [
    "For Loop"
   ]
  },
  {
   "cell_type": "code",
   "execution_count": 47,
   "metadata": {},
   "outputs": [
    {
     "name": "stdout",
     "output_type": "stream",
     "text": [
      "TV\n",
      "Laptop\n",
      "Mobile\n",
      "Tablet\n"
     ]
    }
   ],
   "source": [
    "for product in products : # header for loop\n",
    "    print(product) # body for loop"
   ]
  },
  {
   "cell_type": "code",
   "execution_count": 48,
   "metadata": {},
   "outputs": [
    {
     "name": "stdout",
     "output_type": "stream",
     "text": [
      "Saleh\n",
      "Sonia\n",
      "Ali\n",
      "Mohamed\n"
     ]
    }
   ],
   "source": [
    "for i in range(len(names)):\n",
    "    print(names[i])"
   ]
  },
  {
   "cell_type": "markdown",
   "metadata": {},
   "source": [
    "**Recap Exercice**"
   ]
  },
  {
   "cell_type": "code",
   "execution_count": 36,
   "metadata": {},
   "outputs": [
    {
     "name": "stdout",
     "output_type": "stream",
     "text": [
      "product   | priceht   | quantity  \n",
      "-----------------------------------\n",
      "TV        | 1500.55   | 5         \n",
      "-----------------------------------\n",
      "Laptop    | 2500.55   | 3         \n",
      "-----------------------------------\n",
      "Mobile    | 3541.54   | 20        \n",
      "-----------------------------------\n",
      "Tablet    | 451.51    | 10        \n",
      "-----------------------------------\n"
     ]
    }
   ],
   "source": [
    "products = ['TV', 'Laptop', 'Mobile', 'Tablet']\n",
    "pricehts = [1500.551, 2500.545, 3541.541, 451.515]\n",
    "quantities = [5, 3, 20, 10]\n",
    "print('{0:<10s}| {1:<10s}| {2:<10s}' .format('product', 'priceht', 'quantity'))\n",
    "print(\"-----------------------------------\")\n",
    "for product, priceht, quantity in zip(products, pricehts, quantities):\n",
    "    print('{0:<10s}| {1:<10.2f}| {2:<10d}' .format(product, priceht, quantity))\n",
    "    print(\"-----------------------------------\")"
   ]
  },
  {
   "cell_type": "markdown",
   "metadata": {},
   "source": [
    "Correction"
   ]
  },
  {
   "cell_type": "code",
   "execution_count": 34,
   "metadata": {},
   "outputs": [
    {
     "name": "stdout",
     "output_type": "stream",
     "text": [
      "product    | priceht    | quantity  \n",
      "-----------------------------------\n",
      "TV         | 1500.55    | 5         \n",
      "-----------------------------------\n",
      "Laptop     | 2500.55    | 3         \n",
      "-----------------------------------\n",
      "Mobile     | 3541.54    | 20        \n",
      "-----------------------------------\n",
      "Tablet     | 451.51     | 10        \n",
      "-----------------------------------\n"
     ]
    }
   ],
   "source": [
    "products = ['TV', 'Laptop', 'Mobile', 'Tablet']\n",
    "pricehts = [1500.551, 2500.545, 3541.541, 451.515]\n",
    "quantities = [5, 3, 20, 10]\n",
    "print('%-10s | %-10s | %-10s' % ('product', 'priceht', 'quantity'))\n",
    "print(\"-----------------------------------\")\n",
    "for product, priceht, quantity in zip(products, pricehts, quantities):\n",
    "    print('%-10s | %-10.2f | %-10d' % (product, priceht, quantity))\n",
    "    print(\"-----------------------------------\")"
   ]
  },
  {
   "cell_type": "markdown",
   "metadata": {},
   "source": [
    "Solution 2"
   ]
  },
  {
   "cell_type": "code",
   "execution_count": 37,
   "metadata": {},
   "outputs": [
    {
     "name": "stdout",
     "output_type": "stream",
     "text": [
      "product    | priceht    | quantity  \n",
      "-----------------------------------\n",
      "TV         | 1500.55    | 5         \n",
      "-----------------------------------\n",
      "Laptop     | 2500.55    | 3         \n",
      "-----------------------------------\n",
      "Mobile     | 3541.54    | 20        \n",
      "-----------------------------------\n",
      "Tablet     | 451.51     | 10        \n",
      "-----------------------------------\n"
     ]
    }
   ],
   "source": [
    "print('%-10s | %-10s | %-10s' % ('product', 'priceht', 'quantity'))\n",
    "print(\"-----------------------------------\")\n",
    "for i in range(len(products)):\n",
    "    print('%-10s | %-10.2f | %-10d' % (products[i], pricehts[i], quantities[i]))\n",
    "    print(\"-----------------------------------\")"
   ]
  }
 ],
 "metadata": {
  "kernelspec": {
   "display_name": "Python 3.10.6 64-bit",
   "language": "python",
   "name": "python3"
  },
  "language_info": {
   "codemirror_mode": {
    "name": "ipython",
    "version": 3
   },
   "file_extension": ".py",
   "mimetype": "text/x-python",
   "name": "python",
   "nbconvert_exporter": "python",
   "pygments_lexer": "ipython3",
   "version": "3.10.6"
  },
  "orig_nbformat": 4,
  "vscode": {
   "interpreter": {
    "hash": "9280cfe3a885ab6393e840bb0851a2b8b9319602f57c283749909a607b67fea4"
   }
  }
 },
 "nbformat": 4,
 "nbformat_minor": 2
}
