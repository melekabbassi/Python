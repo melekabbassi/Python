{
 "cells": [
  {
   "cell_type": "markdown",
   "metadata": {},
   "source": [
    "**Files**"
   ]
  },
  {
   "cell_type": "markdown",
   "metadata": {},
   "source": [
    "#### There is 5 modes for file manipulation: WRITE(w), READ(r), WRITE/READ(w+), READ/WRITE(r+), APPEND(a)"
   ]
  },
  {
   "cell_type": "markdown",
   "metadata": {},
   "source": [
    "WRITE(w) mode"
   ]
  },
  {
   "cell_type": "code",
   "execution_count": 1,
   "metadata": {},
   "outputs": [],
   "source": [
    "file = open(\"data.txt\", \"w\")\n",
    "file.write(\"Hello World\")\n",
    "file.close()"
   ]
  },
  {
   "cell_type": "code",
   "execution_count": 3,
   "metadata": {},
   "outputs": [],
   "source": [
    "file = open(\"data.txt\", \"w\")\n",
    "file.write(\"Bye\")\n",
    "file.close()"
   ]
  },
  {
   "cell_type": "code",
   "execution_count": 13,
   "metadata": {},
   "outputs": [],
   "source": [
    "file = open(\"data.txt\", \"w\")\n",
    "file.write(\"Hello World\\n\")\n",
    "file.write(\"Bye\")\n",
    "file.close()"
   ]
  },
  {
   "cell_type": "code",
   "execution_count": 11,
   "metadata": {},
   "outputs": [],
   "source": [
    "file = open(\"data.txt\", \"w\")\n",
    "file.write(\"Hello World\\n\")\n",
    "file.seek(0)\n",
    "file.write(\"Bye\")\n",
    "file.close()"
   ]
  },
  {
   "cell_type": "markdown",
   "metadata": {},
   "source": [
    "READ(r) mode"
   ]
  },
  {
   "cell_type": "code",
   "execution_count": 14,
   "metadata": {},
   "outputs": [
    {
     "name": "stdout",
     "output_type": "stream",
     "text": [
      "Hello World\n",
      "Bye\n"
     ]
    }
   ],
   "source": [
    "file = open(\"data.txt\", \"r\")\n",
    "print(file.read())\n",
    "file.close()"
   ]
  },
  {
   "cell_type": "code",
   "execution_count": 22,
   "metadata": {},
   "outputs": [
    {
     "name": "stdout",
     "output_type": "stream",
     "text": [
      "File not found\n"
     ]
    }
   ],
   "source": [
    "try:\n",
    "    file = open(\"data1.txt\", \"r\")\n",
    "    print(file.read())\n",
    "    file.close()\n",
    "except FileNotFoundError:\n",
    "    print(\"File not found\")"
   ]
  },
  {
   "cell_type": "code",
   "execution_count": 23,
   "metadata": {},
   "outputs": [
    {
     "name": "stdout",
     "output_type": "stream",
     "text": [
      "Hello World\n",
      "Bye\n"
     ]
    }
   ],
   "source": [
    "import os\n",
    "file_name = \"data.txt\"\n",
    "if os.path.exists(file_name):\n",
    "    file = open(\"data.txt\", \"r\")\n",
    "    print(file.read())\n",
    "    file.close()\n",
    "else:\n",
    "    print(\"File not found\")"
   ]
  },
  {
   "cell_type": "code",
   "execution_count": 24,
   "metadata": {},
   "outputs": [
    {
     "name": "stdout",
     "output_type": "stream",
     "text": [
      "Hello World\n",
      "\n",
      "Welcome\n",
      "\n",
      "2022\n"
     ]
    }
   ],
   "source": [
    "file = open(\"data2.txt\", \"w\")\n",
    "file.write(\"Hello World\\n\")\n",
    "file.write(\"Welcome\\n\")\n",
    "file.write(\"2022\")\n",
    "file.close()\n",
    "\n",
    "file = open(\"data2.txt\", \"r\")\n",
    "print(file.readline())\n",
    "print(file.readline())\n",
    "print(file.readline())\n",
    "file.close()"
   ]
  },
  {
   "cell_type": "markdown",
   "metadata": {},
   "source": [
    "**Exercices**"
   ]
  },
  {
   "cell_type": "code",
   "execution_count": 47,
   "metadata": {},
   "outputs": [
    {
     "name": "stdout",
     "output_type": "stream",
     "text": [
      "Hello World\n",
      "\n"
     ]
    }
   ],
   "source": [
    "file = open(\"data_ex.txt\", \"w\")\n",
    "file.write(\"Hello World\\n\")\n",
    "file.close()\n",
    "\n",
    "file = open(\"data_ex.txt\", \"r\")\n",
    "end_of_file = False\n",
    "while not end_of_file:\n",
    "    print(file.read())\n",
    "    if file.readline() == \"\":\n",
    "        end_of_file = True\n",
    "    file.close()"
   ]
  },
  {
   "cell_type": "code",
   "execution_count": 2,
   "metadata": {},
   "outputs": [],
   "source": [
    "products = [\"TV\", \"Mobile\", \"Laptop\", \"Tablet\"]\n",
    "pricehts = [1000, 500, 1000, 500]\n",
    "quantities = [10, 20, 30, 40]\n",
    "\n",
    "file = open(\"store.csv\", \"w\")\n",
    "for i in range(len(products)):\n",
    "    file.write(products[i] + \", \" + str(pricehts[i]) + \", \" + str(quantities[i]) + \"\\n\")\n",
    "file.close()"
   ]
  },
  {
   "cell_type": "code",
   "execution_count": 12,
   "metadata": {},
   "outputs": [
    {
     "name": "stdout",
     "output_type": "stream",
     "text": [
      "['TV', 'Mobile', 'Laptop', 'Tablet']\n",
      "[1000, 500, 1000, 500]\n",
      "[10, 20, 30, 40]\n"
     ]
    }
   ],
   "source": [
    "products1 = []\n",
    "pricehts1 = []\n",
    "quantities1 = []\n",
    "\n",
    "file = open(\"store.csv\", \"r\")\n",
    "line = file.readline()\n",
    "\n",
    "while line != \"\":\n",
    "    line = line.strip()\n",
    "    list = line.split(\", \")\n",
    "    products1.append(list[0])\n",
    "    pricehts1.append(int(list[1]))\n",
    "    quantities1.append(int(list[2]))\n",
    "    line = file.readline()\n",
    "file.close()\n",
    "\n",
    "print(products1)\n",
    "print(pricehts1)\n",
    "print(quantities1)"
   ]
  },
  {
   "cell_type": "code",
   "execution_count": 18,
   "metadata": {},
   "outputs": [
    {
     "name": "stdout",
     "output_type": "stream",
     "text": [
      "['TV', 'Mobile', 'Laptop', 'Tablet']\n",
      "[1000, 500, 1000, 500]\n",
      "[10, 20, 30, 40]\n"
     ]
    }
   ],
   "source": [
    "products1 = []\n",
    "pricehts1 = []\n",
    "quantities1 = []\n",
    "\n",
    "with open(\"store.csv\", \"r\") as file:\n",
    "    line = file.readline()\n",
    "    while line != \"\":\n",
    "        line = line.strip()\n",
    "        list = line.split(\", \")\n",
    "        products1.append(list[0])\n",
    "        pricehts1.append(int(list[1]))\n",
    "        quantities1.append(int(list[2]))\n",
    "        line = file.readline()\n",
    "print(products1)\n",
    "print(pricehts1)\n",
    "print(quantities1)"
   ]
  },
  {
   "cell_type": "code",
   "execution_count": 19,
   "metadata": {},
   "outputs": [
    {
     "name": "stdout",
     "output_type": "stream",
     "text": [
      "['TV', 'Mobile', 'Laptop', 'Tablet']\n",
      "[1000, 500, 1000, 500]\n",
      "[10, 20, 30, 40]\n"
     ]
    }
   ],
   "source": [
    "products1 = []\n",
    "pricehts1 = []\n",
    "quantities1 = []\n",
    "\n",
    "with open(\"store.csv\", \"r\") as file:\n",
    "    for line in file:\n",
    "        line = line.rstrip()\n",
    "        list = line.split(\", \")\n",
    "        products1.append(list[0])\n",
    "        pricehts1.append(int(list[1]))\n",
    "        quantities1.append(int(list[2]))\n",
    "print(products1)\n",
    "print(pricehts1)\n",
    "print(quantities1)"
   ]
  },
  {
   "cell_type": "markdown",
   "metadata": {},
   "source": [
    "WRITE/READ(w+)"
   ]
  },
  {
   "cell_type": "code",
   "execution_count": 24,
   "metadata": {},
   "outputs": [
    {
     "name": "stdout",
     "output_type": "stream",
     "text": [
      "Hello\n"
     ]
    }
   ],
   "source": [
    "file = open(\"data.txt\", \"w+\")\n",
    "file.write(\"Hello\")\n",
    "file.seek(0)\n",
    "print(file.read())\n",
    "file.close()"
   ]
  },
  {
   "cell_type": "markdown",
   "metadata": {},
   "source": [
    "READ/WRITE(r+)"
   ]
  },
  {
   "cell_type": "code",
   "execution_count": 28,
   "metadata": {},
   "outputs": [],
   "source": [
    "file = open(\"data.txt\", \"r+\")\n",
    "file.write(\"pi\")\n",
    "file.close()"
   ]
  },
  {
   "cell_type": "markdown",
   "metadata": {},
   "source": [
    "APPEND(a)"
   ]
  },
  {
   "cell_type": "code",
   "execution_count": 30,
   "metadata": {},
   "outputs": [],
   "source": [
    "file = open(\"data.txt\", \"a\")\n",
    "file.seek(0) # \"a\" is not working with seek\n",
    "file.write(\" Hello\")\n",
    "file.close()"
   ]
  },
  {
   "cell_type": "markdown",
   "metadata": {},
   "source": [
    "**Modules**"
   ]
  },
  {
   "cell_type": "code",
   "execution_count": null,
   "metadata": {},
   "outputs": [],
   "source": []
  },
  {
   "cell_type": "markdown",
   "metadata": {},
   "source": [
    "**Unit Testing**"
   ]
  },
  {
   "cell_type": "code",
   "execution_count": null,
   "metadata": {},
   "outputs": [],
   "source": []
  }
 ],
 "metadata": {
  "kernelspec": {
   "display_name": "Python 3.10.6 64-bit",
   "language": "python",
   "name": "python3"
  },
  "language_info": {
   "codemirror_mode": {
    "name": "ipython",
    "version": 3
   },
   "file_extension": ".py",
   "mimetype": "text/x-python",
   "name": "python",
   "nbconvert_exporter": "python",
   "pygments_lexer": "ipython3",
   "version": "3.10.6"
  },
  "orig_nbformat": 4,
  "vscode": {
   "interpreter": {
    "hash": "9280cfe3a885ab6393e840bb0851a2b8b9319602f57c283749909a607b67fea4"
   }
  }
 },
 "nbformat": 4,
 "nbformat_minor": 2
}
