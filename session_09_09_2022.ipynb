{
 "cells": [
  {
   "cell_type": "markdown",
   "metadata": {},
   "source": [
    "**Classes**"
   ]
  },
  {
   "cell_type": "code",
   "execution_count": 1,
   "metadata": {},
   "outputs": [],
   "source": [
    "# defining the class\n",
    "class Point:\n",
    "    # defining the default constructor\n",
    "    def __init__(self):\n",
    "        pass"
   ]
  },
  {
   "cell_type": "code",
   "execution_count": 2,
   "metadata": {},
   "outputs": [],
   "source": [
    "# defining the class\n",
    "class Point:\n",
    "    # defining the constructor\n",
    "    def __init__(self, name,x, y):\n",
    "        self.name = name\n",
    "        self.x = x\n",
    "        self.y = y"
   ]
  },
  {
   "cell_type": "code",
   "execution_count": 4,
   "metadata": {},
   "outputs": [],
   "source": [
    "# creating an object of the class\n",
    "p1 = Point('P1', 2, 3)"
   ]
  },
  {
   "cell_type": "code",
   "execution_count": 9,
   "metadata": {},
   "outputs": [
    {
     "name": "stdout",
     "output_type": "stream",
     "text": [
      "P1(2,3)\n"
     ]
    }
   ],
   "source": [
    "print(p1.name + \"(\" + str(p1.x) + \",\" + str(p1.y) + \")\")"
   ]
  },
  {
   "cell_type": "code",
   "execution_count": 18,
   "metadata": {},
   "outputs": [],
   "source": [
    "# defining the class\n",
    "class Point:\n",
    "    # defining the constructor\n",
    "    def __init__(self, name='P',x=0, y=0):\n",
    "        self.name = name\n",
    "        self.x = x\n",
    "        self.y = y\n",
    "    def display(self):\n",
    "        # print(self.name + \"(\" + str(self.x) + \",\" + str(self.y) + \")\")\n",
    "        print('%s(%.2f,%.2f)' % (self.name, self.x, self.y))"
   ]
  },
  {
   "cell_type": "code",
   "execution_count": 19,
   "metadata": {},
   "outputs": [
    {
     "name": "stdout",
     "output_type": "stream",
     "text": [
      "P(0,0)\n",
      "P(0.00,0.00)\n"
     ]
    }
   ],
   "source": [
    "p2=Point()\n",
    "\n",
    "print(p2.name + \"(\" + str(p2.x) + \",\" + str(p2.y) + \")\")\n",
    "\n",
    "p2.display()"
   ]
  },
  {
   "cell_type": "code",
   "execution_count": 20,
   "metadata": {},
   "outputs": [
    {
     "name": "stdout",
     "output_type": "stream",
     "text": [
      "P3(10,0)\n",
      "P3(10.00,0.00)\n"
     ]
    }
   ],
   "source": [
    "p3 = Point(x = 10, name = 'P3')\n",
    "\n",
    "print(p3.name + \"(\" + str(p3.x) + \",\" + str(p3.y) + \")\")\n",
    "\n",
    "p3.display()"
   ]
  },
  {
   "cell_type": "markdown",
   "metadata": {},
   "source": [
    "**Unit testing**"
   ]
  },
  {
   "cell_type": "code",
   "execution_count": null,
   "metadata": {},
   "outputs": [],
   "source": []
  }
 ],
 "metadata": {
  "kernelspec": {
   "display_name": "Python 3.10.6 64-bit",
   "language": "python",
   "name": "python3"
  },
  "language_info": {
   "codemirror_mode": {
    "name": "ipython",
    "version": 3
   },
   "file_extension": ".py",
   "mimetype": "text/x-python",
   "name": "python",
   "nbconvert_exporter": "python",
   "pygments_lexer": "ipython3",
   "version": "3.10.6"
  },
  "orig_nbformat": 4,
  "vscode": {
   "interpreter": {
    "hash": "9280cfe3a885ab6393e840bb0851a2b8b9319602f57c283749909a607b67fea4"
   }
  }
 },
 "nbformat": 4,
 "nbformat_minor": 2
}
