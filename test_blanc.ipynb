{
 "cells": [
  {
   "cell_type": "code",
   "execution_count": null,
   "metadata": {},
   "outputs": [],
   "source": [
    "num1 = 0\n",
    "num2 = 0\n",
    "\n",
    "if num1 == num2:\n",
    "    print(\"num1 and num2 are equal\")\n",
    "if num1 <= num2:\n",
    "    print(\"num1 is less than or equal to num2\")\n",
    "if num1 >= num2:\n",
    "    print(\"num1 is greater than or equal to num2\")\n",
    "if num1 = num2:\n",
    "    print(\"num1 is equal to num2\")"
   ]
  },
  {
   "cell_type": "code",
   "execution_count": 1,
   "metadata": {},
   "outputs": [
    {
     "name": "stdout",
     "output_type": "stream",
     "text": [
      "the values in numList are not equal to the values in alphaList\n"
     ]
    }
   ],
   "source": [
    "numList = [1,2,3,4,5]\n",
    "alphaList = ['a','b','c','d','e']\n",
    "\n",
    "if numList == alphaList:\n",
    "    print(\"the values in numList are equal to the values in alphaList\")\n",
    "else:\n",
    "    print(\"the values in numList are not equal to the values in alphaList\")\n"
   ]
  },
  {
   "cell_type": "code",
   "execution_count": 3,
   "metadata": {},
   "outputs": [
    {
     "name": "stdout",
     "output_type": "stream",
     "text": [
      "1 digits\n"
     ]
    }
   ],
   "source": [
    "num = int(input(\"Enter a number with 1 or 2 digits: \"))\n",
    "digits = \"0\"\n",
    "\n",
    "if num > -10 and num < 10:\n",
    "    digits = \"1\"\n",
    "elif num > -100 and num < 100:\n",
    "    digits = \"2\"\n",
    "else:\n",
    "    digits = \">2\"\n",
    "print(digits + \" digits\")"
   ]
  },
  {
   "cell_type": "code",
   "execution_count": 6,
   "metadata": {},
   "outputs": [
    {
     "name": "stdout",
     "output_type": "stream",
     "text": [
      "MELEK is all uppercase\n"
     ]
    }
   ],
   "source": [
    "name = input(\"Enter your name: \")\n",
    "\n",
    "if name.lower() == name:\n",
    "    print(name, \"is all lowercase\")\n",
    "elif name.upper() == name:\n",
    "    print(name, \"is all uppercase\")\n",
    "else:\n",
    "    print(name, \"is mixed case\")"
   ]
  },
  {
   "cell_type": "code",
   "execution_count": null,
   "metadata": {},
   "outputs": [],
   "source": [
    "def count_letter(letter, word_list):\n",
    "    count = 0\n",
    "    for word in word_list:\n",
    "        if letter in word:\n",
    "            count += 1\n",
    "        return count\n",
    "word_list=[]\n",
    "\n",
    "# word_list is populated with words from a file\n",
    "\n",
    "letter = input(\"which letter would you like to count? \")\n",
    "letter_count = count_letter(letter, word_list)\n",
    "print(\"There are\", letter_count, \"instances of\" + letter)"
   ]
  },
  {
   "cell_type": "code",
   "execution_count": 8,
   "metadata": {},
   "outputs": [
    {
     "name": "stdout",
     "output_type": "stream",
     "text": [
      "30.0\n"
     ]
    }
   ],
   "source": [
    "value1 = 24\n",
    "value2 = 7\n",
    "value3 = 17.9\n",
    "\n",
    "answer = (value1 % value2 * 100) // 2.0 ** 3.0 - value2\n",
    "print(answer)"
   ]
  },
  {
   "cell_type": "code",
   "execution_count": 15,
   "metadata": {},
   "outputs": [
    {
     "name": "stdout",
     "output_type": "stream",
     "text": [
      "You were born in 1997\n"
     ]
    }
   ],
   "source": [
    "age = input(\"Enter your age: \")\n",
    "year = input(\"Enter the current year: \")\n",
    "born = eval(year) - eval(age)\n",
    "message = \"You were born in \" + str(born)\n",
    "print(message)"
   ]
  },
  {
   "cell_type": "code",
   "execution_count": 19,
   "metadata": {},
   "outputs": [
    {
     "name": "stdout",
     "output_type": "stream",
     "text": [
      "71\n"
     ]
    }
   ],
   "source": [
    "grade = 76\n",
    "rank = 3\n",
    "\n",
    "if grade > 80 and rank >= 3:\n",
    "    grade += 10\n",
    "elif grade >= 70 and rank > 3:\n",
    "    grade += 5\n",
    "else:\n",
    "    grade -= 5\n",
    "print(grade)"
   ]
  },
  {
   "cell_type": "code",
   "execution_count": 23,
   "metadata": {},
   "outputs": [
    {
     "data": {
      "text/plain": [
       "'zwtqnkheb'"
      ]
     },
     "execution_count": 23,
     "metadata": {},
     "output_type": "execute_result"
    }
   ],
   "source": [
    "alph = \"abcdefghijklmnopqrstuvwxyz\"\n",
    "\n",
    "alph[::-3]"
   ]
  },
  {
   "cell_type": "code",
   "execution_count": 29,
   "metadata": {},
   "outputs": [
    {
     "name": "stdout",
     "output_type": "stream",
     "text": [
      "10\n"
     ]
    }
   ],
   "source": [
    "def admission_fee(age, school):\n",
    "    rate = 0\n",
    "    if age >= 5 and school == True:\n",
    "        rate = 10\n",
    "    elif age >= 5 and school == False:\n",
    "        if age <= 17:\n",
    "            rate = 20\n",
    "        else:\n",
    "            rate = 50\n",
    "    return rate\n",
    "\n",
    "print(admission_fee(15, True))"
   ]
  },
  {
   "cell_type": "code",
   "execution_count": 30,
   "metadata": {},
   "outputs": [
    {
     "name": "stdout",
     "output_type": "stream",
     "text": [
      "The total payroll is 215000\n",
      "The average salary is 53750.0\n"
     ]
    }
   ],
   "source": [
    "employee_pay = [15000, 120000, 35000, 45000]\n",
    "count = 0\n",
    "sum = 0\n",
    "\n",
    "for index in range(len(employee_pay)):\n",
    "    count += 1\n",
    "    sum += employee_pay[index]\n",
    "average = sum / count\n",
    "print(\"The total payroll is\", sum)\n",
    "print(\"The average salary is\", average)"
   ]
  },
  {
   "cell_type": "code",
   "execution_count": null,
   "metadata": {},
   "outputs": [],
   "source": [
    "# Arithmetic Operators Order of Precedence in Python\n",
    "# 1. Parentheses\n",
    "# 2. Exponentiation\n",
    "# 3. Multiplication, Division, Modulus\n",
    "# 4. Addition, Subtraction"
   ]
  },
  {
   "cell_type": "markdown",
   "metadata": {},
   "source": [
    "**Partie 2**"
   ]
  },
  {
   "cell_type": "code",
   "execution_count": 4,
   "metadata": {},
   "outputs": [
    {
     "name": "stdout",
     "output_type": "stream",
     "text": [
      "2 is prime\n",
      "3 is prime\n",
      "5 is prime\n",
      "7 is prime\n",
      "11 is prime\n",
      "13 is prime\n",
      "17 is prime\n",
      "19 is prime\n",
      "23 is prime\n",
      "29 is prime\n",
      "31 is prime\n",
      "37 is prime\n",
      "41 is prime\n",
      "43 is prime\n",
      "47 is prime\n",
      "53 is prime\n",
      "59 is prime\n",
      "61 is prime\n",
      "67 is prime\n",
      "71 is prime\n",
      "73 is prime\n",
      "79 is prime\n",
      "83 is prime\n",
      "89 is prime\n",
      "97 is prime\n"
     ]
    }
   ],
   "source": [
    "# prime numbers are numbers that are only divisible by 1 and themselves\n",
    "\n",
    "p=2\n",
    "while p < 100:\n",
    "    is_prime = True\n",
    "    for i in range(2, p):\n",
    "        if p % i == 0:\n",
    "            is_prime = False\n",
    "    if is_prime:\n",
    "        print(p, \"is prime\")\n",
    "    p += 1"
   ]
  },
  {
   "cell_type": "code",
   "execution_count": 5,
   "metadata": {},
   "outputs": [
    {
     "name": "stdout",
     "output_type": "stream",
     "text": [
      "11\n",
      "3\n",
      "4\n"
     ]
    }
   ],
   "source": [
    "x = \"Hello World\"\n",
    "while x!= \"QUIT\":\n",
    "    num = 0\n",
    "    for char in x:\n",
    "        num += 1\n",
    "    print(num)\n",
    "    x = input(\"enter a new word or type QUIT to quit: \")"
   ]
  },
  {
   "cell_type": "code",
   "execution_count": 9,
   "metadata": {},
   "outputs": [
    {
     "name": "stdout",
     "output_type": "stream",
     "text": [
      "The average star rating for the new coffee is: 5.00\n"
     ]
    }
   ],
   "source": [
    "sum = count = done = 0\n",
    "average = 0.0\n",
    "while done != -1:\n",
    "\trating = float(input(\"Enter next rating (1-5, -1 for done)\"))\n",
    "\tif rating == -1:\n",
    "\t\tbreak\n",
    "\tsum += rating\n",
    "\tcount += 1\n",
    "average = float(sum/count)\n",
    "print(\"The average star rating for the new coffee is: \" + format(average, \".2f\"))\n"
   ]
  },
  {
   "cell_type": "code",
   "execution_count": 11,
   "metadata": {},
   "outputs": [
    {
     "name": "stdout",
     "output_type": "stream",
     "text": [
      "25\n"
     ]
    }
   ],
   "source": [
    "def calc_power(a, b):\n",
    "    return a ** b\n",
    "base = eval(input(\"Enter the base: \"))\n",
    "exponent = eval(input(\"Enter the exponent: \"))\n",
    "result = calc_power(base, exponent)\n",
    "print(result)"
   ]
  },
  {
   "cell_type": "code",
   "execution_count": 12,
   "metadata": {},
   "outputs": [],
   "source": [
    "salary_list = []\n",
    "\n",
    "for index in range(len(salary_list)):\n",
    "    if salary_list[index] >= 150000:\n",
    "        continue\n",
    "    salary_list[index] = (salary_list[index] * 1.03) + 500"
   ]
  },
  {
   "cell_type": "code",
   "execution_count": 13,
   "metadata": {},
   "outputs": [
    {
     "name": "stdout",
     "output_type": "stream",
     "text": [
      "apples and bananas and oranges\n"
     ]
    }
   ],
   "source": [
    "x=\"oranges\"\n",
    "y=\"apples\"\n",
    "z=\"bananas\"\n",
    "data = \"{1} and {0} and {2}\"\n",
    "print(data.format(z,y,x))"
   ]
  },
  {
   "cell_type": "code",
   "execution_count": 14,
   "metadata": {},
   "outputs": [
    {
     "name": "stdout",
     "output_type": "stream",
     "text": [
      "10\n",
      "40\n"
     ]
    }
   ],
   "source": [
    "product = 2\n",
    "n = 5\n",
    "while (n != 0):\n",
    "    product *= n\n",
    "    print(product)\n",
    "    n -= 1\n",
    "    if n == 3: break"
   ]
  }
 ],
 "metadata": {
  "kernelspec": {
   "display_name": "Python 3.10.7 64-bit",
   "language": "python",
   "name": "python3"
  },
  "language_info": {
   "codemirror_mode": {
    "name": "ipython",
    "version": 3
   },
   "file_extension": ".py",
   "mimetype": "text/x-python",
   "name": "python",
   "nbconvert_exporter": "python",
   "pygments_lexer": "ipython3",
   "version": "3.10.7"
  },
  "orig_nbformat": 4,
  "vscode": {
   "interpreter": {
    "hash": "26de051ba29f2982a8de78e945f0abaf191376122a1563185a90213a26c5da77"
   }
  }
 },
 "nbformat": 4,
 "nbformat_minor": 2
}
