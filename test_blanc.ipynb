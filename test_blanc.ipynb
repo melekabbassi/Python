{
 "cells": [
  {
   "cell_type": "code",
   "execution_count": null,
   "metadata": {},
   "outputs": [],
   "source": [
    "num1 = 0\n",
    "num2 = 0\n",
    "\n",
    "if num1 == num2:\n",
    "    print(\"num1 and num2 are equal\")\n",
    "if num1 <= num2:\n",
    "    print(\"num1 is less than or equal to num2\")\n",
    "if num1 >= num2:\n",
    "    print(\"num1 is greater than or equal to num2\")\n",
    "if num1 = num2:\n",
    "    print(\"num1 is equal to num2\")"
   ]
  },
  {
   "cell_type": "code",
   "execution_count": 1,
   "metadata": {},
   "outputs": [
    {
     "name": "stdout",
     "output_type": "stream",
     "text": [
      "the values in numList are not equal to the values in alphaList\n"
     ]
    }
   ],
   "source": [
    "numList = [1,2,3,4,5]\n",
    "alphaList = ['a','b','c','d','e']\n",
    "\n",
    "if numList == alphaList:\n",
    "    print(\"the values in numList are equal to the values in alphaList\")\n",
    "else:\n",
    "    print(\"the values in numList are not equal to the values in alphaList\")\n"
   ]
  },
  {
   "cell_type": "code",
   "execution_count": 3,
   "metadata": {},
   "outputs": [
    {
     "name": "stdout",
     "output_type": "stream",
     "text": [
      "1 digits\n"
     ]
    }
   ],
   "source": [
    "num = int(input(\"Enter a number with 1 or 2 digits: \"))\n",
    "digits = \"0\"\n",
    "\n",
    "if num > -10 and num < 10:\n",
    "    digits = \"1\"\n",
    "elif num > -100 and num < 100:\n",
    "    digits = \"2\"\n",
    "else:\n",
    "    digits = \">2\"\n",
    "print(digits + \" digits\")"
   ]
  },
  {
   "cell_type": "code",
   "execution_count": 6,
   "metadata": {},
   "outputs": [
    {
     "name": "stdout",
     "output_type": "stream",
     "text": [
      "MELEK is all uppercase\n"
     ]
    }
   ],
   "source": [
    "name = input(\"Enter your name: \")\n",
    "\n",
    "if name.lower() == name:\n",
    "    print(name, \"is all lowercase\")\n",
    "elif name.upper() == name:\n",
    "    print(name, \"is all uppercase\")\n",
    "else:\n",
    "    print(name, \"is mixed case\")"
   ]
  },
  {
   "cell_type": "code",
   "execution_count": null,
   "metadata": {},
   "outputs": [],
   "source": [
    "def count_letter(letter, word_list):\n",
    "    count = 0\n",
    "    for word in word_list:\n",
    "        if letter in word:\n",
    "            count += 1\n",
    "        return count\n",
    "word_list=[]\n",
    "\n",
    "# word_list is populated with words from a file\n",
    "\n",
    "letter = input(\"which letter would you like to count? \")\n",
    "letter_count = count_letter(letter, word_list)\n",
    "print(\"There are\", letter_count, \"instances of\" + letter)"
   ]
  },
  {
   "cell_type": "code",
   "execution_count": 8,
   "metadata": {},
   "outputs": [
    {
     "name": "stdout",
     "output_type": "stream",
     "text": [
      "30.0\n"
     ]
    }
   ],
   "source": [
    "value1 = 24\n",
    "value2 = 7\n",
    "value3 = 17.9\n",
    "\n",
    "answer = (value1 % value2 * 100) // 2.0 ** 3.0 - value2\n",
    "print(answer)"
   ]
  },
  {
   "cell_type": "code",
   "execution_count": 15,
   "metadata": {},
   "outputs": [
    {
     "name": "stdout",
     "output_type": "stream",
     "text": [
      "You were born in 1997\n"
     ]
    }
   ],
   "source": [
    "age = input(\"Enter your age: \")\n",
    "year = input(\"Enter the current year: \")\n",
    "born = eval(year) - eval(age)\n",
    "message = \"You were born in \" + str(born)\n",
    "print(message)"
   ]
  },
  {
   "cell_type": "code",
   "execution_count": 19,
   "metadata": {},
   "outputs": [
    {
     "name": "stdout",
     "output_type": "stream",
     "text": [
      "71\n"
     ]
    }
   ],
   "source": [
    "grade = 76\n",
    "rank = 3\n",
    "\n",
    "if grade > 80 and rank >= 3:\n",
    "    grade += 10\n",
    "elif grade >= 70 and rank > 3:\n",
    "    grade += 5\n",
    "else:\n",
    "    grade -= 5\n",
    "print(grade)"
   ]
  },
  {
   "cell_type": "code",
   "execution_count": 23,
   "metadata": {},
   "outputs": [
    {
     "data": {
      "text/plain": [
       "'zwtqnkheb'"
      ]
     },
     "execution_count": 23,
     "metadata": {},
     "output_type": "execute_result"
    }
   ],
   "source": [
    "alph = \"abcdefghijklmnopqrstuvwxyz\"\n",
    "\n",
    "alph[::-3]"
   ]
  },
  {
   "cell_type": "code",
   "execution_count": 29,
   "metadata": {},
   "outputs": [
    {
     "name": "stdout",
     "output_type": "stream",
     "text": [
      "10\n"
     ]
    }
   ],
   "source": [
    "def admission_fee(age, school):\n",
    "    rate = 0\n",
    "    if age >= 5 and school == True:\n",
    "        rate = 10\n",
    "    elif age >= 5 and school == False:\n",
    "        if age <= 17:\n",
    "            rate = 20\n",
    "        else:\n",
    "            rate = 50\n",
    "    return rate\n",
    "\n",
    "print(admission_fee(15, True))"
   ]
  },
  {
   "cell_type": "code",
   "execution_count": 30,
   "metadata": {},
   "outputs": [
    {
     "name": "stdout",
     "output_type": "stream",
     "text": [
      "The total payroll is 215000\n",
      "The average salary is 53750.0\n"
     ]
    }
   ],
   "source": [
    "employee_pay = [15000, 120000, 35000, 45000]\n",
    "count = 0\n",
    "sum = 0\n",
    "\n",
    "for index in range(len(employee_pay)):\n",
    "    count += 1\n",
    "    sum += employee_pay[index]\n",
    "average = sum / count\n",
    "print(\"The total payroll is\", sum)\n",
    "print(\"The average salary is\", average)"
   ]
  },
  {
   "cell_type": "code",
   "execution_count": null,
   "metadata": {},
   "outputs": [],
   "source": [
    "# Arithmetic Operators Order of Precedence in Python\n",
    "# 1. Parentheses\n",
    "# 2. Exponentiation\n",
    "# 3. Multiplication, Division, Modulus\n",
    "# 4. Addition, Subtraction"
   ]
  }
 ],
 "metadata": {
  "kernelspec": {
   "display_name": "Python 3.10.1 64-bit",
   "language": "python",
   "name": "python3"
  },
  "language_info": {
   "codemirror_mode": {
    "name": "ipython",
    "version": 3
   },
   "file_extension": ".py",
   "mimetype": "text/x-python",
   "name": "python",
   "nbconvert_exporter": "python",
   "pygments_lexer": "ipython3",
   "version": "3.10.1"
  },
  "orig_nbformat": 4,
  "vscode": {
   "interpreter": {
    "hash": "369f2c481f4da34e4445cda3fffd2e751bd1c4d706f27375911949ba6bb62e1c"
   }
  }
 },
 "nbformat": 4,
 "nbformat_minor": 2
}
