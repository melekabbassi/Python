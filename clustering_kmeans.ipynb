{
  "cells": [
    {
      "cell_type": "markdown",
      "metadata": {
        "id": "DnAHeymRpgW6"
      },
      "source": [
        "**Description**\n"
      ]
    },
    {
      "cell_type": "markdown",
      "metadata": {
        "id": "mnI4YC-Xp1d9"
      },
      "source": [
        "Kmeans est une technique de Machine Learning qui est utilisée pour le regroupement des données (clustering) en groupes (clusters).\n",
        "\n",
        "_Modèle:_\n",
        "\n",
        "Le modèle de Kmeans est l'ensemble des centres des clusters.\n",
        "\n",
        "_Hyperparamètre:_\n",
        "\n",
        "Kmeans a un hyperparamètre appelé K qui représente le nombre de clusters.\n",
        "\n",
        "_Apprentissage:_\n",
        "\n",
        "L'algorithme d'apprentissage de Kmeans est non supervisé : il apprend avec des données non étiquetées. Cet algorithme essaie de trouver les centres des clusters optimales.\n",
        "\n",
        "_Prédiction:_\n",
        "\n",
        "Une fois l'apprentissage est fini, Kmeans permet de prédire pour un point donné à quel groupe il appartient.\n"
      ]
    },
    {
      "cell_type": "markdown",
      "metadata": {
        "id": "Jf2lQtSHt5ha"
      },
      "source": [
        "**Hyperparamètre**\n",
        "\n",
        "Choisir le nombre des clusters K\n"
      ]
    },
    {
      "cell_type": "code",
      "execution_count": null,
      "metadata": {
        "id": "QmZLC8Fft-11"
      },
      "outputs": [],
      "source": [
        "#"
      ]
    },
    {
      "cell_type": "markdown",
      "metadata": {
        "id": "BLSrONc9rXLY"
      },
      "source": [
        "**Modèle**\n"
      ]
    },
    {
      "cell_type": "markdown",
      "metadata": {
        "id": "E40gTT0Kpq26"
      },
      "source": [
        "Initialiser les centres des clusters\n",
        "\n",
        "Choisir d'une façon aléatoire K points des données comme centres des clusters.\n",
        "\n",
        "Notes:\n",
        "\n",
        "- Mettre les centres intiales dans une matrice M\n",
        "- Utiliser la fonction random.choice()\n"
      ]
    },
    {
      "cell_type": "code",
      "execution_count": null,
      "metadata": {
        "id": "K8b6XPOTpt_F"
      },
      "outputs": [],
      "source": [
        "#"
      ]
    },
    {
      "cell_type": "markdown",
      "metadata": {
        "id": "taAC_EHBpvBt"
      },
      "source": [
        "**Données d'apprentissage**\n"
      ]
    },
    {
      "cell_type": "markdown",
      "metadata": {
        "id": "3aV8Q9YitVzT"
      },
      "source": [
        "Soit une population ds employés qu'on veut regrouper en clusters.\n",
        "\n",
        "Créer une matrice des données d'employés X (comme étant des points de même dimension).\n",
        "\n",
        "              X=[1100.67 31\n",
        "                 3500.98 58\n",
        "                 1300.58 35\n",
        "                 3100.98 55\n",
        "                 1200.77 32]\n",
        "\n",
        "Notes:\n",
        "\n",
        "- Utiliser la fonction pandas.read_csv()\n"
      ]
    },
    {
      "cell_type": "code",
      "execution_count": null,
      "metadata": {
        "id": "U1Ob9a-8tU5L"
      },
      "outputs": [],
      "source": [
        "#"
      ]
    },
    {
      "cell_type": "markdown",
      "metadata": {
        "id": "2jdvBY3JuDOQ"
      },
      "source": [
        "**Apprentissage**\n"
      ]
    },
    {
      "cell_type": "markdown",
      "metadata": {
        "id": "huyacmnbunBt"
      },
      "source": [
        "L'algorithme est comme suit :\n",
        "\n",
        "          Pour chaque t de 0 jusqu'à T-1 faire\n",
        "            Pour chaque point p des données faire\n",
        "              Pour chaque centre m_i des clusters M faire\n",
        "                d=distance euclidienne(p,m_i)\n",
        "                Ajouter d dans distances\n",
        "              label de p = argmin(distances)\n",
        "              Ajouter label à labels\n",
        "            Pour chaque centre m_i des clusters faire\n",
        "              c=moyenne arithmétique des points ayant label egale à i\n"
      ]
    },
    {
      "cell_type": "markdown",
      "metadata": {
        "id": "deqlYW8ax1CP"
      },
      "source": [
        "Etape 1: Implémenter la fonction predire_label qui prend un point p et qui retourne le label de cluster auquel p appartient.\n",
        "\n",
        "        Pour chaque centre m_i des clusters M faire\n",
        "            d=distance euclidienne(p,m_i)\n",
        "            Ajouter d dans distances\n",
        "        label de p = argmin(distances)\n",
        "\n",
        "Notes:\n",
        "\n",
        "- Utiliser M comme variable globale.\n",
        "- Utiliser la fonction np.argmin()\n"
      ]
    },
    {
      "cell_type": "code",
      "execution_count": null,
      "metadata": {
        "id": "642iRH6UulwM"
      },
      "outputs": [],
      "source": [
        "#"
      ]
    },
    {
      "cell_type": "markdown",
      "metadata": {
        "id": "6pIRrZP_yoaF"
      },
      "source": [
        "Etape 2: Définir la fonction determiner_labels qui prend un ensemble des points X et qui retourne les labels de tous les points.\n",
        "\n",
        "Cette fonction impélmente la partie de l'algorithme d'apprentissage suivante:\n",
        "\n",
        "          Pour chaque point p des données faire\n",
        "              Pour chaque centre m_i des clusters M faire\n",
        "                d=distance euclidienne(p,m_i)\n",
        "                Ajouter d dans distances\n",
        "              label de p = argmin(distances)\n",
        "              Ajouter label à labels\n",
        "\n",
        "Note:\n",
        "\n",
        "- Un label designe l'indice de groupe auquel apparetient un point.\n",
        "- Utiliser la fonction predire_label()\n",
        "- Utiliser M comme variable globale.\n"
      ]
    },
    {
      "cell_type": "code",
      "execution_count": null,
      "metadata": {
        "id": "Nnzb5g-50p6C"
      },
      "outputs": [],
      "source": [
        "#"
      ]
    },
    {
      "cell_type": "markdown",
      "metadata": {
        "id": "JPXmfBbd0u7F"
      },
      "source": [
        "Etape 3: Définir une fonction mettre_a_jour_centres qui prend les points et leurs labels d'appartenance aux clusters.\n",
        "\n",
        "Note:\n",
        "\n",
        "- Utiliser np.mean()\n",
        "\n",
        "        Pour chaque centre m_i des clusters faire\n",
        "                m_i=moyenne arithmétique des points ayant label egale à i\n"
      ]
    },
    {
      "cell_type": "code",
      "execution_count": null,
      "metadata": {
        "id": "0gYvX6QK1yM2"
      },
      "outputs": [],
      "source": [
        "#"
      ]
    },
    {
      "cell_type": "markdown",
      "metadata": {
        "id": "R11nasb52BqU"
      },
      "source": [
        "Etape 4:\n",
        "\n",
        "Définir la fonction fit() qui implémente tout l'algorithme d'apprentissage. Elle prend l'ensemble des points X et elle met à jour M (les centres des clusters).\n",
        "\n",
        "Notes:\n",
        "\n",
        "- Utiliser M comme une variable globale.\n",
        "- Utiliser les fonctions determiner_labels() et les fonctions mettre_a_jour()\n"
      ]
    },
    {
      "cell_type": "code",
      "execution_count": null,
      "metadata": {
        "id": "q3HBBokt4Fo1"
      },
      "outputs": [],
      "source": [
        "#"
      ]
    },
    {
      "cell_type": "markdown",
      "metadata": {
        "id": "tUFCmV-u7jaF"
      },
      "source": [
        "**Prédiction**\n",
        "\n",
        "Définir une fonction qui prend une matrice des points d'employés X. Elle retourne les labels de ces points.\n",
        "\n",
        "Note:\n",
        "\n",
        "- Utiliser la fonction predire_label\n",
        "- Utiliser M comme variable globale.\n"
      ]
    },
    {
      "cell_type": "code",
      "execution_count": null,
      "metadata": {
        "id": "EgkuTmPT8GGp"
      },
      "outputs": [],
      "source": [
        "#"
      ]
    },
    {
      "cell_type": "markdown",
      "metadata": {
        "id": "b4qWcMnO8HdF"
      },
      "source": [
        "**Recap**\n",
        "\n",
        "Nous allons définir Kmeans sous la forme d'une classe que vous appelez Kmeans.\n",
        "\n",
        "Elle contient les fonctions suivantes:\n",
        "\n",
        "- un constructeur dans lequel:\n",
        "  - L'hyperparamètre K est considéré comme attribut d'objet. Il permet de l'initialiser.\n",
        "  - Le modèle M (les centres de clusters) est initialisé aléatoirement\n",
        "- la fonction fit() définie ci-dessus\n",
        "- la fonction predict() définie ci-dessus\n"
      ]
    },
    {
      "cell_type": "code",
      "execution_count": null,
      "metadata": {
        "id": "7x7LgAoG8ppV"
      },
      "outputs": [],
      "source": [
        "#"
      ]
    }
  ],
  "metadata": {
    "colab": {
      "collapsed_sections": [],
      "provenance": []
    },
    "kernelspec": {
      "display_name": "Python 3",
      "name": "python3"
    },
    "language_info": {
      "name": "python"
    }
  },
  "nbformat": 4,
  "nbformat_minor": 0
}
