{
  "cells": [
    {
      "cell_type": "markdown",
      "metadata": {
        "id": "G81W2Oez6jDL"
      },
      "source": [
        "**1. Classification avec KNN**"
      ]
    },
    {
      "cell_type": "markdown",
      "metadata": {
        "id": "RNK_TDxDz9W5"
      },
      "source": [
        "**1.1. Charger les données d'apprentissage**"
      ]
    },
    {
      "cell_type": "code",
      "execution_count": 1,
      "metadata": {
        "id": "TWvV1boQLjFS"
      },
      "outputs": [],
      "source": [
        "import pandas as pd"
      ]
    },
    {
      "cell_type": "markdown",
      "metadata": {
        "id": "hSU0rdiTz_2U"
      },
      "source": [
        "Les données d'entrée d'apprentissage"
      ]
    },
    {
      "cell_type": "code",
      "execution_count": 2,
      "metadata": {
        "id": "G7taM8DGnCGm"
      },
      "outputs": [],
      "source": [
        "X_train=pd.DataFrame([[1200,25],\n",
        "                 [1300,27],\n",
        "                 [1100,27],\n",
        "                 [2500,49],\n",
        "                 [2400,47],\n",
        "                 [2600,45]], \n",
        "                 columns=['salaire','age'])"
      ]
    },
    {
      "cell_type": "markdown",
      "metadata": {
        "id": "n_4Q8KEI0H31"
      },
      "source": [
        "Les données de sortie d'apprentissage"
      ]
    },
    {
      "cell_type": "code",
      "execution_count": 3,
      "metadata": {
        "id": "LZdQK87gMSKh"
      },
      "outputs": [],
      "source": [
        "y_train=pd.Series(['junior','junior','junior','senior','senior','senior'])"
      ]
    },
    {
      "cell_type": "markdown",
      "metadata": {
        "id": "eiMqj3jq0VLk"
      },
      "source": [
        "**1.2. Apprentissage avec KNN**"
      ]
    },
    {
      "cell_type": "code",
      "execution_count": 4,
      "metadata": {
        "colab": {
          "base_uri": "https://localhost:8080/"
        },
        "id": "sy_G7AeNGQe9",
        "outputId": "7a63355a-1b90-45da-bab7-d8fa522a1bd3"
      },
      "outputs": [
        {
          "data": {
            "text/html": [
              "<style>#sk-container-id-1 {color: black;background-color: white;}#sk-container-id-1 pre{padding: 0;}#sk-container-id-1 div.sk-toggleable {background-color: white;}#sk-container-id-1 label.sk-toggleable__label {cursor: pointer;display: block;width: 100%;margin-bottom: 0;padding: 0.3em;box-sizing: border-box;text-align: center;}#sk-container-id-1 label.sk-toggleable__label-arrow:before {content: \"▸\";float: left;margin-right: 0.25em;color: #696969;}#sk-container-id-1 label.sk-toggleable__label-arrow:hover:before {color: black;}#sk-container-id-1 div.sk-estimator:hover label.sk-toggleable__label-arrow:before {color: black;}#sk-container-id-1 div.sk-toggleable__content {max-height: 0;max-width: 0;overflow: hidden;text-align: left;background-color: #f0f8ff;}#sk-container-id-1 div.sk-toggleable__content pre {margin: 0.2em;color: black;border-radius: 0.25em;background-color: #f0f8ff;}#sk-container-id-1 input.sk-toggleable__control:checked~div.sk-toggleable__content {max-height: 200px;max-width: 100%;overflow: auto;}#sk-container-id-1 input.sk-toggleable__control:checked~label.sk-toggleable__label-arrow:before {content: \"▾\";}#sk-container-id-1 div.sk-estimator input.sk-toggleable__control:checked~label.sk-toggleable__label {background-color: #d4ebff;}#sk-container-id-1 div.sk-label input.sk-toggleable__control:checked~label.sk-toggleable__label {background-color: #d4ebff;}#sk-container-id-1 input.sk-hidden--visually {border: 0;clip: rect(1px 1px 1px 1px);clip: rect(1px, 1px, 1px, 1px);height: 1px;margin: -1px;overflow: hidden;padding: 0;position: absolute;width: 1px;}#sk-container-id-1 div.sk-estimator {font-family: monospace;background-color: #f0f8ff;border: 1px dotted black;border-radius: 0.25em;box-sizing: border-box;margin-bottom: 0.5em;}#sk-container-id-1 div.sk-estimator:hover {background-color: #d4ebff;}#sk-container-id-1 div.sk-parallel-item::after {content: \"\";width: 100%;border-bottom: 1px solid gray;flex-grow: 1;}#sk-container-id-1 div.sk-label:hover label.sk-toggleable__label {background-color: #d4ebff;}#sk-container-id-1 div.sk-serial::before {content: \"\";position: absolute;border-left: 1px solid gray;box-sizing: border-box;top: 0;bottom: 0;left: 50%;z-index: 0;}#sk-container-id-1 div.sk-serial {display: flex;flex-direction: column;align-items: center;background-color: white;padding-right: 0.2em;padding-left: 0.2em;position: relative;}#sk-container-id-1 div.sk-item {position: relative;z-index: 1;}#sk-container-id-1 div.sk-parallel {display: flex;align-items: stretch;justify-content: center;background-color: white;position: relative;}#sk-container-id-1 div.sk-item::before, #sk-container-id-1 div.sk-parallel-item::before {content: \"\";position: absolute;border-left: 1px solid gray;box-sizing: border-box;top: 0;bottom: 0;left: 50%;z-index: -1;}#sk-container-id-1 div.sk-parallel-item {display: flex;flex-direction: column;z-index: 1;position: relative;background-color: white;}#sk-container-id-1 div.sk-parallel-item:first-child::after {align-self: flex-end;width: 50%;}#sk-container-id-1 div.sk-parallel-item:last-child::after {align-self: flex-start;width: 50%;}#sk-container-id-1 div.sk-parallel-item:only-child::after {width: 0;}#sk-container-id-1 div.sk-dashed-wrapped {border: 1px dashed gray;margin: 0 0.4em 0.5em 0.4em;box-sizing: border-box;padding-bottom: 0.4em;background-color: white;}#sk-container-id-1 div.sk-label label {font-family: monospace;font-weight: bold;display: inline-block;line-height: 1.2em;}#sk-container-id-1 div.sk-label-container {text-align: center;}#sk-container-id-1 div.sk-container {/* jupyter's `normalize.less` sets `[hidden] { display: none; }` but bootstrap.min.css set `[hidden] { display: none !important; }` so we also need the `!important` here to be able to override the default hidden behavior on the sphinx rendered scikit-learn.org. See: https://github.com/scikit-learn/scikit-learn/issues/21755 */display: inline-block !important;position: relative;}#sk-container-id-1 div.sk-text-repr-fallback {display: none;}</style><div id=\"sk-container-id-1\" class=\"sk-top-container\"><div class=\"sk-text-repr-fallback\"><pre>KNeighborsClassifier(n_neighbors=2)</pre><b>In a Jupyter environment, please rerun this cell to show the HTML representation or trust the notebook. <br />On GitHub, the HTML representation is unable to render, please try loading this page with nbviewer.org.</b></div><div class=\"sk-container\" hidden><div class=\"sk-item\"><div class=\"sk-estimator sk-toggleable\"><input class=\"sk-toggleable__control sk-hidden--visually\" id=\"sk-estimator-id-1\" type=\"checkbox\" checked><label for=\"sk-estimator-id-1\" class=\"sk-toggleable__label sk-toggleable__label-arrow\">KNeighborsClassifier</label><div class=\"sk-toggleable__content\"><pre>KNeighborsClassifier(n_neighbors=2)</pre></div></div></div></div></div>"
            ],
            "text/plain": [
              "KNeighborsClassifier(n_neighbors=2)"
            ]
          },
          "execution_count": 4,
          "metadata": {},
          "output_type": "execute_result"
        }
      ],
      "source": [
        "from sklearn.neighbors  import KNeighborsClassifier\n",
        "\n",
        "knn=KNeighborsClassifier(n_neighbors=2)\n",
        "knn.fit(X_train,y_train)"
      ]
    },
    {
      "cell_type": "markdown",
      "metadata": {
        "id": "fEwj7bh30aDV"
      },
      "source": [
        "**1.3. Charger les données de test**"
      ]
    },
    {
      "cell_type": "markdown",
      "metadata": {
        "id": "dSovDgyU0p4E"
      },
      "source": [
        "Les données d'entrée de test"
      ]
    },
    {
      "cell_type": "code",
      "execution_count": 5,
      "metadata": {
        "id": "9w4d-xY8nds6"
      },
      "outputs": [],
      "source": [
        "X_test=pd.DataFrame([[1000,24],\n",
        "                 [1350,29],\n",
        "                 [2100,42],\n",
        "                 [2300,44]], \n",
        "                 columns=['salaire','age'])"
      ]
    },
    {
      "cell_type": "markdown",
      "metadata": {
        "id": "r2Y3Rs8O0tl8"
      },
      "source": [
        "Les données de sortie de test"
      ]
    },
    {
      "cell_type": "code",
      "execution_count": 6,
      "metadata": {
        "id": "mkvAaVbhnthV"
      },
      "outputs": [],
      "source": [
        "y_test=pd.Series(['junior','junior','senior','senior'])"
      ]
    },
    {
      "cell_type": "markdown",
      "metadata": {
        "id": "9UiNIluh0wBM"
      },
      "source": [
        "**1.4. Evaluation de KNN**"
      ]
    },
    {
      "cell_type": "markdown",
      "metadata": {
        "id": "I8ls9yyRNPaH"
      },
      "source": [
        "Prédiction des données de test"
      ]
    },
    {
      "cell_type": "code",
      "execution_count": 7,
      "metadata": {
        "colab": {
          "base_uri": "https://localhost:8080/"
        },
        "id": "gQaUsvhHLBD1",
        "outputId": "e115fbbe-a400-4bb8-85e7-36c672cde8ff"
      },
      "outputs": [
        {
          "data": {
            "text/plain": [
              "array(['junior', 'junior', 'senior', 'senior'], dtype=object)"
            ]
          },
          "execution_count": 7,
          "metadata": {},
          "output_type": "execute_result"
        }
      ],
      "source": [
        "y_test_predicted=knn.predict(X_test)\n",
        "y_test_predicted"
      ]
    },
    {
      "cell_type": "code",
      "execution_count": 8,
      "metadata": {
        "colab": {
          "base_uri": "https://localhost:8080/"
        },
        "id": "8b7b_6rDM0sp",
        "outputId": "d795873f-6d89-4637-90a0-1ab9e796765b"
      },
      "outputs": [
        {
          "data": {
            "text/plain": [
              "0    junior\n",
              "1    junior\n",
              "2    senior\n",
              "3    senior\n",
              "dtype: object"
            ]
          },
          "execution_count": 8,
          "metadata": {},
          "output_type": "execute_result"
        }
      ],
      "source": [
        "y_test"
      ]
    },
    {
      "cell_type": "markdown",
      "metadata": {
        "id": "i2WzuSyp03EU"
      },
      "source": [
        "Score d'accuracy"
      ]
    },
    {
      "cell_type": "code",
      "execution_count": 9,
      "metadata": {
        "colab": {
          "base_uri": "https://localhost:8080/"
        },
        "id": "MOuS00UXM4Gi",
        "outputId": "a03c5d65-16a8-4aff-b418-dfb8439580c1"
      },
      "outputs": [
        {
          "name": "stdout",
          "output_type": "stream",
          "text": [
            "accuracy=100.00\n"
          ]
        }
      ],
      "source": [
        "from sklearn.metrics import accuracy_score\n",
        "\n",
        "print(\"accuracy=%.2f\" % (accuracy_score(y_test, y_test_predicted)*100))"
      ]
    },
    {
      "cell_type": "markdown",
      "metadata": {
        "id": "7MKbZCGp05rj"
      },
      "source": [
        "Matrice de confusion"
      ]
    },
    {
      "cell_type": "code",
      "execution_count": 10,
      "metadata": {
        "colab": {
          "base_uri": "https://localhost:8080/"
        },
        "id": "MIIK6SgaoKJg",
        "outputId": "6ddee88e-4cf1-424f-c062-8395b334dcc2"
      },
      "outputs": [
        {
          "data": {
            "text/plain": [
              "array([[2, 0],\n",
              "       [0, 2]])"
            ]
          },
          "execution_count": 10,
          "metadata": {},
          "output_type": "execute_result"
        }
      ],
      "source": [
        "from sklearn.metrics import accuracy_score, confusion_matrix\n",
        "\n",
        "M=confusion_matrix(y_test, y_test_predicted)\n",
        "M"
      ]
    },
    {
      "cell_type": "code",
      "execution_count": 11,
      "metadata": {
        "colab": {
          "base_uri": "https://localhost:8080/",
          "height": 112
        },
        "id": "CEOJBYp0Ez_w",
        "outputId": "3fbf39e1-60df-46af-92a8-6b3f85b926cd"
      },
      "outputs": [
        {
          "data": {
            "text/html": [
              "<div>\n",
              "<style scoped>\n",
              "    .dataframe tbody tr th:only-of-type {\n",
              "        vertical-align: middle;\n",
              "    }\n",
              "\n",
              "    .dataframe tbody tr th {\n",
              "        vertical-align: top;\n",
              "    }\n",
              "\n",
              "    .dataframe thead th {\n",
              "        text-align: right;\n",
              "    }\n",
              "</style>\n",
              "<table border=\"1\" class=\"dataframe\">\n",
              "  <thead>\n",
              "    <tr style=\"text-align: right;\">\n",
              "      <th></th>\n",
              "      <th>junior</th>\n",
              "      <th>senior</th>\n",
              "    </tr>\n",
              "  </thead>\n",
              "  <tbody>\n",
              "    <tr>\n",
              "      <th>junior</th>\n",
              "      <td>2</td>\n",
              "      <td>0</td>\n",
              "    </tr>\n",
              "    <tr>\n",
              "      <th>senior</th>\n",
              "      <td>0</td>\n",
              "      <td>2</td>\n",
              "    </tr>\n",
              "  </tbody>\n",
              "</table>\n",
              "</div>"
            ],
            "text/plain": [
              "        junior  senior\n",
              "junior       2       0\n",
              "senior       0       2"
            ]
          },
          "execution_count": 11,
          "metadata": {},
          "output_type": "execute_result"
        }
      ],
      "source": [
        "pd.DataFrame(M,\n",
        "             index=knn.classes_,\n",
        "             columns=knn.classes_)"
      ]
    },
    {
      "cell_type": "markdown",
      "metadata": {
        "id": "QZzUcUL4E3GG"
      },
      "source": [
        "Rappel (Recall) et précision apr classe"
      ]
    },
    {
      "cell_type": "code",
      "execution_count": 12,
      "metadata": {
        "colab": {
          "base_uri": "https://localhost:8080/"
        },
        "id": "37URK_x1GQuX",
        "outputId": "cbd1fb7a-1b92-4805-9c7d-4da53c056980"
      },
      "outputs": [
        {
          "name": "stdout",
          "output_type": "stream",
          "text": [
            "              precision    recall  f1-score   support\n",
            "\n",
            "      junior       1.00      1.00      1.00         2\n",
            "      senior       1.00      1.00      1.00         2\n",
            "\n",
            "    accuracy                           1.00         4\n",
            "   macro avg       1.00      1.00      1.00         4\n",
            "weighted avg       1.00      1.00      1.00         4\n",
            "\n"
          ]
        }
      ],
      "source": [
        "from sklearn.metrics import classification_report\n",
        "\n",
        "print(classification_report(y_test, y_test_predicted))"
      ]
    },
    {
      "cell_type": "markdown",
      "metadata": {
        "id": "GjswqJ4c1AMD"
      },
      "source": [
        "**2. Classification des données réelles (tabulaires)**"
      ]
    },
    {
      "cell_type": "markdown",
      "metadata": {
        "id": "q68rLXsacI9C"
      },
      "source": [
        "**2.1. Charger les données employes2.csv à partir de Google Drive**"
      ]
    },
    {
      "cell_type": "code",
      "execution_count": 3,
      "metadata": {
        "colab": {
          "base_uri": "https://localhost:8080/"
        },
        "id": "1rZr7UpJ1tL0",
        "outputId": "aaf9b907-d06c-46d6-bba1-95409f4ff5e4"
      },
      "outputs": [],
      "source": [
        "# from google.colab import drive\n",
        "# drive.mount('/content/drive')\n",
        "\n",
        "data_path='./employes2.csv'"
      ]
    },
    {
      "cell_type": "code",
      "execution_count": 19,
      "metadata": {
        "id": "Ub9zXmml1mta"
      },
      "outputs": [],
      "source": [
        "# Précisier le chemin de fichier CSV et le nommer data_path\n",
        "#\n"
      ]
    },
    {
      "cell_type": "code",
      "execution_count": 4,
      "metadata": {
        "colab": {
          "base_uri": "https://localhost:8080/",
          "height": 457
        },
        "id": "VCp87vi01sRU",
        "outputId": "09012f6b-be5f-4d30-e923-5a1f54dd224e"
      },
      "outputs": [
        {
          "data": {
            "text/html": [
              "<div>\n",
              "<style scoped>\n",
              "    .dataframe tbody tr th:only-of-type {\n",
              "        vertical-align: middle;\n",
              "    }\n",
              "\n",
              "    .dataframe tbody tr th {\n",
              "        vertical-align: top;\n",
              "    }\n",
              "\n",
              "    .dataframe thead th {\n",
              "        text-align: right;\n",
              "    }\n",
              "</style>\n",
              "<table border=\"1\" class=\"dataframe\">\n",
              "  <thead>\n",
              "    <tr style=\"text-align: right;\">\n",
              "      <th></th>\n",
              "      <th>salaire</th>\n",
              "      <th>prime</th>\n",
              "      <th>etat civil</th>\n",
              "      <th>date recrutement</th>\n",
              "      <th>classe</th>\n",
              "    </tr>\n",
              "    <tr>\n",
              "      <th>nom</th>\n",
              "      <th></th>\n",
              "      <th></th>\n",
              "      <th></th>\n",
              "      <th></th>\n",
              "      <th></th>\n",
              "    </tr>\n",
              "  </thead>\n",
              "  <tbody>\n",
              "    <tr>\n",
              "      <th>Ali</th>\n",
              "      <td>1200.675</td>\n",
              "      <td>100.560</td>\n",
              "      <td>celibataire</td>\n",
              "      <td>20/10/2018</td>\n",
              "      <td>junior</td>\n",
              "    </tr>\n",
              "    <tr>\n",
              "      <th>Sonia</th>\n",
              "      <td>2800.786</td>\n",
              "      <td>400.876</td>\n",
              "      <td>marie</td>\n",
              "      <td>30/11/2005</td>\n",
              "      <td>senior</td>\n",
              "    </tr>\n",
              "    <tr>\n",
              "      <th>Rahma</th>\n",
              "      <td>NaN</td>\n",
              "      <td>130.987</td>\n",
              "      <td>celibataire</td>\n",
              "      <td>04/02/2017</td>\n",
              "      <td>junior</td>\n",
              "    </tr>\n",
              "    <tr>\n",
              "      <th>Salma</th>\n",
              "      <td>2500.876</td>\n",
              "      <td>340.600</td>\n",
              "      <td>marie</td>\n",
              "      <td>03/02/2010</td>\n",
              "      <td>senior</td>\n",
              "    </tr>\n",
              "    <tr>\n",
              "      <th>Ahmed</th>\n",
              "      <td>3100.760</td>\n",
              "      <td>NaN</td>\n",
              "      <td>marie</td>\n",
              "      <td>09/09/2004</td>\n",
              "      <td>senior</td>\n",
              "    </tr>\n",
              "    <tr>\n",
              "      <th>Saleh</th>\n",
              "      <td>1300.876</td>\n",
              "      <td>150.900</td>\n",
              "      <td>celibataire</td>\n",
              "      <td>01/01/2017</td>\n",
              "      <td>junior</td>\n",
              "    </tr>\n",
              "    <tr>\n",
              "      <th>Ameni</th>\n",
              "      <td>1100.660</td>\n",
              "      <td>130.870</td>\n",
              "      <td>celibataire</td>\n",
              "      <td>11/05/2019</td>\n",
              "      <td>junior</td>\n",
              "    </tr>\n",
              "    <tr>\n",
              "      <th>Mehdi</th>\n",
              "      <td>3000.760</td>\n",
              "      <td>NaN</td>\n",
              "      <td>marie</td>\n",
              "      <td>07/07/2000</td>\n",
              "      <td>senior</td>\n",
              "    </tr>\n",
              "    <tr>\n",
              "      <th>Salem</th>\n",
              "      <td>1505.760</td>\n",
              "      <td>159.700</td>\n",
              "      <td>celibataire</td>\n",
              "      <td>21/11/2017</td>\n",
              "      <td>junior</td>\n",
              "    </tr>\n",
              "    <tr>\n",
              "      <th>Sameh</th>\n",
              "      <td>2700.330</td>\n",
              "      <td>400.000</td>\n",
              "      <td>marie</td>\n",
              "      <td>19/02/1999</td>\n",
              "      <td>senior</td>\n",
              "    </tr>\n",
              "    <tr>\n",
              "      <th>Wajdi</th>\n",
              "      <td>1200.980</td>\n",
              "      <td>NaN</td>\n",
              "      <td>celibataire</td>\n",
              "      <td>27/11/2015</td>\n",
              "      <td>junior</td>\n",
              "    </tr>\n",
              "    <tr>\n",
              "      <th>Moufida</th>\n",
              "      <td>3700.440</td>\n",
              "      <td>500.000</td>\n",
              "      <td>marie</td>\n",
              "      <td>09/12/1991</td>\n",
              "      <td>senior</td>\n",
              "    </tr>\n",
              "  </tbody>\n",
              "</table>\n",
              "</div>"
            ],
            "text/plain": [
              "          salaire    prime   etat civil date recrutement  classe\n",
              "nom                                                             \n",
              "Ali      1200.675  100.560  celibataire       20/10/2018  junior\n",
              "Sonia    2800.786  400.876        marie       30/11/2005  senior\n",
              "Rahma         NaN  130.987  celibataire       04/02/2017  junior\n",
              "Salma    2500.876  340.600        marie       03/02/2010  senior\n",
              "Ahmed    3100.760      NaN        marie       09/09/2004  senior\n",
              "Saleh    1300.876  150.900  celibataire       01/01/2017  junior\n",
              "Ameni    1100.660  130.870  celibataire       11/05/2019  junior\n",
              "Mehdi    3000.760      NaN        marie       07/07/2000  senior\n",
              "Salem    1505.760  159.700  celibataire       21/11/2017  junior\n",
              "Sameh    2700.330  400.000        marie       19/02/1999  senior\n",
              "Wajdi    1200.980      NaN  celibataire       27/11/2015  junior\n",
              "Moufida  3700.440  500.000        marie       09/12/1991  senior"
            ]
          },
          "execution_count": 4,
          "metadata": {},
          "output_type": "execute_result"
        }
      ],
      "source": [
        "# lire le fichier CSV et charger les données en dataframe df_employes\n",
        "import pandas as pd\n",
        "\n",
        "df_employes = pd.read_csv(data_path, index_col=0, header=0)\n",
        "\n",
        "df_employes\n",
        "\n"
      ]
    },
    {
      "cell_type": "markdown",
      "metadata": {
        "id": "ZHc2wpZycTEL"
      },
      "source": [
        "**2.2. Division des données en entrée et sortie**"
      ]
    },
    {
      "cell_type": "markdown",
      "metadata": {
        "id": "0e2ocB7qNhn4"
      },
      "source": [
        "Données d'entrée X\n",
        "\n",
        "C'est la partie de dataframe composée de toutes les colonnes sauf la dernière colonne 'classe'"
      ]
    },
    {
      "cell_type": "code",
      "execution_count": 9,
      "metadata": {
        "colab": {
          "base_uri": "https://localhost:8080/",
          "height": 457
        },
        "id": "Nir-WGep16_c",
        "outputId": "c7de5030-cf79-442e-ce9d-05e571eaead1"
      },
      "outputs": [
        {
          "data": {
            "text/html": [
              "<div>\n",
              "<style scoped>\n",
              "    .dataframe tbody tr th:only-of-type {\n",
              "        vertical-align: middle;\n",
              "    }\n",
              "\n",
              "    .dataframe tbody tr th {\n",
              "        vertical-align: top;\n",
              "    }\n",
              "\n",
              "    .dataframe thead th {\n",
              "        text-align: right;\n",
              "    }\n",
              "</style>\n",
              "<table border=\"1\" class=\"dataframe\">\n",
              "  <thead>\n",
              "    <tr style=\"text-align: right;\">\n",
              "      <th></th>\n",
              "      <th>salaire</th>\n",
              "      <th>prime</th>\n",
              "      <th>etat civil</th>\n",
              "      <th>date recrutement</th>\n",
              "    </tr>\n",
              "    <tr>\n",
              "      <th>nom</th>\n",
              "      <th></th>\n",
              "      <th></th>\n",
              "      <th></th>\n",
              "      <th></th>\n",
              "    </tr>\n",
              "  </thead>\n",
              "  <tbody>\n",
              "    <tr>\n",
              "      <th>Ali</th>\n",
              "      <td>1200.675</td>\n",
              "      <td>100.560</td>\n",
              "      <td>celibataire</td>\n",
              "      <td>20/10/2018</td>\n",
              "    </tr>\n",
              "    <tr>\n",
              "      <th>Sonia</th>\n",
              "      <td>2800.786</td>\n",
              "      <td>400.876</td>\n",
              "      <td>marie</td>\n",
              "      <td>30/11/2005</td>\n",
              "    </tr>\n",
              "    <tr>\n",
              "      <th>Rahma</th>\n",
              "      <td>NaN</td>\n",
              "      <td>130.987</td>\n",
              "      <td>celibataire</td>\n",
              "      <td>04/02/2017</td>\n",
              "    </tr>\n",
              "    <tr>\n",
              "      <th>Salma</th>\n",
              "      <td>2500.876</td>\n",
              "      <td>340.600</td>\n",
              "      <td>marie</td>\n",
              "      <td>03/02/2010</td>\n",
              "    </tr>\n",
              "    <tr>\n",
              "      <th>Ahmed</th>\n",
              "      <td>3100.760</td>\n",
              "      <td>NaN</td>\n",
              "      <td>marie</td>\n",
              "      <td>09/09/2004</td>\n",
              "    </tr>\n",
              "    <tr>\n",
              "      <th>Saleh</th>\n",
              "      <td>1300.876</td>\n",
              "      <td>150.900</td>\n",
              "      <td>celibataire</td>\n",
              "      <td>01/01/2017</td>\n",
              "    </tr>\n",
              "    <tr>\n",
              "      <th>Ameni</th>\n",
              "      <td>1100.660</td>\n",
              "      <td>130.870</td>\n",
              "      <td>celibataire</td>\n",
              "      <td>11/05/2019</td>\n",
              "    </tr>\n",
              "    <tr>\n",
              "      <th>Mehdi</th>\n",
              "      <td>3000.760</td>\n",
              "      <td>NaN</td>\n",
              "      <td>marie</td>\n",
              "      <td>07/07/2000</td>\n",
              "    </tr>\n",
              "    <tr>\n",
              "      <th>Salem</th>\n",
              "      <td>1505.760</td>\n",
              "      <td>159.700</td>\n",
              "      <td>celibataire</td>\n",
              "      <td>21/11/2017</td>\n",
              "    </tr>\n",
              "    <tr>\n",
              "      <th>Sameh</th>\n",
              "      <td>2700.330</td>\n",
              "      <td>400.000</td>\n",
              "      <td>marie</td>\n",
              "      <td>19/02/1999</td>\n",
              "    </tr>\n",
              "    <tr>\n",
              "      <th>Wajdi</th>\n",
              "      <td>1200.980</td>\n",
              "      <td>NaN</td>\n",
              "      <td>celibataire</td>\n",
              "      <td>27/11/2015</td>\n",
              "    </tr>\n",
              "    <tr>\n",
              "      <th>Moufida</th>\n",
              "      <td>3700.440</td>\n",
              "      <td>500.000</td>\n",
              "      <td>marie</td>\n",
              "      <td>09/12/1991</td>\n",
              "    </tr>\n",
              "  </tbody>\n",
              "</table>\n",
              "</div>"
            ],
            "text/plain": [
              "          salaire    prime   etat civil date recrutement\n",
              "nom                                                     \n",
              "Ali      1200.675  100.560  celibataire       20/10/2018\n",
              "Sonia    2800.786  400.876        marie       30/11/2005\n",
              "Rahma         NaN  130.987  celibataire       04/02/2017\n",
              "Salma    2500.876  340.600        marie       03/02/2010\n",
              "Ahmed    3100.760      NaN        marie       09/09/2004\n",
              "Saleh    1300.876  150.900  celibataire       01/01/2017\n",
              "Ameni    1100.660  130.870  celibataire       11/05/2019\n",
              "Mehdi    3000.760      NaN        marie       07/07/2000\n",
              "Salem    1505.760  159.700  celibataire       21/11/2017\n",
              "Sameh    2700.330  400.000        marie       19/02/1999\n",
              "Wajdi    1200.980      NaN  celibataire       27/11/2015\n",
              "Moufida  3700.440  500.000        marie       09/12/1991"
            ]
          },
          "execution_count": 9,
          "metadata": {},
          "output_type": "execute_result"
        }
      ],
      "source": [
        "# données d'entrée X (Salaires, primes, etat civile, date recrutement)\n",
        "X = df_employes[['salaire','prime','etat civil','date recrutement']]\n",
        "X\n",
        "\n"
      ]
    },
    {
      "cell_type": "markdown",
      "metadata": {
        "id": "93Gl7Au1NkUs"
      },
      "source": [
        "Données de sortie y\n",
        "\n",
        "C'est la dernière colonne 'classe' de df_employes"
      ]
    },
    {
      "cell_type": "code",
      "execution_count": 10,
      "metadata": {
        "colab": {
          "base_uri": "https://localhost:8080/"
        },
        "id": "nez2XaR31_bz",
        "outputId": "71dcc5a4-b83d-4235-c916-23cf7cf8d5fe"
      },
      "outputs": [
        {
          "data": {
            "text/plain": [
              "nom\n",
              "Ali        junior\n",
              "Sonia      senior\n",
              "Rahma      junior\n",
              "Salma      senior\n",
              "Ahmed      senior\n",
              "Saleh      junior\n",
              "Ameni      junior\n",
              "Mehdi      senior\n",
              "Salem      junior\n",
              "Sameh      senior\n",
              "Wajdi      junior\n",
              "Moufida    senior\n",
              "Name: classe, dtype: object"
            ]
          },
          "execution_count": 10,
          "metadata": {},
          "output_type": "execute_result"
        }
      ],
      "source": [
        "# données de sortie y (classe)\n",
        "y = df_employes['classe']\n",
        "y"
      ]
    },
    {
      "cell_type": "markdown",
      "metadata": {
        "id": "_xDe8P_2caT7"
      },
      "source": [
        "**2.3. Division des données en train**"
      ]
    },
    {
      "cell_type": "markdown",
      "metadata": {
        "id": "R4dT3sFIN6vm"
      },
      "source": [
        "Les données sont divisées en train (60%) et test (40%)\n",
        "\n",
        "Diviser X en X_train et X_test\n",
        "\n",
        "Diviser y en y_train et y_test\n",
        "\n",
        "Note : \n",
        "- Utiliser la fonction train_test_split() du module sklearn.model_selection\n",
        "- Précisier le paramètre train_size = 60% des données\n",
        "- Précisier le paramètre stratify  qui prend y. Il permet de garantir la même répartition entre train et test (en terme des échantillons/classe) \n"
      ]
    },
    {
      "cell_type": "code",
      "execution_count": 11,
      "metadata": {
        "id": "P5T3UegX2Bpe"
      },
      "outputs": [],
      "source": [
        "# les données sont divisées en 2 parties: 60% pour l'entrainement et 40% pour le test\n",
        "# Diviser X en 2 parties: X_train et X_test\n",
        "# Diviser y en 2 parties: y_train et y_test\n",
        "\n",
        "from sklearn.model_selection import train_test_split\n",
        "\n",
        "X_train, X_test, y_train, y_test = train_test_split(X, y, test_size=0.4, random_state=0)"
      ]
    },
    {
      "cell_type": "markdown",
      "metadata": {
        "id": "pkB24RjHcjRr"
      },
      "source": [
        "**2.4 Transformation des données d'apprentissage d'entrée de format brute en format numérique**"
      ]
    },
    {
      "cell_type": "markdown",
      "metadata": {
        "id": "4XapHpVgQ__M"
      },
      "source": [
        "Les données d'apprentissage d'entrée ont des types hétérogènes et non numériques. Ainsi, elles sont pas pêtes pour l'apprentissage du modèle de classifieur.\n",
        "\n",
        "Cette étape consiste à transformer les données d'apprentissage en format nuémrique comme suit :\n",
        "- Créer une copie de dataframe des données d'entrée d'apprentissage sur laquelle on applique le reste de travail\n",
        "- Remplir les valeurs manquantes\n",
        "- Remplacer le salaire et le prime par le revenue (revenue=salaire+prime)\n",
        "- Remplacer la date de recrutement par l'ancienneté de l'employé\n",
        "- Remplacer les valeurs discrètes de l'état civil par leurs codes binaires OHE"
      ]
    },
    {
      "cell_type": "code",
      "execution_count": 12,
      "metadata": {
        "colab": {
          "base_uri": "https://localhost:8080/",
          "height": 300
        },
        "id": "ELxKa4XA2GVY",
        "outputId": "a42a60fb-0d90-4544-94d7-1ba20c961ff4"
      },
      "outputs": [
        {
          "data": {
            "text/html": [
              "<div>\n",
              "<style scoped>\n",
              "    .dataframe tbody tr th:only-of-type {\n",
              "        vertical-align: middle;\n",
              "    }\n",
              "\n",
              "    .dataframe tbody tr th {\n",
              "        vertical-align: top;\n",
              "    }\n",
              "\n",
              "    .dataframe thead th {\n",
              "        text-align: right;\n",
              "    }\n",
              "</style>\n",
              "<table border=\"1\" class=\"dataframe\">\n",
              "  <thead>\n",
              "    <tr style=\"text-align: right;\">\n",
              "      <th></th>\n",
              "      <th>salaire</th>\n",
              "      <th>prime</th>\n",
              "      <th>etat civil</th>\n",
              "      <th>date recrutement</th>\n",
              "    </tr>\n",
              "    <tr>\n",
              "      <th>nom</th>\n",
              "      <th></th>\n",
              "      <th></th>\n",
              "      <th></th>\n",
              "      <th></th>\n",
              "    </tr>\n",
              "  </thead>\n",
              "  <tbody>\n",
              "    <tr>\n",
              "      <th>Salem</th>\n",
              "      <td>1505.760</td>\n",
              "      <td>159.700</td>\n",
              "      <td>celibataire</td>\n",
              "      <td>21/11/2017</td>\n",
              "    </tr>\n",
              "    <tr>\n",
              "      <th>Sonia</th>\n",
              "      <td>2800.786</td>\n",
              "      <td>400.876</td>\n",
              "      <td>marie</td>\n",
              "      <td>30/11/2005</td>\n",
              "    </tr>\n",
              "    <tr>\n",
              "      <th>Mehdi</th>\n",
              "      <td>3000.760</td>\n",
              "      <td>NaN</td>\n",
              "      <td>marie</td>\n",
              "      <td>07/07/2000</td>\n",
              "    </tr>\n",
              "    <tr>\n",
              "      <th>Sameh</th>\n",
              "      <td>2700.330</td>\n",
              "      <td>400.000</td>\n",
              "      <td>marie</td>\n",
              "      <td>19/02/1999</td>\n",
              "    </tr>\n",
              "    <tr>\n",
              "      <th>Salma</th>\n",
              "      <td>2500.876</td>\n",
              "      <td>340.600</td>\n",
              "      <td>marie</td>\n",
              "      <td>03/02/2010</td>\n",
              "    </tr>\n",
              "    <tr>\n",
              "      <th>Ali</th>\n",
              "      <td>1200.675</td>\n",
              "      <td>100.560</td>\n",
              "      <td>celibataire</td>\n",
              "      <td>20/10/2018</td>\n",
              "    </tr>\n",
              "    <tr>\n",
              "      <th>Saleh</th>\n",
              "      <td>1300.876</td>\n",
              "      <td>150.900</td>\n",
              "      <td>celibataire</td>\n",
              "      <td>01/01/2017</td>\n",
              "    </tr>\n",
              "  </tbody>\n",
              "</table>\n",
              "</div>"
            ],
            "text/plain": [
              "        salaire    prime   etat civil date recrutement\n",
              "nom                                                   \n",
              "Salem  1505.760  159.700  celibataire       21/11/2017\n",
              "Sonia  2800.786  400.876        marie       30/11/2005\n",
              "Mehdi  3000.760      NaN        marie       07/07/2000\n",
              "Sameh  2700.330  400.000        marie       19/02/1999\n",
              "Salma  2500.876  340.600        marie       03/02/2010\n",
              "Ali    1200.675  100.560  celibataire       20/10/2018\n",
              "Saleh  1300.876  150.900  celibataire       01/01/2017"
            ]
          },
          "execution_count": 12,
          "metadata": {},
          "output_type": "execute_result"
        }
      ],
      "source": [
        "# Créer une copie des données d'entrée d'apprentissage (X_train) en X_\n",
        "X_train_=X_train.copy()\n",
        "# la transformation de X_train_\n",
        "# ....\n",
        "X_train_"
      ]
    },
    {
      "cell_type": "markdown",
      "metadata": {
        "id": "ObeBf3iCOWC-"
      },
      "source": [
        "**2.5. Post-traitement des données d'apprentissage**"
      ]
    },
    {
      "cell_type": "markdown",
      "metadata": {
        "id": "0j9IcWxvOiXX"
      },
      "source": [
        "Normalisation des données d'apprentissage d'entrée \n",
        "\n",
        "La normalisation de X_train_ donne lieu à X_train_ss"
      ]
    },
    {
      "cell_type": "code",
      "execution_count": 17,
      "metadata": {
        "id": "RVghJRZZ_UoO"
      },
      "outputs": [
        {
          "ename": "ValueError",
          "evalue": "could not convert string to float: 'celibataire'",
          "output_type": "error",
          "traceback": [
            "\u001b[0;31m---------------------------------------------------------------------------\u001b[0m",
            "\u001b[0;31mValueError\u001b[0m                                Traceback (most recent call last)",
            "Cell \u001b[0;32mIn [17], line 7\u001b[0m\n\u001b[1;32m      4\u001b[0m \u001b[39mfrom\u001b[39;00m \u001b[39msklearn\u001b[39;00m\u001b[39m.\u001b[39;00m\u001b[39mpreprocessing\u001b[39;00m \u001b[39mimport\u001b[39;00m StandardScaler\n\u001b[1;32m      6\u001b[0m scaler \u001b[39m=\u001b[39m StandardScaler()\n\u001b[0;32m----> 7\u001b[0m scaler\u001b[39m.\u001b[39;49mfit(X_train_)\n\u001b[1;32m      8\u001b[0m X_train_ss \u001b[39m=\u001b[39m scaler\u001b[39m.\u001b[39mtransform(X_train_)\n\u001b[1;32m      9\u001b[0m X_train_ss\n",
            "File \u001b[0;32m~/.local/lib/python3.9/site-packages/sklearn/preprocessing/_data.py:809\u001b[0m, in \u001b[0;36mStandardScaler.fit\u001b[0;34m(self, X, y, sample_weight)\u001b[0m\n\u001b[1;32m    807\u001b[0m \u001b[39m# Reset internal state before fitting\u001b[39;00m\n\u001b[1;32m    808\u001b[0m \u001b[39mself\u001b[39m\u001b[39m.\u001b[39m_reset()\n\u001b[0;32m--> 809\u001b[0m \u001b[39mreturn\u001b[39;00m \u001b[39mself\u001b[39;49m\u001b[39m.\u001b[39;49mpartial_fit(X, y, sample_weight)\n",
            "File \u001b[0;32m~/.local/lib/python3.9/site-packages/sklearn/preprocessing/_data.py:844\u001b[0m, in \u001b[0;36mStandardScaler.partial_fit\u001b[0;34m(self, X, y, sample_weight)\u001b[0m\n\u001b[1;32m    812\u001b[0m \u001b[39m\"\"\"Online computation of mean and std on X for later scaling.\u001b[39;00m\n\u001b[1;32m    813\u001b[0m \n\u001b[1;32m    814\u001b[0m \u001b[39mAll of X is processed as a single batch. This is intended for cases\u001b[39;00m\n\u001b[0;32m   (...)\u001b[0m\n\u001b[1;32m    841\u001b[0m \u001b[39m    Fitted scaler.\u001b[39;00m\n\u001b[1;32m    842\u001b[0m \u001b[39m\"\"\"\u001b[39;00m\n\u001b[1;32m    843\u001b[0m first_call \u001b[39m=\u001b[39m \u001b[39mnot\u001b[39;00m \u001b[39mhasattr\u001b[39m(\u001b[39mself\u001b[39m, \u001b[39m\"\u001b[39m\u001b[39mn_samples_seen_\u001b[39m\u001b[39m\"\u001b[39m)\n\u001b[0;32m--> 844\u001b[0m X \u001b[39m=\u001b[39m \u001b[39mself\u001b[39;49m\u001b[39m.\u001b[39;49m_validate_data(\n\u001b[1;32m    845\u001b[0m     X,\n\u001b[1;32m    846\u001b[0m     accept_sparse\u001b[39m=\u001b[39;49m(\u001b[39m\"\u001b[39;49m\u001b[39mcsr\u001b[39;49m\u001b[39m\"\u001b[39;49m, \u001b[39m\"\u001b[39;49m\u001b[39mcsc\u001b[39;49m\u001b[39m\"\u001b[39;49m),\n\u001b[1;32m    847\u001b[0m     dtype\u001b[39m=\u001b[39;49mFLOAT_DTYPES,\n\u001b[1;32m    848\u001b[0m     force_all_finite\u001b[39m=\u001b[39;49m\u001b[39m\"\u001b[39;49m\u001b[39mallow-nan\u001b[39;49m\u001b[39m\"\u001b[39;49m,\n\u001b[1;32m    849\u001b[0m     reset\u001b[39m=\u001b[39;49mfirst_call,\n\u001b[1;32m    850\u001b[0m )\n\u001b[1;32m    851\u001b[0m n_features \u001b[39m=\u001b[39m X\u001b[39m.\u001b[39mshape[\u001b[39m1\u001b[39m]\n\u001b[1;32m    853\u001b[0m \u001b[39mif\u001b[39;00m sample_weight \u001b[39mis\u001b[39;00m \u001b[39mnot\u001b[39;00m \u001b[39mNone\u001b[39;00m:\n",
            "File \u001b[0;32m~/.local/lib/python3.9/site-packages/sklearn/base.py:577\u001b[0m, in \u001b[0;36mBaseEstimator._validate_data\u001b[0;34m(self, X, y, reset, validate_separately, **check_params)\u001b[0m\n\u001b[1;32m    575\u001b[0m     \u001b[39mraise\u001b[39;00m \u001b[39mValueError\u001b[39;00m(\u001b[39m\"\u001b[39m\u001b[39mValidation should be done on X, y or both.\u001b[39m\u001b[39m\"\u001b[39m)\n\u001b[1;32m    576\u001b[0m \u001b[39melif\u001b[39;00m \u001b[39mnot\u001b[39;00m no_val_X \u001b[39mand\u001b[39;00m no_val_y:\n\u001b[0;32m--> 577\u001b[0m     X \u001b[39m=\u001b[39m check_array(X, input_name\u001b[39m=\u001b[39;49m\u001b[39m\"\u001b[39;49m\u001b[39mX\u001b[39;49m\u001b[39m\"\u001b[39;49m, \u001b[39m*\u001b[39;49m\u001b[39m*\u001b[39;49mcheck_params)\n\u001b[1;32m    578\u001b[0m     out \u001b[39m=\u001b[39m X\n\u001b[1;32m    579\u001b[0m \u001b[39melif\u001b[39;00m no_val_X \u001b[39mand\u001b[39;00m \u001b[39mnot\u001b[39;00m no_val_y:\n",
            "File \u001b[0;32m~/.local/lib/python3.9/site-packages/sklearn/utils/validation.py:856\u001b[0m, in \u001b[0;36mcheck_array\u001b[0;34m(array, accept_sparse, accept_large_sparse, dtype, order, copy, force_all_finite, ensure_2d, allow_nd, ensure_min_samples, ensure_min_features, estimator, input_name)\u001b[0m\n\u001b[1;32m    854\u001b[0m         array \u001b[39m=\u001b[39m array\u001b[39m.\u001b[39mastype(dtype, casting\u001b[39m=\u001b[39m\u001b[39m\"\u001b[39m\u001b[39munsafe\u001b[39m\u001b[39m\"\u001b[39m, copy\u001b[39m=\u001b[39m\u001b[39mFalse\u001b[39;00m)\n\u001b[1;32m    855\u001b[0m     \u001b[39melse\u001b[39;00m:\n\u001b[0;32m--> 856\u001b[0m         array \u001b[39m=\u001b[39m np\u001b[39m.\u001b[39;49masarray(array, order\u001b[39m=\u001b[39;49morder, dtype\u001b[39m=\u001b[39;49mdtype)\n\u001b[1;32m    857\u001b[0m \u001b[39mexcept\u001b[39;00m ComplexWarning \u001b[39mas\u001b[39;00m complex_warning:\n\u001b[1;32m    858\u001b[0m     \u001b[39mraise\u001b[39;00m \u001b[39mValueError\u001b[39;00m(\n\u001b[1;32m    859\u001b[0m         \u001b[39m\"\u001b[39m\u001b[39mComplex data not supported\u001b[39m\u001b[39m\\n\u001b[39;00m\u001b[39m{}\u001b[39;00m\u001b[39m\\n\u001b[39;00m\u001b[39m\"\u001b[39m\u001b[39m.\u001b[39mformat(array)\n\u001b[1;32m    860\u001b[0m     ) \u001b[39mfrom\u001b[39;00m \u001b[39mcomplex_warning\u001b[39;00m\n",
            "File \u001b[0;32m~/.local/lib/python3.9/site-packages/pandas/core/generic.py:2070\u001b[0m, in \u001b[0;36mNDFrame.__array__\u001b[0;34m(self, dtype)\u001b[0m\n\u001b[1;32m   2069\u001b[0m \u001b[39mdef\u001b[39;00m \u001b[39m__array__\u001b[39m(\u001b[39mself\u001b[39m, dtype: npt\u001b[39m.\u001b[39mDTypeLike \u001b[39m|\u001b[39m \u001b[39mNone\u001b[39;00m \u001b[39m=\u001b[39m \u001b[39mNone\u001b[39;00m) \u001b[39m-\u001b[39m\u001b[39m>\u001b[39m np\u001b[39m.\u001b[39mndarray:\n\u001b[0;32m-> 2070\u001b[0m     \u001b[39mreturn\u001b[39;00m np\u001b[39m.\u001b[39;49masarray(\u001b[39mself\u001b[39;49m\u001b[39m.\u001b[39;49m_values, dtype\u001b[39m=\u001b[39;49mdtype)\n",
            "\u001b[0;31mValueError\u001b[0m: could not convert string to float: 'celibataire'"
          ]
        }
      ],
      "source": [
        "# Normalisation des données d'apprentissage d'entrée\n",
        "# la normalisation de X_train_ donne lieu à X_train_ss\n",
        "\n",
        "from sklearn.preprocessing import StandardScaler\n",
        "\n",
        "scaler = StandardScaler()\n",
        "scaler.fit(X_train_)\n",
        "X_train_ss = scaler.transform(X_train_)\n",
        "X_train_ss"
      ]
    },
    {
      "cell_type": "markdown",
      "metadata": {
        "id": "MThEQvpaOl4L"
      },
      "source": [
        "Réduction de dimension des données d'apprentissage d'entrée\n",
        "\n",
        "La réduction de dimension de X_train_ss donne lieu à X_train_pca"
      ]
    },
    {
      "cell_type": "code",
      "execution_count": 15,
      "metadata": {
        "id": "66ku7VJe_ZcF"
      },
      "outputs": [
        {
          "ename": "NameError",
          "evalue": "name 'X_train_ss' is not defined",
          "output_type": "error",
          "traceback": [
            "\u001b[0;31m---------------------------------------------------------------------------\u001b[0m",
            "\u001b[0;31mNameError\u001b[0m                                 Traceback (most recent call last)",
            "Cell \u001b[0;32mIn [15], line 7\u001b[0m\n\u001b[1;32m      4\u001b[0m \u001b[39mfrom\u001b[39;00m \u001b[39msklearn\u001b[39;00m\u001b[39m.\u001b[39;00m\u001b[39mdecomposition\u001b[39;00m \u001b[39mimport\u001b[39;00m PCA\n\u001b[1;32m      6\u001b[0m pca \u001b[39m=\u001b[39m PCA(n_components\u001b[39m=\u001b[39m\u001b[39m2\u001b[39m)\n\u001b[0;32m----> 7\u001b[0m X_train_pca \u001b[39m=\u001b[39m pca\u001b[39m.\u001b[39mfit_transform(X_train_ss)\n\u001b[1;32m      9\u001b[0m X_train_pca\n",
            "\u001b[0;31mNameError\u001b[0m: name 'X_train_ss' is not defined"
          ]
        }
      ],
      "source": [
        "# Réduction de dimension des données d'entrée d'apprentissage\n",
        "# la reduction de dimension de X_train_ss donne lieu à X_train_pca\n",
        "\n",
        "from sklearn.decomposition import PCA\n",
        "\n",
        "pca = PCA(n_components=2)\n",
        "X_train_pca = pca.fit_transform(X_train_ss)\n",
        "\n",
        "X_train_pca\n"
      ]
    },
    {
      "cell_type": "markdown",
      "metadata": {
        "id": "mep8UlCNctvb"
      },
      "source": [
        "**2.6. Apprentissage avec KNN**"
      ]
    },
    {
      "cell_type": "markdown",
      "metadata": {
        "id": "wgPJJDi2JLlK"
      },
      "source": [
        "Pour appliquer KNN, importer la classe KNeighborsClassifier du module sklearn.neighbors.\n",
        "\n",
        "Créer une instance et précisier l'hyperparamètre n_neighbors=2\n",
        "\n",
        "Appeler la fonction fit() et passer X_train_pca et y_train"
      ]
    },
    {
      "cell_type": "code",
      "execution_count": null,
      "metadata": {
        "id": "tOcBPqaxcwc1"
      },
      "outputs": [],
      "source": [
        "#\n",
        "from sklearn.neighbors import KNeighborsClassifier\n",
        "\n",
        "knn=KNeighborsClassifier(n_neighbors=2)\n",
        "knn.fit(X_train_pca,y_train)"
      ]
    },
    {
      "cell_type": "markdown",
      "metadata": {
        "id": "JLhAep77cw-a"
      },
      "source": [
        "**2.7. Traitement des données de test**"
      ]
    },
    {
      "cell_type": "markdown",
      "metadata": {
        "id": "Bf36-JIHTpVy"
      },
      "source": [
        "Appliquer le même traitement fait sur les données d'apprentissage d'entrée (transformation en format numérique et  post-traitement)"
      ]
    },
    {
      "cell_type": "code",
      "execution_count": null,
      "metadata": {
        "id": "De7lRwpgc47z"
      },
      "outputs": [],
      "source": [
        "# Transformation des données de test\n",
        "# Créer une copie des données d'entrée d'apprentissage (X_train) en X_\n",
        "X_test_=X_test.copy()\n",
        "# ...\n",
        "X_test_.fillna({'salaire': X_test_['salaire'].mean(),\n",
        "                'prime': X_test_['prime'].mean()}, inplace=True)"
      ]
    },
    {
      "cell_type": "markdown",
      "metadata": {
        "id": "VCP3wBQzMmXv"
      },
      "source": [
        "Normaliser et réduire la dimension des données de test"
      ]
    },
    {
      "cell_type": "code",
      "execution_count": null,
      "metadata": {
        "id": "lkuC7UtsdTbj"
      },
      "outputs": [],
      "source": [
        "#\n",
        "X_test_pca"
      ]
    },
    {
      "cell_type": "markdown",
      "metadata": {
        "id": "YetGDdtrc1WD"
      },
      "source": [
        "**2.8. Evaluation de classifieur avec les données de test**"
      ]
    },
    {
      "cell_type": "markdown",
      "metadata": {
        "id": "9ThfYVXOUHmi"
      },
      "source": [
        "Prédiction des données de test"
      ]
    },
    {
      "cell_type": "code",
      "execution_count": null,
      "metadata": {
        "colab": {
          "base_uri": "https://localhost:8080/"
        },
        "id": "TpPVDvio2mrT",
        "outputId": "acae6449-88f7-4495-9677-e9ea29cea708"
      },
      "outputs": [
        {
          "data": {
            "text/plain": [
              "array(['senior', 'junior', 'junior', 'junior', 'senior'], dtype=object)"
            ]
          },
          "execution_count": 60,
          "metadata": {},
          "output_type": "execute_result"
        }
      ],
      "source": [
        "#\n",
        "y_test_predicted"
      ]
    },
    {
      "cell_type": "markdown",
      "metadata": {
        "id": "VNNbS3uyUpd6"
      },
      "source": [
        "Score d'accuracy"
      ]
    },
    {
      "cell_type": "code",
      "execution_count": null,
      "metadata": {
        "colab": {
          "base_uri": "https://localhost:8080/"
        },
        "id": "5j8kufE63W0i",
        "outputId": "8fb3e827-2fe8-46bc-d678-3d99a143bb42"
      },
      "outputs": [
        {
          "name": "stdout",
          "output_type": "stream",
          "text": [
            "accuracy=100.00\n"
          ]
        }
      ],
      "source": [
        "#"
      ]
    },
    {
      "cell_type": "markdown",
      "metadata": {
        "id": "FHMmCe-0Ur2D"
      },
      "source": [
        "Matrice de confusion"
      ]
    },
    {
      "cell_type": "code",
      "execution_count": null,
      "metadata": {
        "colab": {
          "base_uri": "https://localhost:8080/"
        },
        "id": "mbHlKTTXocz5",
        "outputId": "f17abb2e-6431-4a46-feb4-a4fc10f3e632"
      },
      "outputs": [
        {
          "data": {
            "text/plain": [
              "array([[3, 0],\n",
              "       [0, 2]])"
            ]
          },
          "execution_count": 62,
          "metadata": {},
          "output_type": "execute_result"
        }
      ],
      "source": [
        "#"
      ]
    },
    {
      "cell_type": "markdown",
      "metadata": {
        "id": "_-m8ScPvU4fb"
      },
      "source": [
        "Rappel et pércision"
      ]
    },
    {
      "cell_type": "code",
      "execution_count": null,
      "metadata": {
        "id": "8HbGZhKmU3Ox"
      },
      "outputs": [],
      "source": [
        "#"
      ]
    },
    {
      "cell_type": "markdown",
      "metadata": {
        "id": "2ycUbwFJU0B1"
      },
      "source": [
        "**2.9. Visualisation des données**"
      ]
    },
    {
      "cell_type": "code",
      "execution_count": null,
      "metadata": {
        "id": "vsFLj5ktVCi8"
      },
      "outputs": [],
      "source": [
        "classe_junior=#\n",
        "classe_senior=#"
      ]
    },
    {
      "cell_type": "code",
      "execution_count": null,
      "metadata": {
        "id": "hvqS-2EyU31c"
      },
      "outputs": [],
      "source": [
        "#"
      ]
    }
  ],
  "metadata": {
    "colab": {
      "collapsed_sections": [],
      "provenance": []
    },
    "kernelspec": {
      "display_name": "Python 3.9.2 64-bit",
      "language": "python",
      "name": "python3"
    },
    "language_info": {
      "codemirror_mode": {
        "name": "ipython",
        "version": 3
      },
      "file_extension": ".py",
      "mimetype": "text/x-python",
      "name": "python",
      "nbconvert_exporter": "python",
      "pygments_lexer": "ipython3",
      "version": "3.9.2"
    },
    "vscode": {
      "interpreter": {
        "hash": "e7370f93d1d0cde622a1f8e1c04877d8463912d04d973331ad4851f04de6915a"
      }
    }
  },
  "nbformat": 4,
  "nbformat_minor": 0
}
